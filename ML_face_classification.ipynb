{
  "cells": [
    {
      "cell_type": "code",
      "execution_count": 14,
      "metadata": {
        "id": "2E4Rzpj0Tjtl"
      },
      "outputs": [],
      "source": [
        "import os\n",
        "import cv2\n",
        "import random\n",
        "import pandas as pd\n",
        "import numpy as np\n",
        "\n",
        "from tqdm import tqdm\n",
        "import matplotlib.pyplot as plt\n",
        "import seaborn as sns; sns.set()\n",
        "%matplotlib inline\n",
        "\n",
        "from sklearn.model_selection import train_test_split, GridSearchCV, KFold\n",
        "from sklearn.svm import SVC\n",
        "from sklearn.decomposition import PCA, KernelPCA\n",
        "from sklearn.preprocessing import StandardScaler\n",
        "from sklearn.ensemble import ExtraTreesClassifier, RandomForestClassifier\n",
        "from time import time\n",
        "from sklearn.ensemble import StackingClassifier\n",
        "from sklearn.pipeline import make_pipeline\n",
        "from sklearn.metrics import accuracy_score\n",
        "from sklearn import preprocessing\n",
        "\n",
        "import glob\n",
        "\n",
        "from skimage.io import imread\n",
        "from skimage.transform import resize\n",
        "from skimage.feature import hog\n",
        "\n",
        "import albumentations as A\n",
        "from albumentations import (\n",
        "    HorizontalFlip, IAAPerspective, ShiftScaleRotate, CLAHE, RandomRotate90,\n",
        "    Transpose, ShiftScaleRotate, Blur, OpticalDistortion, GridDistortion, HueSaturationValue,\n",
        "    IAAAdditiveGaussianNoise, GaussNoise, MotionBlur, MedianBlur, IAAPiecewiseAffine,\n",
        "    IAASharpen, IAAEmboss, RandomBrightnessContrast, Flip, OneOf, Compose\n",
        ")"
      ]
    },
    {
      "cell_type": "markdown",
      "source": [
        "Функция для вывода изображений и оценки их текущего состояния:"
      ],
      "metadata": {
        "id": "M5215bA0nsSy"
      }
    },
    {
      "cell_type": "code",
      "source": [
        "def show_images(images, labels, randomize=True, rows=3, columns=10):\n",
        "    fig, axx = plt.subplots(rows, columns, figsize=(15, rows*2))\n",
        "    for i in range(rows):\n",
        "        for j in range(columns):\n",
        "            if randomize:\n",
        "                idx = random.randint(0, len(images)-1)\n",
        "            else:\n",
        "                idx = i * columns + j\n",
        "            if idx >= len(images):\n",
        "                break\n",
        "            img = images[idx]\n",
        "            title = labels[idx]\n",
        "            axx[i][j].axis(\"off\")\n",
        "            axx[i][j].set_title(title)\n",
        "            axx[i][j].imshow(img, cmap='bone')"
      ],
      "metadata": {
        "id": "1CnVZDgKHSdN"
      },
      "execution_count": 15,
      "outputs": []
    },
    {
      "cell_type": "markdown",
      "source": [
        "Перед началом работы с изображениями отметим, что тренировочный датасет довольно маленький по сравнению с тестовым.\n",
        "\n",
        "---\n",
        "\n"
      ],
      "metadata": {
        "id": "39gmXN3Jpbp7"
      }
    },
    {
      "cell_type": "markdown",
      "source": [
        "Сравнив фотографии в датасете для обучения и тестирования в соревновании можно выявить, фотографии каких людей оказались отобраны. Далее можно увеличить датасет для обучения с помощью фотографий этих людей в публичном доступе (из хранилища для сбора фотографий для соревнования)."
      ],
      "metadata": {
        "id": "-kraJ6mon57t"
      }
    },
    {
      "cell_type": "markdown",
      "source": [
        "При считывании будем проводить предварительную обработку фотографий: переведём их в черно-белый и обрежем края, чтобы убрать лишние детали."
      ],
      "metadata": {
        "id": "BtbF7T8som21"
      }
    },
    {
      "cell_type": "code",
      "execution_count": 16,
      "metadata": {
        "id": "EbM-2pNBw4KV",
        "colab": {
          "base_uri": "https://localhost:8080/"
        },
        "outputId": "758b8a82-75c7-46dd-8c5c-b8fe6af1f30e"
      },
      "outputs": [
        {
          "output_type": "stream",
          "name": "stderr",
          "text": [
            "  0%|                                                                                           | 0/10 [00:00<?, ?it/s]\n",
            "0it [00:00, ?it/s]\u001b[A\n",
            "1it [00:00,  9.59it/s]\u001b[A\n",
            "2it [00:00,  9.34it/s]\u001b[A\n",
            "3it [00:00,  9.40it/s]\u001b[A\n",
            "4it [00:00,  9.62it/s]\u001b[A\n",
            "5it [00:00,  9.66it/s]\u001b[A\n",
            "6it [00:00,  9.40it/s]\u001b[A\n",
            "7it [00:00,  9.27it/s]\u001b[A\n",
            "9it [00:00,  9.39it/s]\u001b[A\n",
            "10it [00:01,  9.17it/s]\u001b[A\n",
            "12it [00:01,  9.40it/s]\u001b[A\n",
            "13it [00:01,  9.39it/s]\u001b[A\n",
            "14it [00:01,  9.43it/s]\u001b[A\n",
            "16it [00:01,  9.50it/s]\u001b[A\n",
            "17it [00:01,  9.54it/s]\u001b[A\n",
            "18it [00:01,  9.47it/s]\u001b[A\n",
            "19it [00:02,  9.40it/s]\u001b[A\n",
            "20it [00:02,  9.49it/s]\u001b[A\n",
            "22it [00:02,  9.50it/s]\u001b[A\n",
            "23it [00:02,  9.30it/s]\u001b[A\n",
            "24it [00:02,  9.37it/s]\u001b[A\n",
            "25it [00:02,  9.28it/s]\u001b[A\n",
            "27it [00:02,  9.67it/s]\u001b[A\n",
            "28it [00:02,  9.49it/s]\u001b[A\n",
            "29it [00:03,  9.38it/s]\u001b[A\n",
            "30it [00:03,  9.27it/s]\u001b[A\n",
            "31it [00:03,  9.45it/s]\u001b[A\n",
            "33it [00:03,  9.38it/s]\u001b[A\n",
            "34it [00:03,  9.45it/s]\u001b[A\n",
            "35it [00:03,  9.36it/s]\u001b[A\n",
            "36it [00:03,  9.32it/s]\u001b[A\n",
            "38it [00:04,  9.52it/s]\u001b[A\n",
            "39it [00:04,  9.55it/s]\u001b[A\n",
            "40it [00:04,  9.45it/s]\u001b[A\n",
            "42it [00:04,  9.50it/s]\u001b[A\n",
            "44it [00:04,  9.63it/s]\u001b[A\n",
            "45it [00:04,  9.32it/s]\u001b[A\n",
            "46it [00:04,  9.34it/s]\u001b[A\n",
            "47it [00:04,  9.35it/s]\u001b[A\n",
            "48it [00:05,  9.14it/s]\u001b[A\n",
            "49it [00:05,  9.35it/s]\u001b[A\n",
            "52it [00:05,  9.45it/s]\n",
            " 10%|████████▎                                                                          | 1/10 [00:05<00:49,  5.50s/it]\n",
            "0it [00:00, ?it/s]\u001b[A\n",
            "3it [00:00, 29.33it/s]\u001b[A\n",
            "6it [00:00, 15.34it/s]\u001b[A\n",
            "8it [00:00, 15.08it/s]\u001b[A\n",
            "10it [00:00, 13.87it/s]\u001b[A\n",
            "12it [00:00, 13.53it/s]\u001b[A\n",
            "14it [00:00, 13.14it/s]\u001b[A\n",
            "16it [00:01, 13.23it/s]\u001b[A\n",
            "18it [00:01, 13.06it/s]\u001b[A\n",
            "20it [00:01, 13.32it/s]\u001b[A\n",
            "22it [00:01, 13.33it/s]\u001b[A\n",
            "24it [00:01, 12.91it/s]\u001b[A\n",
            "26it [00:01, 12.81it/s]\u001b[A\n",
            "28it [00:02, 13.20it/s]\u001b[A\n",
            "30it [00:02, 12.95it/s]\u001b[A\n",
            "32it [00:02, 11.82it/s]\u001b[A\n",
            "34it [00:02, 11.19it/s]\u001b[A\n",
            "36it [00:02, 10.60it/s]\u001b[A\n",
            "38it [00:03, 10.26it/s]\u001b[A\n",
            "40it [00:03, 10.03it/s]\u001b[A\n",
            "42it [00:03,  9.71it/s]\u001b[A\n",
            "43it [00:03,  9.68it/s]\u001b[A\n",
            "50it [00:03, 13.45it/s]\n",
            " 20%|████████████████▌                                                                  | 2/10 [00:09<00:35,  4.45s/it]\n",
            "0it [00:00, ?it/s]\u001b[A\n",
            "3it [00:00, 26.85it/s]\u001b[A\n",
            "7it [00:00, 34.22it/s]\u001b[A\n",
            "11it [00:00, 32.05it/s]\u001b[A\n",
            "15it [00:00, 28.28it/s]\u001b[A\n",
            "18it [00:00, 27.13it/s]\u001b[A\n",
            "21it [00:00, 27.25it/s]\u001b[A\n",
            "24it [00:00, 26.42it/s]\u001b[A\n",
            "27it [00:00, 26.22it/s]\u001b[A\n",
            "30it [00:01, 25.01it/s]\u001b[A\n",
            "34it [00:01, 28.93it/s]\u001b[A\n",
            "38it [00:01, 29.44it/s]\u001b[A\n",
            "42it [00:01, 30.50it/s]\u001b[A\n",
            "46it [00:01, 30.11it/s]\u001b[A\n",
            "50it [00:01, 29.36it/s]\u001b[A\n",
            "53it [00:01, 28.25it/s]\u001b[A\n",
            "56it [00:01, 27.87it/s]\u001b[A\n",
            "60it [00:02, 29.27it/s]\u001b[A\n",
            "63it [00:02, 28.30it/s]\u001b[A\n",
            "66it [00:02, 28.72it/s]\u001b[A\n",
            "69it [00:02, 25.60it/s]\u001b[A\n",
            "73it [00:02, 28.03it/s]\u001b[A\n",
            "78it [00:02, 28.41it/s]\n",
            " 30%|████████████████████████▉                                                          | 3/10 [00:11<00:25,  3.67s/it]\n",
            "0it [00:00, ?it/s]\u001b[A\n",
            "50it [00:00, 474.57it/s]\n",
            " 40%|█████████████████████████████████▏                                                 | 4/10 [00:12<00:13,  2.27s/it]\n",
            "0it [00:00, ?it/s]\u001b[A\n",
            "2it [00:00, 13.94it/s]\u001b[A\n",
            "4it [00:00, 14.87it/s]\u001b[A\n",
            "6it [00:00, 15.51it/s]\u001b[A\n",
            "8it [00:00, 14.70it/s]\u001b[A\n",
            "10it [00:00, 13.92it/s]\u001b[A\n",
            "12it [00:00, 13.03it/s]\u001b[A\n",
            "14it [00:01, 13.52it/s]\u001b[A\n",
            "16it [00:01, 13.11it/s]\u001b[A\n",
            "18it [00:01, 13.08it/s]\u001b[A\n",
            "20it [00:01, 13.11it/s]\u001b[A\n",
            "22it [00:01, 12.72it/s]\u001b[A\n",
            "24it [00:01, 12.90it/s]\u001b[A\n",
            "26it [00:01, 13.07it/s]\u001b[A\n",
            "28it [00:02, 13.17it/s]\u001b[A\n",
            "30it [00:02, 12.93it/s]\u001b[A\n",
            "32it [00:02, 13.34it/s]\u001b[A\n",
            "34it [00:02, 12.97it/s]\u001b[A\n",
            "36it [00:02, 12.62it/s]\u001b[A\n",
            "38it [00:02, 12.35it/s]\u001b[A\n",
            "40it [00:03, 12.32it/s]\u001b[A\n",
            "42it [00:03, 11.50it/s]\u001b[A\n",
            "45it [00:03, 12.77it/s]\n",
            " 50%|█████████████████████████████████████████▌                                         | 5/10 [00:15<00:13,  2.72s/it]\n",
            "0it [00:00, ?it/s]\u001b[A\n",
            "7it [00:00, 68.50it/s]\u001b[A\n",
            "14it [00:00, 68.41it/s]\u001b[A\n",
            "22it [00:00, 70.96it/s]\u001b[A\n",
            "30it [00:00, 65.72it/s]\u001b[A\n",
            "37it [00:00, 65.77it/s]\u001b[A\n",
            "50it [00:00, 68.42it/s]\n",
            " 60%|█████████████████████████████████████████████████▊                                 | 6/10 [00:16<00:08,  2.04s/it]\n",
            "0it [00:00, ?it/s]\u001b[A\n",
            "3it [00:00, 29.25it/s]\u001b[A\n",
            "7it [00:00, 35.29it/s]\u001b[A\n",
            "11it [00:00, 18.16it/s]\u001b[A\n",
            "16it [00:00, 24.11it/s]\u001b[A\n",
            "20it [00:00, 26.69it/s]\u001b[A\n",
            "24it [00:00, 26.21it/s]\u001b[A\n",
            "28it [00:01, 29.09it/s]\u001b[A\n",
            "32it [00:01, 30.56it/s]\u001b[A\n",
            "36it [00:01, 28.95it/s]\u001b[A\n",
            "40it [00:01, 21.55it/s]\u001b[A\n",
            "43it [00:01, 22.62it/s]\u001b[A\n",
            "50it [00:01, 26.36it/s]\n",
            " 70%|██████████████████████████████████████████████████████████                         | 7/10 [00:18<00:05,  2.00s/it]\n",
            "0it [00:00, ?it/s]\u001b[A\n",
            "4it [00:00, 34.37it/s]\u001b[A\n",
            "8it [00:00, 31.38it/s]\u001b[A\n",
            "12it [00:00, 30.78it/s]\u001b[A\n",
            "16it [00:00, 31.94it/s]\u001b[A\n",
            "20it [00:00, 29.79it/s]\u001b[A\n",
            "24it [00:00, 30.78it/s]\u001b[A\n",
            "28it [00:00, 32.30it/s]\u001b[A\n",
            "32it [00:01, 31.49it/s]\u001b[A\n",
            "36it [00:01, 30.97it/s]\u001b[A\n",
            "51it [00:01, 38.23it/s]\n",
            " 80%|██████████████████████████████████████████████████████████████████▍                | 8/10 [00:19<00:03,  1.79s/it]\n",
            "0it [00:00, ?it/s]\u001b[A\n",
            "4it [00:00, 18.57it/s]\u001b[A\n",
            "6it [00:00, 14.93it/s]\u001b[A\n",
            "8it [00:00, 13.97it/s]\u001b[A\n",
            "10it [00:00, 12.80it/s]\u001b[A\n",
            "12it [00:00, 12.28it/s]\u001b[A\n",
            "14it [00:01, 11.88it/s]\u001b[A\n",
            "16it [00:01, 11.80it/s]\u001b[A\n",
            "18it [00:01, 11.82it/s]\u001b[A\n",
            "20it [00:01, 11.63it/s]\u001b[A\n",
            "22it [00:01, 11.97it/s]\u001b[A\n",
            "24it [00:01, 12.03it/s]\u001b[A\n",
            "26it [00:02, 12.15it/s]\u001b[A\n",
            "28it [00:02, 12.87it/s]\u001b[A\n",
            "30it [00:02, 13.41it/s]\u001b[A\n",
            "32it [00:02, 13.40it/s]\u001b[A\n",
            "34it [00:02, 13.39it/s]\u001b[A\n",
            "36it [00:02, 13.47it/s]\u001b[A\n",
            "53it [00:02, 18.05it/s]\n",
            " 90%|██████████████████████████████████████████████████████████████████████████▋        | 9/10 [00:22<00:02,  2.15s/it]\n",
            "0it [00:00, ?it/s]\u001b[A\n",
            "37it [00:00, 216.11it/s]\n",
            "100%|██████████████████████████████████████████████████████████████████████████████████| 10/10 [00:22<00:00,  2.27s/it]\n"
          ]
        }
      ],
      "source": [
        "labels_map = {i: '' for i in range(10)}\n",
        "labels_map[0] = 'Ирина'\n",
        "labels_map[1] = 'Ruslanmgm'\n",
        "labels_map[2] = 'eremenkokath'\n",
        "labels_map[3] = 'Joe Duplantier'\n",
        "labels_map[4] = 'Aleksandr V'\n",
        "labels_map[5] = 'Kate_A'\n",
        "labels_map[6] = 'Matveev_Denis'\n",
        "labels_map[7] = 'Alexeeva'\n",
        "labels_map[8] = 'Denis G'\n",
        "labels_map[9] = 'Johnny Depp'\n",
        "dirname = \"Start_ML\"\n",
        "save_dirname = \"Start_ML_processed_data/ML_track_train\"\n",
        "\n",
        "\n",
        "for cls, name in tqdm(labels_map.items()):\n",
        "    subdir = os.path.join(dirname, name)\n",
        "    filelist = os.listdir(subdir)\n",
        "\n",
        "    for i, fname in tqdm(enumerate(filelist)):\n",
        "        img = cv2.imdecode(np.fromfile(os.path.join(subdir, fname),\n",
        "                                       dtype=np.uint8),\n",
        "                           cv2.IMREAD_GRAYSCALE)\n",
        "        h, w = img.shape\n",
        "        size = min(h, w)\n",
        "        h0 = int((h - size) / 2)\n",
        "        w0 = int((w - size) / 2)\n",
        "        img = img[h0: h0 + size, w0: w0 + size]\n",
        "\n",
        "        img = cv2.resize(img, (64, 64), interpolation = cv2.INTER_AREA)\n",
        "        cv2.imwrite(os.path.join(save_dirname, f'img{i}_label{cls}.png'), img)"
      ]
    },
    {
      "cell_type": "code",
      "execution_count": 17,
      "metadata": {
        "id": "cFbOEWbpVS3s"
      },
      "outputs": [],
      "source": [
        "folder = \"Start_ML_processed_data/\"\n",
        "test_data = os.path.join(folder + 'ML_track_test')\n",
        "train_data = os.path.join(folder + 'ML_track_train')"
      ]
    },
    {
      "cell_type": "code",
      "execution_count": 157,
      "metadata": {
        "colab": {
          "base_uri": "https://localhost:8080/"
        },
        "id": "WUET9enbYC_l",
        "outputId": "374c4733-3d37-47f1-c591-35353aef3231"
      },
      "outputs": [
        {
          "output_type": "stream",
          "name": "stderr",
          "text": [
            "100%|██████████████████████████████████████████████████████████████████████████████| 516/516 [00:00<00:00, 7267.67it/s]\n",
            "100%|████████████████████████████████████████████████████████████████████████████| 2090/2090 [00:00<00:00, 7530.79it/s]\n"
          ]
        }
      ],
      "source": [
        "train_x, train_y = [], []\n",
        "test_x, test_y = [], []\n",
        "\n",
        "for fname in tqdm(os.listdir(train_data)):\n",
        "    if not('.jpg' in fname):\n",
        "      img = cv2.imread(os.path.join(train_data, fname), cv2.IMREAD_GRAYSCALE)\n",
        "      train_x.append(img)\n",
        "      train_y.append(int(fname.split('label')[1].split('.png')[0]))\n",
        "\n",
        "\n",
        "def img_number(fname):\n",
        "    return int(fname.split('.')[0].split('image')[1])\n",
        "\n",
        "\n",
        "for fname in tqdm(sorted(os.listdir(test_data), key=img_number)):\n",
        "    img = cv2.imread(os.path.join(test_data, fname), cv2.IMREAD_GRAYSCALE)\n",
        "    test_x.append(img)\n",
        "    test_y.append(fname)"
      ]
    },
    {
      "cell_type": "code",
      "source": [
        "# Показ фотографий убран при выкладывании ноутбука в публичное пространство\n",
        "# show_images(train_x, train_y, randomize=False)"
      ],
      "metadata": {
        "id": "7YlmdWfxH4nO"
      },
      "execution_count": 1,
      "outputs": []
    },
    {
      "cell_type": "markdown",
      "source": [
        "Воспользуемся аугментациями для ещё большего расширения датасета для обучения:"
      ],
      "metadata": {
        "id": "-xvjbsj6pPIl"
      }
    },
    {
      "cell_type": "markdown",
      "source": [
        "(кроме стандартных есть и Гауссовский шум, так как в тестовом датасете присутствуют зашумленные фотографии)"
      ],
      "metadata": {
        "id": "A3QneVGPqVlU"
      }
    },
    {
      "cell_type": "code",
      "source": [
        "def augment_image(image):\n",
        "    angle = np.arange(-10, 11, 1)\n",
        "    angle0 = random.choice(angle)\n",
        "\n",
        "    shift = 0.01 * np.arange(-10, 11, 1)\n",
        "    shift0 = random.choice(shift)\n",
        "\n",
        "    transform = A.Compose([\n",
        "                           A.HorizontalFlip(p=0.4),\n",
        "                           A.GaussNoise(var_limit=(75, 100), p=0.3),\n",
        "                           # A.PiecewiseAffine... requires another version of A\n",
        "                           # A.PiecewiseAffine(p=0.3),\n",
        "                           A.RandomBrightnessContrast(brightness_limit=0.3,\n",
        "                                                      contrast_limit=0.3,\n",
        "                                                      p=0.3),\n",
        "                           A.OneOf([\n",
        "                                    A.MotionBlur(p=.2),\n",
        "                                    A.MedianBlur(blur_limit=3, p=0.5),\n",
        "                                    A.Blur(blur_limit=3, p=0.5),\n",
        "                           ], p=0.2),\n",
        "                           A.ShiftScaleRotate(shift_limit=0.0625,\n",
        "                                              scale_limit=0, rotate_limit=13,\n",
        "                                              p=0.2)\n",
        "                          ])\n",
        "\n",
        "    return transform(image=image)['image']\n",
        "\n",
        "def get_augments(images, labels, augments_amount=20):\n",
        "    x, y = [], []\n",
        "    for image, label in tqdm(zip(images, labels)):\n",
        "        for i in range(augments_amount):\n",
        "            x.append(augment_image(image))\n",
        "            y.append(label)\n",
        "    return x, y"
      ],
      "metadata": {
        "id": "BI03JhX7pOqZ"
      },
      "execution_count": 158,
      "outputs": []
    },
    {
      "cell_type": "code",
      "source": [
        "# Показ фотографий убран при выкладывании ноутбука в публичное пространство\n",
        "# show_images(train_x, train_y, randomize=False)"
      ],
      "metadata": {
        "id": "4C6elaEWGvjV"
      },
      "execution_count": null,
      "outputs": []
    },
    {
      "cell_type": "markdown",
      "source": [
        "Воспользуемся каскадами Хаара для выделения лиц (для такого небольшого размера фотографий он показал себя лучше DLIB CNN):"
      ],
      "metadata": {
        "id": "yAbgwpb5o97m"
      }
    },
    {
      "cell_type": "code",
      "execution_count": 159,
      "metadata": {
        "id": "84zJZOxdiY1v"
      },
      "outputs": [],
      "source": [
        "def haar_application(images, labels):\n",
        "    cascade_versions = ['haarcascade_frontalface_default.xml',\n",
        "                        'haarcascade_frontalface_alt.xml',\n",
        "                        'haarcascade_frontalface_alt2.xml']\n",
        "    faces, labels_with_faces, no_faces, labels_without_faces = [], [], [], []\n",
        "    haar_params = {'maxSize': (64, 64),\n",
        "                   'scaleFactor': 1.01,\n",
        "                   'minNeighbors': 2,\n",
        "                   'minSize': (1, 1)}\n",
        "\n",
        "    for _, (img, label) in tqdm(enumerate(zip(images, labels))):\n",
        "\n",
        "        for version in cascade_versions:\n",
        "            face_cascade = cv2.CascadeClassifier(cv2.data.haarcascades + version)\n",
        "            face = face_cascade.detectMultiScale(img, **haar_params)\n",
        "            if len(face) != 0:\n",
        "               break\n",
        "\n",
        "        for (a, b, w, h) in face:\n",
        "            face = img[b:b + h, a:a + w]\n",
        "\n",
        "        try:\n",
        "            h, w = face.shape\n",
        "            size = min(h, w)\n",
        "            h0 = int((h - size) / 2)\n",
        "            w0 = int((w - size) / 2)\n",
        "\n",
        "            face = face[h0:h0 + size, w0:w0 + size]\n",
        "            face = cv2.resize(face, (64, 64), interpolation=cv2.INTER_AREA)\n",
        "            faces.append(face)\n",
        "            labels_with_faces.append(label)\n",
        "\n",
        "        except:\n",
        "            no_faces.append(img)\n",
        "            labels_without_faces.append(label)\n",
        "\n",
        "    return faces, labels_with_faces, no_faces, labels_without_faces"
      ]
    },
    {
      "cell_type": "markdown",
      "source": [
        "В ходе экспериментов выяснилось, что точность предсказаний повышается при детекции лиц на предварительно аугментированных фотографиях (в отличие от обратной последовательности \"детекция лиц --> аугментация\")."
      ],
      "metadata": {
        "id": "RTukJH1Mpx95"
      }
    },
    {
      "cell_type": "code",
      "execution_count": 160,
      "metadata": {
        "colab": {
          "base_uri": "https://localhost:8080/"
        },
        "id": "fALUYA2rdwi4",
        "outputId": "40c0299e-fa70-4700-ad23-f35e0cad6b50"
      },
      "outputs": [
        {
          "output_type": "stream",
          "name": "stderr",
          "text": [
            "516it [00:01, 355.79it/s]\n",
            "10320it [05:38, 30.50it/s]\n",
            "2090it [01:07, 31.08it/s]\n"
          ]
        }
      ],
      "source": [
        "train_x, train_y = get_augments(train_x, train_y)\n",
        "\n",
        "train_faces, train_faces_labels, train_no_faces, train_no_faces_labels =\\\n",
        "  haar_application(train_x, train_y)\n",
        "\n",
        "test_faces, test_faces_labels, test_no_faces, test_no_faces_labels =\\\n",
        "  haar_application(test_x, test_y)"
      ]
    },
    {
      "cell_type": "code",
      "source": [
        "# Показ фотографий убран при выкладывании ноутбука в публичное пространство\n",
        "# show_images(train_faces, train_faces_labels, randomize=False)"
      ],
      "metadata": {
        "id": "N4a6mGjlGzi8"
      },
      "execution_count": null,
      "outputs": []
    },
    {
      "cell_type": "code",
      "source": [
        "# Показ фотографий убран при выкладывании ноутбука в публичное пространство\n",
        "# show_images(train_no_faces, train_no_faces_labels, randomize=False)"
      ],
      "metadata": {
        "id": "a_Jt1SAWG2NB"
      },
      "execution_count": null,
      "outputs": []
    },
    {
      "cell_type": "code",
      "source": [
        "for img, label in tqdm(zip(train_faces, train_faces_labels)):\n",
        "  cv2.imwrite(os.path.join(save_dirname + \"train_faces\", str(label) + \".png\"), img)\n",
        "for img, label in tqdm(zip(train_no_faces, train_no_faces_labels)):\n",
        "  cv2.imwrite(os.path.join(save_dirname + \"train_no_faces\", str(label) + \".png\"), img)\n",
        "\n",
        "for img, label in tqdm(zip(test_faces, test_faces_labels)):\n",
        "  cv2.imwrite(os.path.join(save_dirname + \"test_faces\", str(label) + \".png\"), img)\n",
        "for img, label in tqdm(zip(test_no_faces, test_no_faces_labels)):\n",
        "  cv2.imwrite(os.path.join(save_dirname + \"test_no_faces\", str(label) + \".png\"), img)"
      ],
      "metadata": {
        "colab": {
          "base_uri": "https://localhost:8080/"
        },
        "id": "-9mqjarl7xeZ",
        "outputId": "b9288065-7ed0-4c55-d095-f67a7eaa9a89"
      },
      "execution_count": 161,
      "outputs": [
        {
          "output_type": "stream",
          "name": "stderr",
          "text": [
            "9372it [00:00, 29340.36it/s]\n",
            "948it [00:00, 23714.86it/s]\n",
            "1896it [00:00, 24466.29it/s]\n",
            "194it [00:00, 275362.09it/s]\n"
          ]
        }
      ]
    },
    {
      "cell_type": "markdown",
      "source": [
        "И выявим признаки с помощью гистограммы направленных градиентов (в данном случае показала себя лучше SIFT):"
      ],
      "metadata": {
        "id": "vEpIyoxIrbgo"
      }
    },
    {
      "cell_type": "code",
      "execution_count": 162,
      "metadata": {
        "id": "LkIik4QChNTJ"
      },
      "outputs": [],
      "source": [
        "def apply_hog_to_resized(images):\n",
        "  hog = cv2.HOGDescriptor()\n",
        "  hog_images = []\n",
        "  for image in images:\n",
        "      image = cv2.resize(np.uint8(image), (64, 128),\n",
        "                         interpolation = cv2.INTER_AREA)\n",
        "      hog_images.append(hog.compute(image, ))\n",
        "  return hog_images\n",
        "\n",
        "\n",
        "train_faces, train_no_faces, test_faces, test_no_faces =\\\n",
        " map(lambda x: apply_hog_to_resized(x),\n",
        "     [train_faces, train_no_faces, test_faces, test_no_faces])"
      ]
    },
    {
      "cell_type": "code",
      "execution_count": 163,
      "metadata": {
        "id": "K08g6tR-njzK"
      },
      "outputs": [],
      "source": [
        "train_faces, train_no_faces, test_faces, test_no_faces =\\\n",
        " map(lambda x: np.asarray([el.ravel() for el in x]),\n",
        "     [train_faces, train_no_faces, test_faces, test_no_faces])"
      ]
    },
    {
      "cell_type": "markdown",
      "source": [
        "Итоговое распределение классов:"
      ],
      "metadata": {
        "id": "ulQ5w8QJA7yD"
      }
    },
    {
      "cell_type": "code",
      "source": [
        "from collections import Counter\n",
        "print(Counter(train_no_faces_labels))\n",
        "print(Counter(train_faces_labels))"
      ],
      "metadata": {
        "colab": {
          "base_uri": "https://localhost:8080/"
        },
        "id": "r0z9cnZdA7Jz",
        "outputId": "c744ef5e-8fdd-4baa-f6da-b1a34a4e40c8"
      },
      "execution_count": 164,
      "outputs": [
        {
          "output_type": "stream",
          "name": "stdout",
          "text": [
            "Counter({1: 413, 6: 379, 9: 52, 7: 48, 0: 41, 5: 15})\n",
            "Counter({2: 1560, 8: 1060, 3: 1000, 0: 999, 5: 985, 7: 972, 4: 900, 9: 688, 6: 621, 1: 587})\n"
          ]
        }
      ]
    },
    {
      "cell_type": "markdown",
      "metadata": {
        "id": "ujq6SnDF0qpo"
      },
      "source": [
        "# Проверка качества моделей:"
      ]
    },
    {
      "cell_type": "markdown",
      "source": [
        "Делим тренировачный датасет на две выборки (для обучения и проверки):"
      ],
      "metadata": {
        "id": "PH5e16E7tLhE"
      }
    },
    {
      "cell_type": "code",
      "execution_count": 166,
      "metadata": {
        "id": "HH84XIUrn2Fx"
      },
      "outputs": [],
      "source": [
        "x_educate, x_check, y_educate, y_check =\\\n",
        " train_test_split(train_faces, train_faces_labels,\n",
        "                  stratify=train_faces_labels, test_size=0.3)\n",
        "x_nf_educate, x_nf_check, y_nf_educate, y_nf_check =\\\n",
        " train_test_split(train_no_faces, train_no_faces_labels,\n",
        "                  stratify=train_no_faces_labels, test_size=0.3)"
      ]
    },
    {
      "cell_type": "markdown",
      "source": [
        "Берём 2 модели: для изображений с выявленными лицами и без."
      ],
      "metadata": {
        "id": "7NgjK9G0tQZ6"
      }
    },
    {
      "cell_type": "code",
      "execution_count": 167,
      "metadata": {
        "colab": {
          "base_uri": "https://localhost:8080/"
        },
        "id": "bRgaZTNrsnxd",
        "outputId": "273a425b-bf95-4c81-bdae-7c940b9cb09d"
      },
      "outputs": [
        {
          "output_type": "stream",
          "name": "stdout",
          "text": [
            "[LibSVM][LibSVM]"
          ]
        },
        {
          "output_type": "execute_result",
          "data": {
            "text/plain": [
              "Pipeline(steps=[('pca', PCA(n_components=150)),\n",
              "                ('svc',\n",
              "                 SVC(C=150, class_weight='balanced', gamma=0.05, verbose=2))])"
            ]
          },
          "metadata": {},
          "execution_count": 167
        }
      ],
      "source": [
        "pca = KernelPCA()\n",
        "model_svm = SVC(probability=True)\n",
        "\n",
        "first_model = make_pipeline(PCA(150), SVC(class_weight='balanced', C=150, gamma=0.05, verbose=2))\n",
        "first_model.fit(x_educate, y_educate)\n",
        "\n",
        "second_model = make_pipeline(PCA(150), SVC(class_weight='balanced', C=150, gamma=0.05, verbose=2))\n",
        "second_model.fit(x_nf_educate, y_nf_educate)"
      ]
    },
    {
      "cell_type": "code",
      "execution_count": 169,
      "metadata": {
        "id": "2Fioua5Zwvb0"
      },
      "outputs": [],
      "source": [
        "preds_1 = first_model.predict(x_check)\n",
        "preds_2 = second_model.predict(x_nf_check)"
      ]
    },
    {
      "cell_type": "code",
      "execution_count": 170,
      "metadata": {
        "colab": {
          "base_uri": "https://localhost:8080/"
        },
        "id": "qJNYpZjOwrIf",
        "outputId": "dfd46d68-3816-402b-90f9-392a29aa6ffa"
      },
      "outputs": [
        {
          "output_type": "stream",
          "name": "stdout",
          "text": [
            "FIRST_MODEL:  0.9893314366998578\n",
            "SECOND MODEL:  0.9649122807017544\n"
          ]
        }
      ],
      "source": [
        "print('FIRST_MODEL: ', accuracy_score(y_check, preds_1))\n",
        "print('SECOND MODEL: ', accuracy_score(y_nf_check, preds_2))"
      ]
    },
    {
      "cell_type": "markdown",
      "metadata": {
        "id": "4kvAz6YpV_Qo"
      },
      "source": [
        "Возникает стойкое ощущение, что случается переобучение.\n",
        "Private score: 0.82296\\\n",
        "  (довольно низкий по сравнению с полученным выше, можно подтвердить наличие переобучения).\n",
        "\n",
        "---\n",
        "\n"
      ]
    },
    {
      "cell_type": "markdown",
      "metadata": {
        "id": "1MvmUr3FWHDX"
      },
      "source": [
        "Для улучшения результата можно попробовать другие модели. Например, решающие деревья. Чтобы не переобучаться, будем использовать ExtraTreesClassifier. Все параметры перебирались по сетке (для предыдущей модели аналогично)."
      ]
    },
    {
      "cell_type": "code",
      "execution_count": 171,
      "metadata": {
        "id": "9E9tlJLwXG57"
      },
      "outputs": [],
      "source": [
        "def grid_search(models: list, grid_params, cross_val, verbose=3,\n",
        "                        scoring='accuracy', n_jobs=3, refit=True):\n",
        "    pipeline = make_pipeline(*models)\n",
        "    search = GridSearchCV(pipeline, grid_params, cv=cross_val, scoring=scoring,\n",
        "                          verbose=verbose, n_jobs=n_jobs, refit=refit)\n",
        "    return search\n",
        "\n",
        "cv = KFold(n_splits=3, shuffle=True, random_state=0)\n",
        "models = [PCA(), ExtraTreesClassifier(class_weight='balanced', n_jobs=4,\n",
        "                                      verbose=2)]\n",
        "grid = {\n",
        "    'pca__n_components': [100, 150, 200, 300, 400],\n",
        "    'extratreesclassifier__n_estimators': [10, 20, 50, 100, 200],\n",
        "    'extratreesclassifier__criterion': ['gini'],\n",
        "    'extratreesclassifier__max_depth': [5, 20, None],\n",
        "    'extratreesclassifier__min_samples_split': [2, 10, 0.1],\n",
        "    'extratreesclassifier__min_samples_leaf': [1, 20, 50],\n",
        "    'extratreesclassifier__max_features': ['auto', 'log2']\n",
        "    }\n",
        "\n",
        "pipe = grid_search(models, grid, cv, n_jobs=1)\n"
      ]
    },
    {
      "cell_type": "markdown",
      "source": [
        "Подбираем наилучшие гиперпараметры:"
      ],
      "metadata": {
        "id": "1tlzPGvXt8dS"
      }
    },
    {
      "cell_type": "code",
      "execution_count": null,
      "metadata": {
        "colab": {
          "base_uri": "https://localhost:8080/"
        },
        "id": "30Ctmlvp3DzM",
        "outputId": "9691a30a-e789-4d44-8ce7-e6af79ac2020"
      },
      "outputs": [
        {
          "output_type": "stream",
          "name": "stdout",
          "text": [
            "Fitting 3 folds for each of 1350 candidates, totalling 4050 fits\n"
          ]
        },
        {
          "output_type": "stream",
          "name": "stderr",
          "text": [
            "[Parallel(n_jobs=4)]: Using backend LokyBackend with 4 concurrent workers.\n",
            "[Parallel(n_jobs=4)]: Done  10 out of  10 | elapsed:    9.6s finished\n",
            "[Parallel(n_jobs=4)]: Using backend ThreadingBackend with 4 concurrent workers.\n",
            "[Parallel(n_jobs=4)]: Done  10 out of  10 | elapsed:    0.0s finished\n"
          ]
        },
        {
          "output_type": "stream",
          "name": "stdout",
          "text": [
            "[CV 1/3] END extratreesclassifier__criterion=gini, extratreesclassifier__max_depth=5, extratreesclassifier__max_features=auto, extratreesclassifier__min_samples_leaf=1, extratreesclassifier__min_samples_split=2, extratreesclassifier__n_estimators=10, pca__n_components=100;, score=0.669 total time=  10.0s\n"
          ]
        },
        {
          "output_type": "stream",
          "name": "stderr",
          "text": [
            "[Parallel(n_jobs=4)]: Using backend LokyBackend with 4 concurrent workers.\n",
            "[Parallel(n_jobs=4)]: Done  10 out of  10 | elapsed:    0.0s finished\n",
            "[Parallel(n_jobs=4)]: Using backend ThreadingBackend with 4 concurrent workers.\n",
            "[Parallel(n_jobs=4)]: Done  10 out of  10 | elapsed:    0.0s finished\n"
          ]
        },
        {
          "output_type": "stream",
          "name": "stdout",
          "text": [
            "[CV 2/3] END extratreesclassifier__criterion=gini, extratreesclassifier__max_depth=5, extratreesclassifier__max_features=auto, extratreesclassifier__min_samples_leaf=1, extratreesclassifier__min_samples_split=2, extratreesclassifier__n_estimators=10, pca__n_components=100;, score=0.633 total time=   0.3s\n"
          ]
        },
        {
          "output_type": "stream",
          "name": "stderr",
          "text": [
            "[Parallel(n_jobs=4)]: Using backend LokyBackend with 4 concurrent workers.\n",
            "[Parallel(n_jobs=4)]: Done  10 out of  10 | elapsed:    0.0s finished\n",
            "[Parallel(n_jobs=4)]: Using backend ThreadingBackend with 4 concurrent workers.\n",
            "[Parallel(n_jobs=4)]: Done  10 out of  10 | elapsed:    0.0s finished\n"
          ]
        },
        {
          "output_type": "stream",
          "name": "stdout",
          "text": [
            "[CV 3/3] END extratreesclassifier__criterion=gini, extratreesclassifier__max_depth=5, extratreesclassifier__max_features=auto, extratreesclassifier__min_samples_leaf=1, extratreesclassifier__min_samples_split=2, extratreesclassifier__n_estimators=10, pca__n_components=100;, score=0.667 total time=   0.3s\n"
          ]
        },
        {
          "output_type": "stream",
          "name": "stderr",
          "text": [
            "[Parallel(n_jobs=4)]: Using backend LokyBackend with 4 concurrent workers.\n",
            "[Parallel(n_jobs=4)]: Done  10 out of  10 | elapsed:    0.0s finished\n",
            "[Parallel(n_jobs=4)]: Using backend ThreadingBackend with 4 concurrent workers.\n",
            "[Parallel(n_jobs=4)]: Done  10 out of  10 | elapsed:    0.0s finished\n"
          ]
        },
        {
          "output_type": "stream",
          "name": "stdout",
          "text": [
            "[CV 1/3] END extratreesclassifier__criterion=gini, extratreesclassifier__max_depth=5, extratreesclassifier__max_features=auto, extratreesclassifier__min_samples_leaf=1, extratreesclassifier__min_samples_split=2, extratreesclassifier__n_estimators=10, pca__n_components=150;, score=0.650 total time=   0.4s\n"
          ]
        },
        {
          "output_type": "stream",
          "name": "stderr",
          "text": [
            "[Parallel(n_jobs=4)]: Using backend LokyBackend with 4 concurrent workers.\n",
            "[Parallel(n_jobs=4)]: Done  10 out of  10 | elapsed:    0.0s finished\n",
            "[Parallel(n_jobs=4)]: Using backend ThreadingBackend with 4 concurrent workers.\n",
            "[Parallel(n_jobs=4)]: Done  10 out of  10 | elapsed:    0.0s finished\n"
          ]
        },
        {
          "output_type": "stream",
          "name": "stdout",
          "text": [
            "[CV 2/3] END extratreesclassifier__criterion=gini, extratreesclassifier__max_depth=5, extratreesclassifier__max_features=auto, extratreesclassifier__min_samples_leaf=1, extratreesclassifier__min_samples_split=2, extratreesclassifier__n_estimators=10, pca__n_components=150;, score=0.634 total time=   0.4s\n"
          ]
        },
        {
          "output_type": "stream",
          "name": "stderr",
          "text": [
            "[Parallel(n_jobs=4)]: Using backend LokyBackend with 4 concurrent workers.\n",
            "[Parallel(n_jobs=4)]: Done  10 out of  10 | elapsed:    0.0s finished\n",
            "[Parallel(n_jobs=4)]: Using backend ThreadingBackend with 4 concurrent workers.\n",
            "[Parallel(n_jobs=4)]: Done  10 out of  10 | elapsed:    0.0s finished\n"
          ]
        },
        {
          "output_type": "stream",
          "name": "stdout",
          "text": [
            "[CV 3/3] END extratreesclassifier__criterion=gini, extratreesclassifier__max_depth=5, extratreesclassifier__max_features=auto, extratreesclassifier__min_samples_leaf=1, extratreesclassifier__min_samples_split=2, extratreesclassifier__n_estimators=10, pca__n_components=150;, score=0.627 total time=   0.3s\n"
          ]
        },
        {
          "output_type": "stream",
          "name": "stderr",
          "text": [
            "[Parallel(n_jobs=4)]: Using backend LokyBackend with 4 concurrent workers.\n",
            "[Parallel(n_jobs=4)]: Done  10 out of  10 | elapsed:    0.0s finished\n",
            "[Parallel(n_jobs=4)]: Using backend ThreadingBackend with 4 concurrent workers.\n",
            "[Parallel(n_jobs=4)]: Done  10 out of  10 | elapsed:    0.0s finished\n"
          ]
        },
        {
          "output_type": "stream",
          "name": "stdout",
          "text": [
            "[CV 1/3] END extratreesclassifier__criterion=gini, extratreesclassifier__max_depth=5, extratreesclassifier__max_features=auto, extratreesclassifier__min_samples_leaf=1, extratreesclassifier__min_samples_split=2, extratreesclassifier__n_estimators=10, pca__n_components=200;, score=0.608 total time=   0.5s\n"
          ]
        },
        {
          "output_type": "stream",
          "name": "stderr",
          "text": [
            "[Parallel(n_jobs=4)]: Using backend LokyBackend with 4 concurrent workers.\n",
            "[Parallel(n_jobs=4)]: Done  10 out of  10 | elapsed:    0.0s finished\n",
            "[Parallel(n_jobs=4)]: Using backend ThreadingBackend with 4 concurrent workers.\n",
            "[Parallel(n_jobs=4)]: Done  10 out of  10 | elapsed:    0.0s finished\n"
          ]
        },
        {
          "output_type": "stream",
          "name": "stdout",
          "text": [
            "[CV 2/3] END extratreesclassifier__criterion=gini, extratreesclassifier__max_depth=5, extratreesclassifier__max_features=auto, extratreesclassifier__min_samples_leaf=1, extratreesclassifier__min_samples_split=2, extratreesclassifier__n_estimators=10, pca__n_components=200;, score=0.597 total time=   0.5s\n"
          ]
        },
        {
          "output_type": "stream",
          "name": "stderr",
          "text": [
            "[Parallel(n_jobs=4)]: Using backend LokyBackend with 4 concurrent workers.\n",
            "[Parallel(n_jobs=4)]: Done  10 out of  10 | elapsed:    0.0s finished\n",
            "[Parallel(n_jobs=4)]: Using backend ThreadingBackend with 4 concurrent workers.\n",
            "[Parallel(n_jobs=4)]: Done  10 out of  10 | elapsed:    0.0s finished\n"
          ]
        },
        {
          "output_type": "stream",
          "name": "stdout",
          "text": [
            "[CV 3/3] END extratreesclassifier__criterion=gini, extratreesclassifier__max_depth=5, extratreesclassifier__max_features=auto, extratreesclassifier__min_samples_leaf=1, extratreesclassifier__min_samples_split=2, extratreesclassifier__n_estimators=10, pca__n_components=200;, score=0.585 total time=   0.5s\n"
          ]
        },
        {
          "output_type": "stream",
          "name": "stderr",
          "text": [
            "[Parallel(n_jobs=4)]: Using backend LokyBackend with 4 concurrent workers.\n",
            "[Parallel(n_jobs=4)]: Done  10 out of  10 | elapsed:    0.0s finished\n",
            "[Parallel(n_jobs=4)]: Using backend ThreadingBackend with 4 concurrent workers.\n",
            "[Parallel(n_jobs=4)]: Done  10 out of  10 | elapsed:    0.0s finished\n"
          ]
        },
        {
          "output_type": "stream",
          "name": "stdout",
          "text": [
            "[CV 1/3] END extratreesclassifier__criterion=gini, extratreesclassifier__max_depth=5, extratreesclassifier__max_features=auto, extratreesclassifier__min_samples_leaf=1, extratreesclassifier__min_samples_split=2, extratreesclassifier__n_estimators=10, pca__n_components=300;, score=0.573 total time=   0.6s\n"
          ]
        },
        {
          "output_type": "stream",
          "name": "stderr",
          "text": [
            "[Parallel(n_jobs=4)]: Using backend LokyBackend with 4 concurrent workers.\n",
            "[Parallel(n_jobs=4)]: Done  10 out of  10 | elapsed:    0.0s finished\n",
            "[Parallel(n_jobs=4)]: Using backend ThreadingBackend with 4 concurrent workers.\n",
            "[Parallel(n_jobs=4)]: Done  10 out of  10 | elapsed:    0.0s finished\n"
          ]
        },
        {
          "output_type": "stream",
          "name": "stdout",
          "text": [
            "[CV 2/3] END extratreesclassifier__criterion=gini, extratreesclassifier__max_depth=5, extratreesclassifier__max_features=auto, extratreesclassifier__min_samples_leaf=1, extratreesclassifier__min_samples_split=2, extratreesclassifier__n_estimators=10, pca__n_components=300;, score=0.576 total time=   0.6s\n"
          ]
        },
        {
          "output_type": "stream",
          "name": "stderr",
          "text": [
            "[Parallel(n_jobs=4)]: Using backend LokyBackend with 4 concurrent workers.\n",
            "[Parallel(n_jobs=4)]: Done  10 out of  10 | elapsed:    0.0s finished\n",
            "[Parallel(n_jobs=4)]: Using backend ThreadingBackend with 4 concurrent workers.\n",
            "[Parallel(n_jobs=4)]: Done  10 out of  10 | elapsed:    0.0s finished\n"
          ]
        },
        {
          "output_type": "stream",
          "name": "stdout",
          "text": [
            "[CV 3/3] END extratreesclassifier__criterion=gini, extratreesclassifier__max_depth=5, extratreesclassifier__max_features=auto, extratreesclassifier__min_samples_leaf=1, extratreesclassifier__min_samples_split=2, extratreesclassifier__n_estimators=10, pca__n_components=300;, score=0.555 total time=   0.7s\n"
          ]
        },
        {
          "output_type": "stream",
          "name": "stderr",
          "text": [
            "[Parallel(n_jobs=4)]: Using backend LokyBackend with 4 concurrent workers.\n",
            "[Parallel(n_jobs=4)]: Done  10 out of  10 | elapsed:    0.0s finished\n",
            "[Parallel(n_jobs=4)]: Using backend ThreadingBackend with 4 concurrent workers.\n",
            "[Parallel(n_jobs=4)]: Done  10 out of  10 | elapsed:    0.0s finished\n"
          ]
        },
        {
          "output_type": "stream",
          "name": "stdout",
          "text": [
            "[CV 1/3] END extratreesclassifier__criterion=gini, extratreesclassifier__max_depth=5, extratreesclassifier__max_features=auto, extratreesclassifier__min_samples_leaf=1, extratreesclassifier__min_samples_split=2, extratreesclassifier__n_estimators=10, pca__n_components=400;, score=0.556 total time=   0.6s\n"
          ]
        },
        {
          "output_type": "stream",
          "name": "stderr",
          "text": [
            "[Parallel(n_jobs=4)]: Using backend LokyBackend with 4 concurrent workers.\n",
            "[Parallel(n_jobs=4)]: Done  10 out of  10 | elapsed:    0.0s finished\n",
            "[Parallel(n_jobs=4)]: Using backend ThreadingBackend with 4 concurrent workers.\n",
            "[Parallel(n_jobs=4)]: Done  10 out of  10 | elapsed:    0.0s finished\n"
          ]
        },
        {
          "output_type": "stream",
          "name": "stdout",
          "text": [
            "[CV 2/3] END extratreesclassifier__criterion=gini, extratreesclassifier__max_depth=5, extratreesclassifier__max_features=auto, extratreesclassifier__min_samples_leaf=1, extratreesclassifier__min_samples_split=2, extratreesclassifier__n_estimators=10, pca__n_components=400;, score=0.551 total time=   0.6s\n"
          ]
        },
        {
          "output_type": "stream",
          "name": "stderr",
          "text": [
            "[Parallel(n_jobs=4)]: Using backend LokyBackend with 4 concurrent workers.\n",
            "[Parallel(n_jobs=4)]: Done  10 out of  10 | elapsed:    0.0s finished\n",
            "[Parallel(n_jobs=4)]: Using backend ThreadingBackend with 4 concurrent workers.\n",
            "[Parallel(n_jobs=4)]: Done  10 out of  10 | elapsed:    0.0s finished\n"
          ]
        },
        {
          "output_type": "stream",
          "name": "stdout",
          "text": [
            "[CV 3/3] END extratreesclassifier__criterion=gini, extratreesclassifier__max_depth=5, extratreesclassifier__max_features=auto, extratreesclassifier__min_samples_leaf=1, extratreesclassifier__min_samples_split=2, extratreesclassifier__n_estimators=10, pca__n_components=400;, score=0.536 total time=   0.6s\n"
          ]
        },
        {
          "output_type": "stream",
          "name": "stderr",
          "text": [
            "[Parallel(n_jobs=4)]: Using backend LokyBackend with 4 concurrent workers.\n",
            "[Parallel(n_jobs=4)]: Done  20 out of  20 | elapsed:    0.0s finished\n",
            "[Parallel(n_jobs=4)]: Using backend ThreadingBackend with 4 concurrent workers.\n",
            "[Parallel(n_jobs=4)]: Done  20 out of  20 | elapsed:    0.0s finished\n"
          ]
        },
        {
          "output_type": "stream",
          "name": "stdout",
          "text": [
            "[CV 1/3] END extratreesclassifier__criterion=gini, extratreesclassifier__max_depth=5, extratreesclassifier__max_features=auto, extratreesclassifier__min_samples_leaf=1, extratreesclassifier__min_samples_split=2, extratreesclassifier__n_estimators=20, pca__n_components=100;, score=0.762 total time=   0.3s\n"
          ]
        },
        {
          "output_type": "stream",
          "name": "stderr",
          "text": [
            "[Parallel(n_jobs=4)]: Using backend LokyBackend with 4 concurrent workers.\n",
            "[Parallel(n_jobs=4)]: Done  20 out of  20 | elapsed:    0.0s finished\n",
            "[Parallel(n_jobs=4)]: Using backend ThreadingBackend with 4 concurrent workers.\n",
            "[Parallel(n_jobs=4)]: Done  20 out of  20 | elapsed:    0.0s finished\n"
          ]
        },
        {
          "output_type": "stream",
          "name": "stdout",
          "text": [
            "[CV 2/3] END extratreesclassifier__criterion=gini, extratreesclassifier__max_depth=5, extratreesclassifier__max_features=auto, extratreesclassifier__min_samples_leaf=1, extratreesclassifier__min_samples_split=2, extratreesclassifier__n_estimators=20, pca__n_components=100;, score=0.749 total time=   0.3s\n"
          ]
        },
        {
          "output_type": "stream",
          "name": "stderr",
          "text": [
            "[Parallel(n_jobs=4)]: Using backend LokyBackend with 4 concurrent workers.\n",
            "[Parallel(n_jobs=4)]: Done  20 out of  20 | elapsed:    0.0s finished\n",
            "[Parallel(n_jobs=4)]: Using backend ThreadingBackend with 4 concurrent workers.\n",
            "[Parallel(n_jobs=4)]: Done  20 out of  20 | elapsed:    0.0s finished\n"
          ]
        },
        {
          "output_type": "stream",
          "name": "stdout",
          "text": [
            "[CV 3/3] END extratreesclassifier__criterion=gini, extratreesclassifier__max_depth=5, extratreesclassifier__max_features=auto, extratreesclassifier__min_samples_leaf=1, extratreesclassifier__min_samples_split=2, extratreesclassifier__n_estimators=20, pca__n_components=100;, score=0.724 total time=   0.3s\n"
          ]
        },
        {
          "output_type": "stream",
          "name": "stderr",
          "text": [
            "[Parallel(n_jobs=4)]: Using backend LokyBackend with 4 concurrent workers.\n",
            "[Parallel(n_jobs=4)]: Done  20 out of  20 | elapsed:    0.0s finished\n",
            "[Parallel(n_jobs=4)]: Using backend ThreadingBackend with 4 concurrent workers.\n",
            "[Parallel(n_jobs=4)]: Done  20 out of  20 | elapsed:    0.0s finished\n"
          ]
        },
        {
          "output_type": "stream",
          "name": "stdout",
          "text": [
            "[CV 1/3] END extratreesclassifier__criterion=gini, extratreesclassifier__max_depth=5, extratreesclassifier__max_features=auto, extratreesclassifier__min_samples_leaf=1, extratreesclassifier__min_samples_split=2, extratreesclassifier__n_estimators=20, pca__n_components=150;, score=0.733 total time=   0.4s\n"
          ]
        },
        {
          "output_type": "stream",
          "name": "stderr",
          "text": [
            "[Parallel(n_jobs=4)]: Using backend LokyBackend with 4 concurrent workers.\n",
            "[Parallel(n_jobs=4)]: Done  20 out of  20 | elapsed:    0.0s finished\n",
            "[Parallel(n_jobs=4)]: Using backend ThreadingBackend with 4 concurrent workers.\n",
            "[Parallel(n_jobs=4)]: Done  20 out of  20 | elapsed:    0.0s finished\n"
          ]
        },
        {
          "output_type": "stream",
          "name": "stdout",
          "text": [
            "[CV 2/3] END extratreesclassifier__criterion=gini, extratreesclassifier__max_depth=5, extratreesclassifier__max_features=auto, extratreesclassifier__min_samples_leaf=1, extratreesclassifier__min_samples_split=2, extratreesclassifier__n_estimators=20, pca__n_components=150;, score=0.723 total time=   0.4s\n"
          ]
        },
        {
          "output_type": "stream",
          "name": "stderr",
          "text": [
            "[Parallel(n_jobs=4)]: Using backend LokyBackend with 4 concurrent workers.\n",
            "[Parallel(n_jobs=4)]: Done  20 out of  20 | elapsed:    0.0s finished\n",
            "[Parallel(n_jobs=4)]: Using backend ThreadingBackend with 4 concurrent workers.\n",
            "[Parallel(n_jobs=4)]: Done  20 out of  20 | elapsed:    0.0s finished\n"
          ]
        },
        {
          "output_type": "stream",
          "name": "stdout",
          "text": [
            "[CV 3/3] END extratreesclassifier__criterion=gini, extratreesclassifier__max_depth=5, extratreesclassifier__max_features=auto, extratreesclassifier__min_samples_leaf=1, extratreesclassifier__min_samples_split=2, extratreesclassifier__n_estimators=20, pca__n_components=150;, score=0.720 total time=   0.4s\n"
          ]
        },
        {
          "output_type": "stream",
          "name": "stderr",
          "text": [
            "[Parallel(n_jobs=4)]: Using backend LokyBackend with 4 concurrent workers.\n",
            "[Parallel(n_jobs=4)]: Done  20 out of  20 | elapsed:    0.0s finished\n",
            "[Parallel(n_jobs=4)]: Using backend ThreadingBackend with 4 concurrent workers.\n",
            "[Parallel(n_jobs=4)]: Done  20 out of  20 | elapsed:    0.0s finished\n"
          ]
        },
        {
          "output_type": "stream",
          "name": "stdout",
          "text": [
            "[CV 1/3] END extratreesclassifier__criterion=gini, extratreesclassifier__max_depth=5, extratreesclassifier__max_features=auto, extratreesclassifier__min_samples_leaf=1, extratreesclassifier__min_samples_split=2, extratreesclassifier__n_estimators=20, pca__n_components=200;, score=0.744 total time=   0.5s\n"
          ]
        },
        {
          "output_type": "stream",
          "name": "stderr",
          "text": [
            "[Parallel(n_jobs=4)]: Using backend LokyBackend with 4 concurrent workers.\n",
            "[Parallel(n_jobs=4)]: Done  20 out of  20 | elapsed:    0.0s finished\n",
            "[Parallel(n_jobs=4)]: Using backend ThreadingBackend with 4 concurrent workers.\n",
            "[Parallel(n_jobs=4)]: Done  20 out of  20 | elapsed:    0.0s finished\n"
          ]
        },
        {
          "output_type": "stream",
          "name": "stdout",
          "text": [
            "[CV 2/3] END extratreesclassifier__criterion=gini, extratreesclassifier__max_depth=5, extratreesclassifier__max_features=auto, extratreesclassifier__min_samples_leaf=1, extratreesclassifier__min_samples_split=2, extratreesclassifier__n_estimators=20, pca__n_components=200;, score=0.739 total time=   0.5s\n"
          ]
        },
        {
          "output_type": "stream",
          "name": "stderr",
          "text": [
            "[Parallel(n_jobs=4)]: Using backend LokyBackend with 4 concurrent workers.\n",
            "[Parallel(n_jobs=4)]: Done  20 out of  20 | elapsed:    0.0s finished\n",
            "[Parallel(n_jobs=4)]: Using backend ThreadingBackend with 4 concurrent workers.\n",
            "[Parallel(n_jobs=4)]: Done  20 out of  20 | elapsed:    0.0s finished\n"
          ]
        },
        {
          "output_type": "stream",
          "name": "stdout",
          "text": [
            "[CV 3/3] END extratreesclassifier__criterion=gini, extratreesclassifier__max_depth=5, extratreesclassifier__max_features=auto, extratreesclassifier__min_samples_leaf=1, extratreesclassifier__min_samples_split=2, extratreesclassifier__n_estimators=20, pca__n_components=200;, score=0.736 total time=   0.5s\n"
          ]
        },
        {
          "output_type": "stream",
          "name": "stderr",
          "text": [
            "[Parallel(n_jobs=4)]: Using backend LokyBackend with 4 concurrent workers.\n",
            "[Parallel(n_jobs=4)]: Done  20 out of  20 | elapsed:    0.0s finished\n",
            "[Parallel(n_jobs=4)]: Using backend ThreadingBackend with 4 concurrent workers.\n",
            "[Parallel(n_jobs=4)]: Done  20 out of  20 | elapsed:    0.0s finished\n"
          ]
        },
        {
          "output_type": "stream",
          "name": "stdout",
          "text": [
            "[CV 1/3] END extratreesclassifier__criterion=gini, extratreesclassifier__max_depth=5, extratreesclassifier__max_features=auto, extratreesclassifier__min_samples_leaf=1, extratreesclassifier__min_samples_split=2, extratreesclassifier__n_estimators=20, pca__n_components=300;, score=0.695 total time=   0.7s\n"
          ]
        },
        {
          "output_type": "stream",
          "name": "stderr",
          "text": [
            "[Parallel(n_jobs=4)]: Using backend LokyBackend with 4 concurrent workers.\n",
            "[Parallel(n_jobs=4)]: Done  20 out of  20 | elapsed:    0.0s finished\n",
            "[Parallel(n_jobs=4)]: Using backend ThreadingBackend with 4 concurrent workers.\n",
            "[Parallel(n_jobs=4)]: Done  20 out of  20 | elapsed:    0.0s finished\n"
          ]
        },
        {
          "output_type": "stream",
          "name": "stdout",
          "text": [
            "[CV 2/3] END extratreesclassifier__criterion=gini, extratreesclassifier__max_depth=5, extratreesclassifier__max_features=auto, extratreesclassifier__min_samples_leaf=1, extratreesclassifier__min_samples_split=2, extratreesclassifier__n_estimators=20, pca__n_components=300;, score=0.703 total time=   0.7s\n"
          ]
        },
        {
          "output_type": "stream",
          "name": "stderr",
          "text": [
            "[Parallel(n_jobs=4)]: Using backend LokyBackend with 4 concurrent workers.\n",
            "[Parallel(n_jobs=4)]: Done  20 out of  20 | elapsed:    0.0s finished\n",
            "[Parallel(n_jobs=4)]: Using backend ThreadingBackend with 4 concurrent workers.\n",
            "[Parallel(n_jobs=4)]: Done  20 out of  20 | elapsed:    0.0s finished\n"
          ]
        },
        {
          "output_type": "stream",
          "name": "stdout",
          "text": [
            "[CV 3/3] END extratreesclassifier__criterion=gini, extratreesclassifier__max_depth=5, extratreesclassifier__max_features=auto, extratreesclassifier__min_samples_leaf=1, extratreesclassifier__min_samples_split=2, extratreesclassifier__n_estimators=20, pca__n_components=300;, score=0.703 total time=   0.7s\n"
          ]
        },
        {
          "output_type": "stream",
          "name": "stderr",
          "text": [
            "[Parallel(n_jobs=4)]: Using backend LokyBackend with 4 concurrent workers.\n",
            "[Parallel(n_jobs=4)]: Done  20 out of  20 | elapsed:    0.0s finished\n",
            "[Parallel(n_jobs=4)]: Using backend ThreadingBackend with 4 concurrent workers.\n",
            "[Parallel(n_jobs=4)]: Done  20 out of  20 | elapsed:    0.0s finished\n"
          ]
        },
        {
          "output_type": "stream",
          "name": "stdout",
          "text": [
            "[CV 1/3] END extratreesclassifier__criterion=gini, extratreesclassifier__max_depth=5, extratreesclassifier__max_features=auto, extratreesclassifier__min_samples_leaf=1, extratreesclassifier__min_samples_split=2, extratreesclassifier__n_estimators=20, pca__n_components=400;, score=0.683 total time=   0.7s\n"
          ]
        },
        {
          "output_type": "stream",
          "name": "stderr",
          "text": [
            "[Parallel(n_jobs=4)]: Using backend LokyBackend with 4 concurrent workers.\n",
            "[Parallel(n_jobs=4)]: Done  20 out of  20 | elapsed:    0.0s finished\n",
            "[Parallel(n_jobs=4)]: Using backend ThreadingBackend with 4 concurrent workers.\n",
            "[Parallel(n_jobs=4)]: Done  20 out of  20 | elapsed:    0.0s finished\n"
          ]
        },
        {
          "output_type": "stream",
          "name": "stdout",
          "text": [
            "[CV 2/3] END extratreesclassifier__criterion=gini, extratreesclassifier__max_depth=5, extratreesclassifier__max_features=auto, extratreesclassifier__min_samples_leaf=1, extratreesclassifier__min_samples_split=2, extratreesclassifier__n_estimators=20, pca__n_components=400;, score=0.670 total time=   0.7s\n"
          ]
        },
        {
          "output_type": "stream",
          "name": "stderr",
          "text": [
            "[Parallel(n_jobs=4)]: Using backend LokyBackend with 4 concurrent workers.\n",
            "[Parallel(n_jobs=4)]: Done  20 out of  20 | elapsed:    0.0s finished\n",
            "[Parallel(n_jobs=4)]: Using backend ThreadingBackend with 4 concurrent workers.\n",
            "[Parallel(n_jobs=4)]: Done  20 out of  20 | elapsed:    0.0s finished\n"
          ]
        },
        {
          "output_type": "stream",
          "name": "stdout",
          "text": [
            "[CV 3/3] END extratreesclassifier__criterion=gini, extratreesclassifier__max_depth=5, extratreesclassifier__max_features=auto, extratreesclassifier__min_samples_leaf=1, extratreesclassifier__min_samples_split=2, extratreesclassifier__n_estimators=20, pca__n_components=400;, score=0.678 total time=   0.7s\n"
          ]
        },
        {
          "output_type": "stream",
          "name": "stderr",
          "text": [
            "[Parallel(n_jobs=4)]: Using backend LokyBackend with 4 concurrent workers.\n",
            "[Parallel(n_jobs=4)]: Done  50 out of  50 | elapsed:    0.0s finished\n",
            "[Parallel(n_jobs=4)]: Using backend ThreadingBackend with 4 concurrent workers.\n",
            "[Parallel(n_jobs=4)]: Done  33 tasks      | elapsed:    0.0s\n",
            "[Parallel(n_jobs=4)]: Done  50 out of  50 | elapsed:    0.0s finished\n"
          ]
        },
        {
          "output_type": "stream",
          "name": "stdout",
          "text": [
            "[CV 1/3] END extratreesclassifier__criterion=gini, extratreesclassifier__max_depth=5, extratreesclassifier__max_features=auto, extratreesclassifier__min_samples_leaf=1, extratreesclassifier__min_samples_split=2, extratreesclassifier__n_estimators=50, pca__n_components=100;, score=0.812 total time=   0.4s\n"
          ]
        },
        {
          "output_type": "stream",
          "name": "stderr",
          "text": [
            "[Parallel(n_jobs=4)]: Using backend LokyBackend with 4 concurrent workers.\n",
            "[Parallel(n_jobs=4)]: Done  50 out of  50 | elapsed:    0.0s finished\n",
            "[Parallel(n_jobs=4)]: Using backend ThreadingBackend with 4 concurrent workers.\n",
            "[Parallel(n_jobs=4)]: Done  33 tasks      | elapsed:    0.0s\n",
            "[Parallel(n_jobs=4)]: Done  50 out of  50 | elapsed:    0.0s finished\n"
          ]
        },
        {
          "output_type": "stream",
          "name": "stdout",
          "text": [
            "[CV 2/3] END extratreesclassifier__criterion=gini, extratreesclassifier__max_depth=5, extratreesclassifier__max_features=auto, extratreesclassifier__min_samples_leaf=1, extratreesclassifier__min_samples_split=2, extratreesclassifier__n_estimators=50, pca__n_components=100;, score=0.835 total time=   0.3s\n"
          ]
        },
        {
          "output_type": "stream",
          "name": "stderr",
          "text": [
            "[Parallel(n_jobs=4)]: Using backend LokyBackend with 4 concurrent workers.\n",
            "[Parallel(n_jobs=4)]: Done  50 out of  50 | elapsed:    0.0s finished\n",
            "[Parallel(n_jobs=4)]: Using backend ThreadingBackend with 4 concurrent workers.\n",
            "[Parallel(n_jobs=4)]: Done  33 tasks      | elapsed:    0.0s\n",
            "[Parallel(n_jobs=4)]: Done  50 out of  50 | elapsed:    0.0s finished\n"
          ]
        },
        {
          "output_type": "stream",
          "name": "stdout",
          "text": [
            "[CV 3/3] END extratreesclassifier__criterion=gini, extratreesclassifier__max_depth=5, extratreesclassifier__max_features=auto, extratreesclassifier__min_samples_leaf=1, extratreesclassifier__min_samples_split=2, extratreesclassifier__n_estimators=50, pca__n_components=100;, score=0.821 total time=   0.4s\n"
          ]
        },
        {
          "output_type": "stream",
          "name": "stderr",
          "text": [
            "[Parallel(n_jobs=4)]: Using backend LokyBackend with 4 concurrent workers.\n",
            "[Parallel(n_jobs=4)]: Done  50 out of  50 | elapsed:    0.0s finished\n",
            "[Parallel(n_jobs=4)]: Using backend ThreadingBackend with 4 concurrent workers.\n",
            "[Parallel(n_jobs=4)]: Done  33 tasks      | elapsed:    0.0s\n",
            "[Parallel(n_jobs=4)]: Done  50 out of  50 | elapsed:    0.0s finished\n"
          ]
        },
        {
          "output_type": "stream",
          "name": "stdout",
          "text": [
            "[CV 1/3] END extratreesclassifier__criterion=gini, extratreesclassifier__max_depth=5, extratreesclassifier__max_features=auto, extratreesclassifier__min_samples_leaf=1, extratreesclassifier__min_samples_split=2, extratreesclassifier__n_estimators=50, pca__n_components=150;, score=0.828 total time=   0.4s\n"
          ]
        },
        {
          "output_type": "stream",
          "name": "stderr",
          "text": [
            "[Parallel(n_jobs=4)]: Using backend LokyBackend with 4 concurrent workers.\n",
            "[Parallel(n_jobs=4)]: Done  50 out of  50 | elapsed:    0.0s finished\n",
            "[Parallel(n_jobs=4)]: Using backend ThreadingBackend with 4 concurrent workers.\n",
            "[Parallel(n_jobs=4)]: Done  33 tasks      | elapsed:    0.0s\n",
            "[Parallel(n_jobs=4)]: Done  50 out of  50 | elapsed:    0.0s finished\n"
          ]
        },
        {
          "output_type": "stream",
          "name": "stdout",
          "text": [
            "[CV 2/3] END extratreesclassifier__criterion=gini, extratreesclassifier__max_depth=5, extratreesclassifier__max_features=auto, extratreesclassifier__min_samples_leaf=1, extratreesclassifier__min_samples_split=2, extratreesclassifier__n_estimators=50, pca__n_components=150;, score=0.840 total time=   0.4s\n"
          ]
        },
        {
          "output_type": "stream",
          "name": "stderr",
          "text": [
            "[Parallel(n_jobs=4)]: Using backend LokyBackend with 4 concurrent workers.\n",
            "[Parallel(n_jobs=4)]: Done  50 out of  50 | elapsed:    0.0s finished\n",
            "[Parallel(n_jobs=4)]: Using backend ThreadingBackend with 4 concurrent workers.\n",
            "[Parallel(n_jobs=4)]: Done  33 tasks      | elapsed:    0.0s\n",
            "[Parallel(n_jobs=4)]: Done  50 out of  50 | elapsed:    0.0s finished\n"
          ]
        },
        {
          "output_type": "stream",
          "name": "stdout",
          "text": [
            "[CV 3/3] END extratreesclassifier__criterion=gini, extratreesclassifier__max_depth=5, extratreesclassifier__max_features=auto, extratreesclassifier__min_samples_leaf=1, extratreesclassifier__min_samples_split=2, extratreesclassifier__n_estimators=50, pca__n_components=150;, score=0.804 total time=   0.4s\n"
          ]
        },
        {
          "output_type": "stream",
          "name": "stderr",
          "text": [
            "[Parallel(n_jobs=4)]: Using backend LokyBackend with 4 concurrent workers.\n",
            "[Parallel(n_jobs=4)]: Done  50 out of  50 | elapsed:    0.0s finished\n",
            "[Parallel(n_jobs=4)]: Using backend ThreadingBackend with 4 concurrent workers.\n",
            "[Parallel(n_jobs=4)]: Done  33 tasks      | elapsed:    0.0s\n",
            "[Parallel(n_jobs=4)]: Done  50 out of  50 | elapsed:    0.0s finished\n"
          ]
        },
        {
          "output_type": "stream",
          "name": "stdout",
          "text": [
            "[CV 1/3] END extratreesclassifier__criterion=gini, extratreesclassifier__max_depth=5, extratreesclassifier__max_features=auto, extratreesclassifier__min_samples_leaf=1, extratreesclassifier__min_samples_split=2, extratreesclassifier__n_estimators=50, pca__n_components=200;, score=0.832 total time=   0.5s\n"
          ]
        },
        {
          "output_type": "stream",
          "name": "stderr",
          "text": [
            "[Parallel(n_jobs=4)]: Using backend LokyBackend with 4 concurrent workers.\n",
            "[Parallel(n_jobs=4)]: Done  50 out of  50 | elapsed:    0.0s finished\n",
            "[Parallel(n_jobs=4)]: Using backend ThreadingBackend with 4 concurrent workers.\n",
            "[Parallel(n_jobs=4)]: Done  33 tasks      | elapsed:    0.0s\n",
            "[Parallel(n_jobs=4)]: Done  50 out of  50 | elapsed:    0.0s finished\n"
          ]
        },
        {
          "output_type": "stream",
          "name": "stdout",
          "text": [
            "[CV 2/3] END extratreesclassifier__criterion=gini, extratreesclassifier__max_depth=5, extratreesclassifier__max_features=auto, extratreesclassifier__min_samples_leaf=1, extratreesclassifier__min_samples_split=2, extratreesclassifier__n_estimators=50, pca__n_components=200;, score=0.841 total time=   0.5s\n"
          ]
        },
        {
          "output_type": "stream",
          "name": "stderr",
          "text": [
            "[Parallel(n_jobs=4)]: Using backend LokyBackend with 4 concurrent workers.\n",
            "[Parallel(n_jobs=4)]: Done  50 out of  50 | elapsed:    0.0s finished\n",
            "[Parallel(n_jobs=4)]: Using backend ThreadingBackend with 4 concurrent workers.\n",
            "[Parallel(n_jobs=4)]: Done  33 tasks      | elapsed:    0.0s\n",
            "[Parallel(n_jobs=4)]: Done  50 out of  50 | elapsed:    0.0s finished\n"
          ]
        },
        {
          "output_type": "stream",
          "name": "stdout",
          "text": [
            "[CV 3/3] END extratreesclassifier__criterion=gini, extratreesclassifier__max_depth=5, extratreesclassifier__max_features=auto, extratreesclassifier__min_samples_leaf=1, extratreesclassifier__min_samples_split=2, extratreesclassifier__n_estimators=50, pca__n_components=200;, score=0.828 total time=   0.5s\n"
          ]
        },
        {
          "output_type": "stream",
          "name": "stderr",
          "text": [
            "[Parallel(n_jobs=4)]: Using backend LokyBackend with 4 concurrent workers.\n",
            "[Parallel(n_jobs=4)]: Done  50 out of  50 | elapsed:    0.0s finished\n",
            "[Parallel(n_jobs=4)]: Using backend ThreadingBackend with 4 concurrent workers.\n",
            "[Parallel(n_jobs=4)]: Done  33 tasks      | elapsed:    0.0s\n",
            "[Parallel(n_jobs=4)]: Done  50 out of  50 | elapsed:    0.0s finished\n"
          ]
        },
        {
          "output_type": "stream",
          "name": "stdout",
          "text": [
            "[CV 1/3] END extratreesclassifier__criterion=gini, extratreesclassifier__max_depth=5, extratreesclassifier__max_features=auto, extratreesclassifier__min_samples_leaf=1, extratreesclassifier__min_samples_split=2, extratreesclassifier__n_estimators=50, pca__n_components=300;, score=0.825 total time=   0.7s\n"
          ]
        },
        {
          "output_type": "stream",
          "name": "stderr",
          "text": [
            "[Parallel(n_jobs=4)]: Using backend LokyBackend with 4 concurrent workers.\n",
            "[Parallel(n_jobs=4)]: Done  50 out of  50 | elapsed:    0.0s finished\n",
            "[Parallel(n_jobs=4)]: Using backend ThreadingBackend with 4 concurrent workers.\n",
            "[Parallel(n_jobs=4)]: Done  33 tasks      | elapsed:    0.0s\n",
            "[Parallel(n_jobs=4)]: Done  50 out of  50 | elapsed:    0.0s finished\n"
          ]
        },
        {
          "output_type": "stream",
          "name": "stdout",
          "text": [
            "[CV 2/3] END extratreesclassifier__criterion=gini, extratreesclassifier__max_depth=5, extratreesclassifier__max_features=auto, extratreesclassifier__min_samples_leaf=1, extratreesclassifier__min_samples_split=2, extratreesclassifier__n_estimators=50, pca__n_components=300;, score=0.804 total time=   0.7s\n"
          ]
        },
        {
          "output_type": "stream",
          "name": "stderr",
          "text": [
            "[Parallel(n_jobs=4)]: Using backend LokyBackend with 4 concurrent workers.\n",
            "[Parallel(n_jobs=4)]: Done  50 out of  50 | elapsed:    0.0s finished\n",
            "[Parallel(n_jobs=4)]: Using backend ThreadingBackend with 4 concurrent workers.\n",
            "[Parallel(n_jobs=4)]: Done  33 tasks      | elapsed:    0.0s\n",
            "[Parallel(n_jobs=4)]: Done  50 out of  50 | elapsed:    0.0s finished\n"
          ]
        },
        {
          "output_type": "stream",
          "name": "stdout",
          "text": [
            "[CV 3/3] END extratreesclassifier__criterion=gini, extratreesclassifier__max_depth=5, extratreesclassifier__max_features=auto, extratreesclassifier__min_samples_leaf=1, extratreesclassifier__min_samples_split=2, extratreesclassifier__n_estimators=50, pca__n_components=300;, score=0.819 total time=   0.7s\n"
          ]
        },
        {
          "output_type": "stream",
          "name": "stderr",
          "text": [
            "[Parallel(n_jobs=4)]: Using backend LokyBackend with 4 concurrent workers.\n",
            "[Parallel(n_jobs=4)]: Done  50 out of  50 | elapsed:    0.0s finished\n",
            "[Parallel(n_jobs=4)]: Using backend ThreadingBackend with 4 concurrent workers.\n",
            "[Parallel(n_jobs=4)]: Done  33 tasks      | elapsed:    0.0s\n",
            "[Parallel(n_jobs=4)]: Done  50 out of  50 | elapsed:    0.0s finished\n"
          ]
        },
        {
          "output_type": "stream",
          "name": "stdout",
          "text": [
            "[CV 1/3] END extratreesclassifier__criterion=gini, extratreesclassifier__max_depth=5, extratreesclassifier__max_features=auto, extratreesclassifier__min_samples_leaf=1, extratreesclassifier__min_samples_split=2, extratreesclassifier__n_estimators=50, pca__n_components=400;, score=0.816 total time=   0.7s\n"
          ]
        },
        {
          "output_type": "stream",
          "name": "stderr",
          "text": [
            "[Parallel(n_jobs=4)]: Using backend LokyBackend with 4 concurrent workers.\n",
            "[Parallel(n_jobs=4)]: Done  50 out of  50 | elapsed:    0.0s finished\n",
            "[Parallel(n_jobs=4)]: Using backend ThreadingBackend with 4 concurrent workers.\n",
            "[Parallel(n_jobs=4)]: Done  33 tasks      | elapsed:    0.0s\n",
            "[Parallel(n_jobs=4)]: Done  50 out of  50 | elapsed:    0.0s finished\n"
          ]
        },
        {
          "output_type": "stream",
          "name": "stdout",
          "text": [
            "[CV 2/3] END extratreesclassifier__criterion=gini, extratreesclassifier__max_depth=5, extratreesclassifier__max_features=auto, extratreesclassifier__min_samples_leaf=1, extratreesclassifier__min_samples_split=2, extratreesclassifier__n_estimators=50, pca__n_components=400;, score=0.808 total time=   0.7s\n"
          ]
        },
        {
          "output_type": "stream",
          "name": "stderr",
          "text": [
            "[Parallel(n_jobs=4)]: Using backend LokyBackend with 4 concurrent workers.\n",
            "[Parallel(n_jobs=4)]: Done  50 out of  50 | elapsed:    0.0s finished\n",
            "[Parallel(n_jobs=4)]: Using backend ThreadingBackend with 4 concurrent workers.\n",
            "[Parallel(n_jobs=4)]: Done  33 tasks      | elapsed:    0.0s\n",
            "[Parallel(n_jobs=4)]: Done  50 out of  50 | elapsed:    0.0s finished\n"
          ]
        },
        {
          "output_type": "stream",
          "name": "stdout",
          "text": [
            "[CV 3/3] END extratreesclassifier__criterion=gini, extratreesclassifier__max_depth=5, extratreesclassifier__max_features=auto, extratreesclassifier__min_samples_leaf=1, extratreesclassifier__min_samples_split=2, extratreesclassifier__n_estimators=50, pca__n_components=400;, score=0.789 total time=   0.7s\n"
          ]
        },
        {
          "output_type": "stream",
          "name": "stderr",
          "text": [
            "[Parallel(n_jobs=4)]: Using backend LokyBackend with 4 concurrent workers.\n",
            "[Parallel(n_jobs=4)]: Done  93 tasks      | elapsed:    0.0s\n",
            "[Parallel(n_jobs=4)]: Done 100 out of 100 | elapsed:    0.0s finished\n",
            "[Parallel(n_jobs=4)]: Using backend ThreadingBackend with 4 concurrent workers.\n",
            "[Parallel(n_jobs=4)]: Done  33 tasks      | elapsed:    0.0s\n",
            "[Parallel(n_jobs=4)]: Done 100 out of 100 | elapsed:    0.0s finished\n"
          ]
        },
        {
          "output_type": "stream",
          "name": "stdout",
          "text": [
            "[CV 1/3] END extratreesclassifier__criterion=gini, extratreesclassifier__max_depth=5, extratreesclassifier__max_features=auto, extratreesclassifier__min_samples_leaf=1, extratreesclassifier__min_samples_split=2, extratreesclassifier__n_estimators=100, pca__n_components=100;, score=0.853 total time=   0.4s\n"
          ]
        },
        {
          "output_type": "stream",
          "name": "stderr",
          "text": [
            "[Parallel(n_jobs=4)]: Using backend LokyBackend with 4 concurrent workers.\n",
            "[Parallel(n_jobs=4)]: Done  93 tasks      | elapsed:    0.0s\n",
            "[Parallel(n_jobs=4)]: Done 100 out of 100 | elapsed:    0.0s finished\n",
            "[Parallel(n_jobs=4)]: Using backend ThreadingBackend with 4 concurrent workers.\n",
            "[Parallel(n_jobs=4)]: Done  33 tasks      | elapsed:    0.0s\n",
            "[Parallel(n_jobs=4)]: Done 100 out of 100 | elapsed:    0.0s finished\n"
          ]
        },
        {
          "output_type": "stream",
          "name": "stdout",
          "text": [
            "[CV 2/3] END extratreesclassifier__criterion=gini, extratreesclassifier__max_depth=5, extratreesclassifier__max_features=auto, extratreesclassifier__min_samples_leaf=1, extratreesclassifier__min_samples_split=2, extratreesclassifier__n_estimators=100, pca__n_components=100;, score=0.865 total time=   0.4s\n"
          ]
        },
        {
          "output_type": "stream",
          "name": "stderr",
          "text": [
            "[Parallel(n_jobs=4)]: Using backend LokyBackend with 4 concurrent workers.\n",
            "[Parallel(n_jobs=4)]: Done  93 tasks      | elapsed:    0.0s\n",
            "[Parallel(n_jobs=4)]: Done 100 out of 100 | elapsed:    0.0s finished\n",
            "[Parallel(n_jobs=4)]: Using backend ThreadingBackend with 4 concurrent workers.\n",
            "[Parallel(n_jobs=4)]: Done  33 tasks      | elapsed:    0.0s\n",
            "[Parallel(n_jobs=4)]: Done 100 out of 100 | elapsed:    0.0s finished\n"
          ]
        },
        {
          "output_type": "stream",
          "name": "stdout",
          "text": [
            "[CV 3/3] END extratreesclassifier__criterion=gini, extratreesclassifier__max_depth=5, extratreesclassifier__max_features=auto, extratreesclassifier__min_samples_leaf=1, extratreesclassifier__min_samples_split=2, extratreesclassifier__n_estimators=100, pca__n_components=100;, score=0.848 total time=   0.4s\n"
          ]
        },
        {
          "output_type": "stream",
          "name": "stderr",
          "text": [
            "[Parallel(n_jobs=4)]: Using backend LokyBackend with 4 concurrent workers.\n",
            "[Parallel(n_jobs=4)]: Done  93 tasks      | elapsed:    0.0s\n",
            "[Parallel(n_jobs=4)]: Done 100 out of 100 | elapsed:    0.0s finished\n",
            "[Parallel(n_jobs=4)]: Using backend ThreadingBackend with 4 concurrent workers.\n",
            "[Parallel(n_jobs=4)]: Done  33 tasks      | elapsed:    0.0s\n",
            "[Parallel(n_jobs=4)]: Done 100 out of 100 | elapsed:    0.0s finished\n"
          ]
        },
        {
          "output_type": "stream",
          "name": "stdout",
          "text": [
            "[CV 1/3] END extratreesclassifier__criterion=gini, extratreesclassifier__max_depth=5, extratreesclassifier__max_features=auto, extratreesclassifier__min_samples_leaf=1, extratreesclassifier__min_samples_split=2, extratreesclassifier__n_estimators=100, pca__n_components=150;, score=0.851 total time=   0.5s\n"
          ]
        },
        {
          "output_type": "stream",
          "name": "stderr",
          "text": [
            "[Parallel(n_jobs=4)]: Using backend LokyBackend with 4 concurrent workers.\n",
            "[Parallel(n_jobs=4)]: Done  93 tasks      | elapsed:    0.0s\n",
            "[Parallel(n_jobs=4)]: Done 100 out of 100 | elapsed:    0.0s finished\n",
            "[Parallel(n_jobs=4)]: Using backend ThreadingBackend with 4 concurrent workers.\n",
            "[Parallel(n_jobs=4)]: Done  33 tasks      | elapsed:    0.0s\n",
            "[Parallel(n_jobs=4)]: Done 100 out of 100 | elapsed:    0.0s finished\n"
          ]
        },
        {
          "output_type": "stream",
          "name": "stdout",
          "text": [
            "[CV 2/3] END extratreesclassifier__criterion=gini, extratreesclassifier__max_depth=5, extratreesclassifier__max_features=auto, extratreesclassifier__min_samples_leaf=1, extratreesclassifier__min_samples_split=2, extratreesclassifier__n_estimators=100, pca__n_components=150;, score=0.867 total time=   0.5s\n"
          ]
        },
        {
          "output_type": "stream",
          "name": "stderr",
          "text": [
            "[Parallel(n_jobs=4)]: Using backend LokyBackend with 4 concurrent workers.\n",
            "[Parallel(n_jobs=4)]: Done  93 tasks      | elapsed:    0.0s\n",
            "[Parallel(n_jobs=4)]: Done 100 out of 100 | elapsed:    0.0s finished\n",
            "[Parallel(n_jobs=4)]: Using backend ThreadingBackend with 4 concurrent workers.\n",
            "[Parallel(n_jobs=4)]: Done  33 tasks      | elapsed:    0.0s\n",
            "[Parallel(n_jobs=4)]: Done 100 out of 100 | elapsed:    0.0s finished\n"
          ]
        },
        {
          "output_type": "stream",
          "name": "stdout",
          "text": [
            "[CV 3/3] END extratreesclassifier__criterion=gini, extratreesclassifier__max_depth=5, extratreesclassifier__max_features=auto, extratreesclassifier__min_samples_leaf=1, extratreesclassifier__min_samples_split=2, extratreesclassifier__n_estimators=100, pca__n_components=150;, score=0.851 total time=   0.5s\n"
          ]
        },
        {
          "output_type": "stream",
          "name": "stderr",
          "text": [
            "[Parallel(n_jobs=4)]: Using backend LokyBackend with 4 concurrent workers.\n",
            "[Parallel(n_jobs=4)]: Done  93 tasks      | elapsed:    0.0s\n",
            "[Parallel(n_jobs=4)]: Done 100 out of 100 | elapsed:    0.0s finished\n",
            "[Parallel(n_jobs=4)]: Using backend ThreadingBackend with 4 concurrent workers.\n",
            "[Parallel(n_jobs=4)]: Done  33 tasks      | elapsed:    0.0s\n",
            "[Parallel(n_jobs=4)]: Done 100 out of 100 | elapsed:    0.0s finished\n"
          ]
        },
        {
          "output_type": "stream",
          "name": "stdout",
          "text": [
            "[CV 1/3] END extratreesclassifier__criterion=gini, extratreesclassifier__max_depth=5, extratreesclassifier__max_features=auto, extratreesclassifier__min_samples_leaf=1, extratreesclassifier__min_samples_split=2, extratreesclassifier__n_estimators=100, pca__n_components=200;, score=0.848 total time=   0.6s\n"
          ]
        },
        {
          "output_type": "stream",
          "name": "stderr",
          "text": [
            "[Parallel(n_jobs=4)]: Using backend LokyBackend with 4 concurrent workers.\n",
            "[Parallel(n_jobs=4)]: Done  93 tasks      | elapsed:    0.0s\n",
            "[Parallel(n_jobs=4)]: Done 100 out of 100 | elapsed:    0.0s finished\n",
            "[Parallel(n_jobs=4)]: Using backend ThreadingBackend with 4 concurrent workers.\n",
            "[Parallel(n_jobs=4)]: Done  33 tasks      | elapsed:    0.0s\n",
            "[Parallel(n_jobs=4)]: Done 100 out of 100 | elapsed:    0.0s finished\n"
          ]
        },
        {
          "output_type": "stream",
          "name": "stdout",
          "text": [
            "[CV 2/3] END extratreesclassifier__criterion=gini, extratreesclassifier__max_depth=5, extratreesclassifier__max_features=auto, extratreesclassifier__min_samples_leaf=1, extratreesclassifier__min_samples_split=2, extratreesclassifier__n_estimators=100, pca__n_components=200;, score=0.853 total time=   0.6s\n"
          ]
        },
        {
          "output_type": "stream",
          "name": "stderr",
          "text": [
            "[Parallel(n_jobs=4)]: Using backend LokyBackend with 4 concurrent workers.\n",
            "[Parallel(n_jobs=4)]: Done  93 tasks      | elapsed:    0.0s\n",
            "[Parallel(n_jobs=4)]: Done 100 out of 100 | elapsed:    0.0s finished\n",
            "[Parallel(n_jobs=4)]: Using backend ThreadingBackend with 4 concurrent workers.\n",
            "[Parallel(n_jobs=4)]: Done  33 tasks      | elapsed:    0.0s\n",
            "[Parallel(n_jobs=4)]: Done 100 out of 100 | elapsed:    0.0s finished\n"
          ]
        },
        {
          "output_type": "stream",
          "name": "stdout",
          "text": [
            "[CV 3/3] END extratreesclassifier__criterion=gini, extratreesclassifier__max_depth=5, extratreesclassifier__max_features=auto, extratreesclassifier__min_samples_leaf=1, extratreesclassifier__min_samples_split=2, extratreesclassifier__n_estimators=100, pca__n_components=200;, score=0.863 total time=   0.6s\n"
          ]
        },
        {
          "output_type": "stream",
          "name": "stderr",
          "text": [
            "[Parallel(n_jobs=4)]: Using backend LokyBackend with 4 concurrent workers.\n",
            "[Parallel(n_jobs=4)]: Done  93 tasks      | elapsed:    0.0s\n",
            "[Parallel(n_jobs=4)]: Done 100 out of 100 | elapsed:    0.0s finished\n",
            "[Parallel(n_jobs=4)]: Using backend ThreadingBackend with 4 concurrent workers.\n",
            "[Parallel(n_jobs=4)]: Done  33 tasks      | elapsed:    0.0s\n",
            "[Parallel(n_jobs=4)]: Done 100 out of 100 | elapsed:    0.0s finished\n"
          ]
        },
        {
          "output_type": "stream",
          "name": "stdout",
          "text": [
            "[CV 1/3] END extratreesclassifier__criterion=gini, extratreesclassifier__max_depth=5, extratreesclassifier__max_features=auto, extratreesclassifier__min_samples_leaf=1, extratreesclassifier__min_samples_split=2, extratreesclassifier__n_estimators=100, pca__n_components=300;, score=0.855 total time=   0.8s\n"
          ]
        },
        {
          "output_type": "stream",
          "name": "stderr",
          "text": [
            "[Parallel(n_jobs=4)]: Using backend LokyBackend with 4 concurrent workers.\n",
            "[Parallel(n_jobs=4)]: Done  93 tasks      | elapsed:    0.0s\n",
            "[Parallel(n_jobs=4)]: Done 100 out of 100 | elapsed:    0.0s finished\n",
            "[Parallel(n_jobs=4)]: Using backend ThreadingBackend with 4 concurrent workers.\n",
            "[Parallel(n_jobs=4)]: Done  33 tasks      | elapsed:    0.0s\n",
            "[Parallel(n_jobs=4)]: Done 100 out of 100 | elapsed:    0.0s finished\n"
          ]
        },
        {
          "output_type": "stream",
          "name": "stdout",
          "text": [
            "[CV 2/3] END extratreesclassifier__criterion=gini, extratreesclassifier__max_depth=5, extratreesclassifier__max_features=auto, extratreesclassifier__min_samples_leaf=1, extratreesclassifier__min_samples_split=2, extratreesclassifier__n_estimators=100, pca__n_components=300;, score=0.867 total time=   0.8s\n"
          ]
        },
        {
          "output_type": "stream",
          "name": "stderr",
          "text": [
            "[Parallel(n_jobs=4)]: Using backend LokyBackend with 4 concurrent workers.\n",
            "[Parallel(n_jobs=4)]: Done  93 tasks      | elapsed:    0.0s\n",
            "[Parallel(n_jobs=4)]: Done 100 out of 100 | elapsed:    0.0s finished\n",
            "[Parallel(n_jobs=4)]: Using backend ThreadingBackend with 4 concurrent workers.\n",
            "[Parallel(n_jobs=4)]: Done  33 tasks      | elapsed:    0.0s\n",
            "[Parallel(n_jobs=4)]: Done 100 out of 100 | elapsed:    0.0s finished\n"
          ]
        },
        {
          "output_type": "stream",
          "name": "stdout",
          "text": [
            "[CV 3/3] END extratreesclassifier__criterion=gini, extratreesclassifier__max_depth=5, extratreesclassifier__max_features=auto, extratreesclassifier__min_samples_leaf=1, extratreesclassifier__min_samples_split=2, extratreesclassifier__n_estimators=100, pca__n_components=300;, score=0.861 total time=   0.8s\n"
          ]
        },
        {
          "output_type": "stream",
          "name": "stderr",
          "text": [
            "[Parallel(n_jobs=4)]: Using backend LokyBackend with 4 concurrent workers.\n",
            "[Parallel(n_jobs=4)]: Done  93 tasks      | elapsed:    0.0s\n",
            "[Parallel(n_jobs=4)]: Done 100 out of 100 | elapsed:    0.0s finished\n",
            "[Parallel(n_jobs=4)]: Using backend ThreadingBackend with 4 concurrent workers.\n",
            "[Parallel(n_jobs=4)]: Done  33 tasks      | elapsed:    0.0s\n",
            "[Parallel(n_jobs=4)]: Done 100 out of 100 | elapsed:    0.0s finished\n"
          ]
        },
        {
          "output_type": "stream",
          "name": "stdout",
          "text": [
            "[CV 1/3] END extratreesclassifier__criterion=gini, extratreesclassifier__max_depth=5, extratreesclassifier__max_features=auto, extratreesclassifier__min_samples_leaf=1, extratreesclassifier__min_samples_split=2, extratreesclassifier__n_estimators=100, pca__n_components=400;, score=0.853 total time=   0.8s\n"
          ]
        },
        {
          "output_type": "stream",
          "name": "stderr",
          "text": [
            "[Parallel(n_jobs=4)]: Using backend LokyBackend with 4 concurrent workers.\n",
            "[Parallel(n_jobs=4)]: Done  93 tasks      | elapsed:    0.0s\n",
            "[Parallel(n_jobs=4)]: Done 100 out of 100 | elapsed:    0.0s finished\n",
            "[Parallel(n_jobs=4)]: Using backend ThreadingBackend with 4 concurrent workers.\n",
            "[Parallel(n_jobs=4)]: Done  33 tasks      | elapsed:    0.0s\n",
            "[Parallel(n_jobs=4)]: Done 100 out of 100 | elapsed:    0.0s finished\n"
          ]
        },
        {
          "output_type": "stream",
          "name": "stdout",
          "text": [
            "[CV 2/3] END extratreesclassifier__criterion=gini, extratreesclassifier__max_depth=5, extratreesclassifier__max_features=auto, extratreesclassifier__min_samples_leaf=1, extratreesclassifier__min_samples_split=2, extratreesclassifier__n_estimators=100, pca__n_components=400;, score=0.876 total time=   0.8s\n"
          ]
        },
        {
          "output_type": "stream",
          "name": "stderr",
          "text": [
            "[Parallel(n_jobs=4)]: Using backend LokyBackend with 4 concurrent workers.\n",
            "[Parallel(n_jobs=4)]: Done  93 tasks      | elapsed:    0.0s\n",
            "[Parallel(n_jobs=4)]: Done 100 out of 100 | elapsed:    0.0s finished\n",
            "[Parallel(n_jobs=4)]: Using backend ThreadingBackend with 4 concurrent workers.\n",
            "[Parallel(n_jobs=4)]: Done  33 tasks      | elapsed:    0.0s\n",
            "[Parallel(n_jobs=4)]: Done 100 out of 100 | elapsed:    0.0s finished\n"
          ]
        },
        {
          "output_type": "stream",
          "name": "stdout",
          "text": [
            "[CV 3/3] END extratreesclassifier__criterion=gini, extratreesclassifier__max_depth=5, extratreesclassifier__max_features=auto, extratreesclassifier__min_samples_leaf=1, extratreesclassifier__min_samples_split=2, extratreesclassifier__n_estimators=100, pca__n_components=400;, score=0.872 total time=   0.8s\n"
          ]
        },
        {
          "output_type": "stream",
          "name": "stderr",
          "text": [
            "[Parallel(n_jobs=4)]: Using backend LokyBackend with 4 concurrent workers.\n",
            "[Parallel(n_jobs=4)]: Done 136 tasks      | elapsed:    0.0s\n",
            "[Parallel(n_jobs=4)]: Done 200 out of 200 | elapsed:    0.0s finished\n",
            "[Parallel(n_jobs=4)]: Using backend ThreadingBackend with 4 concurrent workers.\n",
            "[Parallel(n_jobs=4)]: Done  33 tasks      | elapsed:    0.0s\n",
            "[Parallel(n_jobs=4)]: Done 154 tasks      | elapsed:    0.0s\n",
            "[Parallel(n_jobs=4)]: Done 200 out of 200 | elapsed:    0.0s finished\n"
          ]
        },
        {
          "output_type": "stream",
          "name": "stdout",
          "text": [
            "[CV 1/3] END extratreesclassifier__criterion=gini, extratreesclassifier__max_depth=5, extratreesclassifier__max_features=auto, extratreesclassifier__min_samples_leaf=1, extratreesclassifier__min_samples_split=2, extratreesclassifier__n_estimators=200, pca__n_components=100;, score=0.859 total time=   0.5s\n"
          ]
        },
        {
          "output_type": "stream",
          "name": "stderr",
          "text": [
            "[Parallel(n_jobs=4)]: Using backend LokyBackend with 4 concurrent workers.\n",
            "[Parallel(n_jobs=4)]: Done 136 tasks      | elapsed:    0.0s\n",
            "[Parallel(n_jobs=4)]: Done 200 out of 200 | elapsed:    0.0s finished\n",
            "[Parallel(n_jobs=4)]: Using backend ThreadingBackend with 4 concurrent workers.\n",
            "[Parallel(n_jobs=4)]: Done  33 tasks      | elapsed:    0.0s\n",
            "[Parallel(n_jobs=4)]: Done 154 tasks      | elapsed:    0.0s\n",
            "[Parallel(n_jobs=4)]: Done 200 out of 200 | elapsed:    0.0s finished\n"
          ]
        },
        {
          "output_type": "stream",
          "name": "stdout",
          "text": [
            "[CV 2/3] END extratreesclassifier__criterion=gini, extratreesclassifier__max_depth=5, extratreesclassifier__max_features=auto, extratreesclassifier__min_samples_leaf=1, extratreesclassifier__min_samples_split=2, extratreesclassifier__n_estimators=200, pca__n_components=100;, score=0.868 total time=   0.5s\n"
          ]
        },
        {
          "output_type": "stream",
          "name": "stderr",
          "text": [
            "[Parallel(n_jobs=4)]: Using backend LokyBackend with 4 concurrent workers.\n",
            "[Parallel(n_jobs=4)]: Done 136 tasks      | elapsed:    0.0s\n",
            "[Parallel(n_jobs=4)]: Done 200 out of 200 | elapsed:    0.0s finished\n",
            "[Parallel(n_jobs=4)]: Using backend ThreadingBackend with 4 concurrent workers.\n",
            "[Parallel(n_jobs=4)]: Done  33 tasks      | elapsed:    0.0s\n",
            "[Parallel(n_jobs=4)]: Done 154 tasks      | elapsed:    0.0s\n",
            "[Parallel(n_jobs=4)]: Done 200 out of 200 | elapsed:    0.0s finished\n"
          ]
        },
        {
          "output_type": "stream",
          "name": "stdout",
          "text": [
            "[CV 3/3] END extratreesclassifier__criterion=gini, extratreesclassifier__max_depth=5, extratreesclassifier__max_features=auto, extratreesclassifier__min_samples_leaf=1, extratreesclassifier__min_samples_split=2, extratreesclassifier__n_estimators=200, pca__n_components=100;, score=0.870 total time=   0.5s\n"
          ]
        },
        {
          "output_type": "stream",
          "name": "stderr",
          "text": [
            "[Parallel(n_jobs=4)]: Using backend LokyBackend with 4 concurrent workers.\n",
            "[Parallel(n_jobs=4)]: Done 136 tasks      | elapsed:    0.0s\n",
            "[Parallel(n_jobs=4)]: Done 200 out of 200 | elapsed:    0.1s finished\n",
            "[Parallel(n_jobs=4)]: Using backend ThreadingBackend with 4 concurrent workers.\n",
            "[Parallel(n_jobs=4)]: Done  33 tasks      | elapsed:    0.0s\n",
            "[Parallel(n_jobs=4)]: Done 154 tasks      | elapsed:    0.0s\n",
            "[Parallel(n_jobs=4)]: Done 200 out of 200 | elapsed:    0.0s finished\n"
          ]
        },
        {
          "output_type": "stream",
          "name": "stdout",
          "text": [
            "[CV 1/3] END extratreesclassifier__criterion=gini, extratreesclassifier__max_depth=5, extratreesclassifier__max_features=auto, extratreesclassifier__min_samples_leaf=1, extratreesclassifier__min_samples_split=2, extratreesclassifier__n_estimators=200, pca__n_components=150;, score=0.859 total time=   0.5s\n"
          ]
        },
        {
          "output_type": "stream",
          "name": "stderr",
          "text": [
            "[Parallel(n_jobs=4)]: Using backend LokyBackend with 4 concurrent workers.\n",
            "[Parallel(n_jobs=4)]: Done 136 tasks      | elapsed:    0.0s\n",
            "[Parallel(n_jobs=4)]: Done 200 out of 200 | elapsed:    0.1s finished\n",
            "[Parallel(n_jobs=4)]: Using backend ThreadingBackend with 4 concurrent workers.\n",
            "[Parallel(n_jobs=4)]: Done  33 tasks      | elapsed:    0.0s\n",
            "[Parallel(n_jobs=4)]: Done 154 tasks      | elapsed:    0.0s\n",
            "[Parallel(n_jobs=4)]: Done 200 out of 200 | elapsed:    0.0s finished\n"
          ]
        },
        {
          "output_type": "stream",
          "name": "stdout",
          "text": [
            "[CV 2/3] END extratreesclassifier__criterion=gini, extratreesclassifier__max_depth=5, extratreesclassifier__max_features=auto, extratreesclassifier__min_samples_leaf=1, extratreesclassifier__min_samples_split=2, extratreesclassifier__n_estimators=200, pca__n_components=150;, score=0.878 total time=   0.6s\n"
          ]
        },
        {
          "output_type": "stream",
          "name": "stderr",
          "text": [
            "[Parallel(n_jobs=4)]: Using backend LokyBackend with 4 concurrent workers.\n",
            "[Parallel(n_jobs=4)]: Done 136 tasks      | elapsed:    0.0s\n",
            "[Parallel(n_jobs=4)]: Done 200 out of 200 | elapsed:    0.1s finished\n",
            "[Parallel(n_jobs=4)]: Using backend ThreadingBackend with 4 concurrent workers.\n",
            "[Parallel(n_jobs=4)]: Done  33 tasks      | elapsed:    0.0s\n",
            "[Parallel(n_jobs=4)]: Done 154 tasks      | elapsed:    0.0s\n",
            "[Parallel(n_jobs=4)]: Done 200 out of 200 | elapsed:    0.0s finished\n"
          ]
        },
        {
          "output_type": "stream",
          "name": "stdout",
          "text": [
            "[CV 3/3] END extratreesclassifier__criterion=gini, extratreesclassifier__max_depth=5, extratreesclassifier__max_features=auto, extratreesclassifier__min_samples_leaf=1, extratreesclassifier__min_samples_split=2, extratreesclassifier__n_estimators=200, pca__n_components=150;, score=0.872 total time=   0.6s\n"
          ]
        },
        {
          "output_type": "stream",
          "name": "stderr",
          "text": [
            "[Parallel(n_jobs=4)]: Using backend LokyBackend with 4 concurrent workers.\n",
            "[Parallel(n_jobs=4)]: Done 136 tasks      | elapsed:    0.1s\n",
            "[Parallel(n_jobs=4)]: Done 200 out of 200 | elapsed:    0.1s finished\n",
            "[Parallel(n_jobs=4)]: Using backend ThreadingBackend with 4 concurrent workers.\n",
            "[Parallel(n_jobs=4)]: Done  33 tasks      | elapsed:    0.0s\n",
            "[Parallel(n_jobs=4)]: Done 154 tasks      | elapsed:    0.0s\n",
            "[Parallel(n_jobs=4)]: Done 200 out of 200 | elapsed:    0.0s finished\n"
          ]
        },
        {
          "output_type": "stream",
          "name": "stdout",
          "text": [
            "[CV 1/3] END extratreesclassifier__criterion=gini, extratreesclassifier__max_depth=5, extratreesclassifier__max_features=auto, extratreesclassifier__min_samples_leaf=1, extratreesclassifier__min_samples_split=2, extratreesclassifier__n_estimators=200, pca__n_components=200;, score=0.869 total time=   0.7s\n"
          ]
        },
        {
          "output_type": "stream",
          "name": "stderr",
          "text": [
            "[Parallel(n_jobs=4)]: Using backend LokyBackend with 4 concurrent workers.\n",
            "[Parallel(n_jobs=4)]: Done 136 tasks      | elapsed:    0.0s\n",
            "[Parallel(n_jobs=4)]: Done 200 out of 200 | elapsed:    0.1s finished\n",
            "[Parallel(n_jobs=4)]: Using backend ThreadingBackend with 4 concurrent workers.\n",
            "[Parallel(n_jobs=4)]: Done  33 tasks      | elapsed:    0.0s\n",
            "[Parallel(n_jobs=4)]: Done 154 tasks      | elapsed:    0.0s\n",
            "[Parallel(n_jobs=4)]: Done 200 out of 200 | elapsed:    0.0s finished\n"
          ]
        },
        {
          "output_type": "stream",
          "name": "stdout",
          "text": [
            "[CV 2/3] END extratreesclassifier__criterion=gini, extratreesclassifier__max_depth=5, extratreesclassifier__max_features=auto, extratreesclassifier__min_samples_leaf=1, extratreesclassifier__min_samples_split=2, extratreesclassifier__n_estimators=200, pca__n_components=200;, score=0.879 total time=   0.7s\n"
          ]
        },
        {
          "output_type": "stream",
          "name": "stderr",
          "text": [
            "[Parallel(n_jobs=4)]: Using backend LokyBackend with 4 concurrent workers.\n",
            "[Parallel(n_jobs=4)]: Done 136 tasks      | elapsed:    0.0s\n",
            "[Parallel(n_jobs=4)]: Done 200 out of 200 | elapsed:    0.1s finished\n",
            "[Parallel(n_jobs=4)]: Using backend ThreadingBackend with 4 concurrent workers.\n",
            "[Parallel(n_jobs=4)]: Done  33 tasks      | elapsed:    0.0s\n",
            "[Parallel(n_jobs=4)]: Done 154 tasks      | elapsed:    0.0s\n",
            "[Parallel(n_jobs=4)]: Done 200 out of 200 | elapsed:    0.0s finished\n"
          ]
        },
        {
          "output_type": "stream",
          "name": "stdout",
          "text": [
            "[CV 3/3] END extratreesclassifier__criterion=gini, extratreesclassifier__max_depth=5, extratreesclassifier__max_features=auto, extratreesclassifier__min_samples_leaf=1, extratreesclassifier__min_samples_split=2, extratreesclassifier__n_estimators=200, pca__n_components=200;, score=0.875 total time=   0.7s\n"
          ]
        },
        {
          "output_type": "stream",
          "name": "stderr",
          "text": [
            "[Parallel(n_jobs=4)]: Using backend LokyBackend with 4 concurrent workers.\n",
            "[Parallel(n_jobs=4)]: Done 136 tasks      | elapsed:    0.1s\n",
            "[Parallel(n_jobs=4)]: Done 200 out of 200 | elapsed:    0.1s finished\n",
            "[Parallel(n_jobs=4)]: Using backend ThreadingBackend with 4 concurrent workers.\n",
            "[Parallel(n_jobs=4)]: Done  33 tasks      | elapsed:    0.0s\n",
            "[Parallel(n_jobs=4)]: Done 154 tasks      | elapsed:    0.0s\n",
            "[Parallel(n_jobs=4)]: Done 200 out of 200 | elapsed:    0.0s finished\n"
          ]
        },
        {
          "output_type": "stream",
          "name": "stdout",
          "text": [
            "[CV 1/3] END extratreesclassifier__criterion=gini, extratreesclassifier__max_depth=5, extratreesclassifier__max_features=auto, extratreesclassifier__min_samples_leaf=1, extratreesclassifier__min_samples_split=2, extratreesclassifier__n_estimators=200, pca__n_components=300;, score=0.876 total time=   0.9s\n"
          ]
        },
        {
          "output_type": "stream",
          "name": "stderr",
          "text": [
            "[Parallel(n_jobs=4)]: Using backend LokyBackend with 4 concurrent workers.\n",
            "[Parallel(n_jobs=4)]: Done 136 tasks      | elapsed:    0.1s\n",
            "[Parallel(n_jobs=4)]: Done 200 out of 200 | elapsed:    0.1s finished\n",
            "[Parallel(n_jobs=4)]: Using backend ThreadingBackend with 4 concurrent workers.\n",
            "[Parallel(n_jobs=4)]: Done  33 tasks      | elapsed:    0.0s\n",
            "[Parallel(n_jobs=4)]: Done 154 tasks      | elapsed:    0.0s\n",
            "[Parallel(n_jobs=4)]: Done 200 out of 200 | elapsed:    0.0s finished\n"
          ]
        },
        {
          "output_type": "stream",
          "name": "stdout",
          "text": [
            "[CV 2/3] END extratreesclassifier__criterion=gini, extratreesclassifier__max_depth=5, extratreesclassifier__max_features=auto, extratreesclassifier__min_samples_leaf=1, extratreesclassifier__min_samples_split=2, extratreesclassifier__n_estimators=200, pca__n_components=300;, score=0.875 total time=   0.9s\n"
          ]
        },
        {
          "output_type": "stream",
          "name": "stderr",
          "text": [
            "[Parallel(n_jobs=4)]: Using backend LokyBackend with 4 concurrent workers.\n",
            "[Parallel(n_jobs=4)]: Done 136 tasks      | elapsed:    0.1s\n",
            "[Parallel(n_jobs=4)]: Done 200 out of 200 | elapsed:    0.1s finished\n",
            "[Parallel(n_jobs=4)]: Using backend ThreadingBackend with 4 concurrent workers.\n",
            "[Parallel(n_jobs=4)]: Done  33 tasks      | elapsed:    0.0s\n",
            "[Parallel(n_jobs=4)]: Done 154 tasks      | elapsed:    0.0s\n",
            "[Parallel(n_jobs=4)]: Done 200 out of 200 | elapsed:    0.0s finished\n"
          ]
        },
        {
          "output_type": "stream",
          "name": "stdout",
          "text": [
            "[CV 3/3] END extratreesclassifier__criterion=gini, extratreesclassifier__max_depth=5, extratreesclassifier__max_features=auto, extratreesclassifier__min_samples_leaf=1, extratreesclassifier__min_samples_split=2, extratreesclassifier__n_estimators=200, pca__n_components=300;, score=0.884 total time=   0.9s\n"
          ]
        },
        {
          "output_type": "stream",
          "name": "stderr",
          "text": [
            "[Parallel(n_jobs=4)]: Using backend LokyBackend with 4 concurrent workers.\n",
            "[Parallel(n_jobs=4)]: Done 136 tasks      | elapsed:    0.1s\n",
            "[Parallel(n_jobs=4)]: Done 200 out of 200 | elapsed:    0.1s finished\n",
            "[Parallel(n_jobs=4)]: Using backend ThreadingBackend with 4 concurrent workers.\n",
            "[Parallel(n_jobs=4)]: Done  33 tasks      | elapsed:    0.0s\n",
            "[Parallel(n_jobs=4)]: Done 154 tasks      | elapsed:    0.0s\n",
            "[Parallel(n_jobs=4)]: Done 200 out of 200 | elapsed:    0.0s finished\n"
          ]
        },
        {
          "output_type": "stream",
          "name": "stdout",
          "text": [
            "[CV 1/3] END extratreesclassifier__criterion=gini, extratreesclassifier__max_depth=5, extratreesclassifier__max_features=auto, extratreesclassifier__min_samples_leaf=1, extratreesclassifier__min_samples_split=2, extratreesclassifier__n_estimators=200, pca__n_components=400;, score=0.887 total time=   0.9s\n"
          ]
        },
        {
          "output_type": "stream",
          "name": "stderr",
          "text": [
            "[Parallel(n_jobs=4)]: Using backend LokyBackend with 4 concurrent workers.\n",
            "[Parallel(n_jobs=4)]: Done 136 tasks      | elapsed:    0.1s\n",
            "[Parallel(n_jobs=4)]: Done 200 out of 200 | elapsed:    0.1s finished\n",
            "[Parallel(n_jobs=4)]: Using backend ThreadingBackend with 4 concurrent workers.\n",
            "[Parallel(n_jobs=4)]: Done  33 tasks      | elapsed:    0.0s\n",
            "[Parallel(n_jobs=4)]: Done 154 tasks      | elapsed:    0.0s\n",
            "[Parallel(n_jobs=4)]: Done 200 out of 200 | elapsed:    0.0s finished\n"
          ]
        },
        {
          "output_type": "stream",
          "name": "stdout",
          "text": [
            "[CV 2/3] END extratreesclassifier__criterion=gini, extratreesclassifier__max_depth=5, extratreesclassifier__max_features=auto, extratreesclassifier__min_samples_leaf=1, extratreesclassifier__min_samples_split=2, extratreesclassifier__n_estimators=200, pca__n_components=400;, score=0.879 total time=   0.9s\n"
          ]
        },
        {
          "output_type": "stream",
          "name": "stderr",
          "text": [
            "[Parallel(n_jobs=4)]: Using backend LokyBackend with 4 concurrent workers.\n",
            "[Parallel(n_jobs=4)]: Done 136 tasks      | elapsed:    0.1s\n",
            "[Parallel(n_jobs=4)]: Done 200 out of 200 | elapsed:    0.1s finished\n",
            "[Parallel(n_jobs=4)]: Using backend ThreadingBackend with 4 concurrent workers.\n",
            "[Parallel(n_jobs=4)]: Done  33 tasks      | elapsed:    0.0s\n",
            "[Parallel(n_jobs=4)]: Done 154 tasks      | elapsed:    0.0s\n",
            "[Parallel(n_jobs=4)]: Done 200 out of 200 | elapsed:    0.0s finished\n"
          ]
        },
        {
          "output_type": "stream",
          "name": "stdout",
          "text": [
            "[CV 3/3] END extratreesclassifier__criterion=gini, extratreesclassifier__max_depth=5, extratreesclassifier__max_features=auto, extratreesclassifier__min_samples_leaf=1, extratreesclassifier__min_samples_split=2, extratreesclassifier__n_estimators=200, pca__n_components=400;, score=0.882 total time=   0.9s\n"
          ]
        },
        {
          "output_type": "stream",
          "name": "stderr",
          "text": [
            "[Parallel(n_jobs=4)]: Using backend LokyBackend with 4 concurrent workers.\n",
            "[Parallel(n_jobs=4)]: Done  10 out of  10 | elapsed:    0.0s finished\n",
            "[Parallel(n_jobs=4)]: Using backend ThreadingBackend with 4 concurrent workers.\n",
            "[Parallel(n_jobs=4)]: Done  10 out of  10 | elapsed:    0.0s finished\n"
          ]
        },
        {
          "output_type": "stream",
          "name": "stdout",
          "text": [
            "[CV 1/3] END extratreesclassifier__criterion=gini, extratreesclassifier__max_depth=5, extratreesclassifier__max_features=auto, extratreesclassifier__min_samples_leaf=1, extratreesclassifier__min_samples_split=10, extratreesclassifier__n_estimators=10, pca__n_components=100;, score=0.610 total time=   0.3s\n"
          ]
        },
        {
          "output_type": "stream",
          "name": "stderr",
          "text": [
            "[Parallel(n_jobs=4)]: Using backend LokyBackend with 4 concurrent workers.\n",
            "[Parallel(n_jobs=4)]: Done  10 out of  10 | elapsed:    0.0s finished\n",
            "[Parallel(n_jobs=4)]: Using backend ThreadingBackend with 4 concurrent workers.\n",
            "[Parallel(n_jobs=4)]: Done  10 out of  10 | elapsed:    0.0s finished\n"
          ]
        },
        {
          "output_type": "stream",
          "name": "stdout",
          "text": [
            "[CV 2/3] END extratreesclassifier__criterion=gini, extratreesclassifier__max_depth=5, extratreesclassifier__max_features=auto, extratreesclassifier__min_samples_leaf=1, extratreesclassifier__min_samples_split=10, extratreesclassifier__n_estimators=10, pca__n_components=100;, score=0.603 total time=   0.3s\n"
          ]
        },
        {
          "output_type": "stream",
          "name": "stderr",
          "text": [
            "[Parallel(n_jobs=4)]: Using backend LokyBackend with 4 concurrent workers.\n",
            "[Parallel(n_jobs=4)]: Done  10 out of  10 | elapsed:    0.0s finished\n",
            "[Parallel(n_jobs=4)]: Using backend ThreadingBackend with 4 concurrent workers.\n",
            "[Parallel(n_jobs=4)]: Done  10 out of  10 | elapsed:    0.0s finished\n"
          ]
        },
        {
          "output_type": "stream",
          "name": "stdout",
          "text": [
            "[CV 3/3] END extratreesclassifier__criterion=gini, extratreesclassifier__max_depth=5, extratreesclassifier__max_features=auto, extratreesclassifier__min_samples_leaf=1, extratreesclassifier__min_samples_split=10, extratreesclassifier__n_estimators=10, pca__n_components=100;, score=0.615 total time=   0.3s\n"
          ]
        },
        {
          "output_type": "stream",
          "name": "stderr",
          "text": [
            "[Parallel(n_jobs=4)]: Using backend LokyBackend with 4 concurrent workers.\n",
            "[Parallel(n_jobs=4)]: Done  10 out of  10 | elapsed:    0.0s finished\n",
            "[Parallel(n_jobs=4)]: Using backend ThreadingBackend with 4 concurrent workers.\n",
            "[Parallel(n_jobs=4)]: Done  10 out of  10 | elapsed:    0.0s finished\n"
          ]
        },
        {
          "output_type": "stream",
          "name": "stdout",
          "text": [
            "[CV 1/3] END extratreesclassifier__criterion=gini, extratreesclassifier__max_depth=5, extratreesclassifier__max_features=auto, extratreesclassifier__min_samples_leaf=1, extratreesclassifier__min_samples_split=10, extratreesclassifier__n_estimators=10, pca__n_components=150;, score=0.634 total time=   0.4s\n"
          ]
        },
        {
          "output_type": "stream",
          "name": "stderr",
          "text": [
            "[Parallel(n_jobs=4)]: Using backend LokyBackend with 4 concurrent workers.\n",
            "[Parallel(n_jobs=4)]: Done  10 out of  10 | elapsed:    0.0s finished\n",
            "[Parallel(n_jobs=4)]: Using backend ThreadingBackend with 4 concurrent workers.\n",
            "[Parallel(n_jobs=4)]: Done  10 out of  10 | elapsed:    0.0s finished\n"
          ]
        },
        {
          "output_type": "stream",
          "name": "stdout",
          "text": [
            "[CV 2/3] END extratreesclassifier__criterion=gini, extratreesclassifier__max_depth=5, extratreesclassifier__max_features=auto, extratreesclassifier__min_samples_leaf=1, extratreesclassifier__min_samples_split=10, extratreesclassifier__n_estimators=10, pca__n_components=150;, score=0.651 total time=   0.4s\n"
          ]
        },
        {
          "output_type": "stream",
          "name": "stderr",
          "text": [
            "[Parallel(n_jobs=4)]: Using backend LokyBackend with 4 concurrent workers.\n",
            "[Parallel(n_jobs=4)]: Done  10 out of  10 | elapsed:    0.0s finished\n",
            "[Parallel(n_jobs=4)]: Using backend ThreadingBackend with 4 concurrent workers.\n",
            "[Parallel(n_jobs=4)]: Done  10 out of  10 | elapsed:    0.0s finished\n"
          ]
        },
        {
          "output_type": "stream",
          "name": "stdout",
          "text": [
            "[CV 3/3] END extratreesclassifier__criterion=gini, extratreesclassifier__max_depth=5, extratreesclassifier__max_features=auto, extratreesclassifier__min_samples_leaf=1, extratreesclassifier__min_samples_split=10, extratreesclassifier__n_estimators=10, pca__n_components=150;, score=0.544 total time=   0.4s\n"
          ]
        },
        {
          "output_type": "stream",
          "name": "stderr",
          "text": [
            "[Parallel(n_jobs=4)]: Using backend LokyBackend with 4 concurrent workers.\n",
            "[Parallel(n_jobs=4)]: Done  10 out of  10 | elapsed:    0.0s finished\n",
            "[Parallel(n_jobs=4)]: Using backend ThreadingBackend with 4 concurrent workers.\n",
            "[Parallel(n_jobs=4)]: Done  10 out of  10 | elapsed:    0.0s finished\n"
          ]
        },
        {
          "output_type": "stream",
          "name": "stdout",
          "text": [
            "[CV 1/3] END extratreesclassifier__criterion=gini, extratreesclassifier__max_depth=5, extratreesclassifier__max_features=auto, extratreesclassifier__min_samples_leaf=1, extratreesclassifier__min_samples_split=10, extratreesclassifier__n_estimators=10, pca__n_components=200;, score=0.544 total time=   0.5s\n"
          ]
        },
        {
          "output_type": "stream",
          "name": "stderr",
          "text": [
            "[Parallel(n_jobs=4)]: Using backend LokyBackend with 4 concurrent workers.\n",
            "[Parallel(n_jobs=4)]: Done  10 out of  10 | elapsed:    0.0s finished\n",
            "[Parallel(n_jobs=4)]: Using backend ThreadingBackend with 4 concurrent workers.\n",
            "[Parallel(n_jobs=4)]: Done  10 out of  10 | elapsed:    0.0s finished\n"
          ]
        },
        {
          "output_type": "stream",
          "name": "stdout",
          "text": [
            "[CV 2/3] END extratreesclassifier__criterion=gini, extratreesclassifier__max_depth=5, extratreesclassifier__max_features=auto, extratreesclassifier__min_samples_leaf=1, extratreesclassifier__min_samples_split=10, extratreesclassifier__n_estimators=10, pca__n_components=200;, score=0.638 total time=   0.5s\n"
          ]
        },
        {
          "output_type": "stream",
          "name": "stderr",
          "text": [
            "[Parallel(n_jobs=4)]: Using backend LokyBackend with 4 concurrent workers.\n",
            "[Parallel(n_jobs=4)]: Done  10 out of  10 | elapsed:    0.0s finished\n",
            "[Parallel(n_jobs=4)]: Using backend ThreadingBackend with 4 concurrent workers.\n",
            "[Parallel(n_jobs=4)]: Done  10 out of  10 | elapsed:    0.0s finished\n"
          ]
        },
        {
          "output_type": "stream",
          "name": "stdout",
          "text": [
            "[CV 3/3] END extratreesclassifier__criterion=gini, extratreesclassifier__max_depth=5, extratreesclassifier__max_features=auto, extratreesclassifier__min_samples_leaf=1, extratreesclassifier__min_samples_split=10, extratreesclassifier__n_estimators=10, pca__n_components=200;, score=0.536 total time=   0.5s\n"
          ]
        },
        {
          "output_type": "stream",
          "name": "stderr",
          "text": [
            "[Parallel(n_jobs=4)]: Using backend LokyBackend with 4 concurrent workers.\n",
            "[Parallel(n_jobs=4)]: Done  10 out of  10 | elapsed:    0.0s finished\n",
            "[Parallel(n_jobs=4)]: Using backend ThreadingBackend with 4 concurrent workers.\n",
            "[Parallel(n_jobs=4)]: Done  10 out of  10 | elapsed:    0.0s finished\n"
          ]
        },
        {
          "output_type": "stream",
          "name": "stdout",
          "text": [
            "[CV 1/3] END extratreesclassifier__criterion=gini, extratreesclassifier__max_depth=5, extratreesclassifier__max_features=auto, extratreesclassifier__min_samples_leaf=1, extratreesclassifier__min_samples_split=10, extratreesclassifier__n_estimators=10, pca__n_components=300;, score=0.539 total time=   0.7s\n"
          ]
        },
        {
          "output_type": "stream",
          "name": "stderr",
          "text": [
            "[Parallel(n_jobs=4)]: Using backend LokyBackend with 4 concurrent workers.\n",
            "[Parallel(n_jobs=4)]: Done  10 out of  10 | elapsed:    0.0s finished\n",
            "[Parallel(n_jobs=4)]: Using backend ThreadingBackend with 4 concurrent workers.\n",
            "[Parallel(n_jobs=4)]: Done  10 out of  10 | elapsed:    0.0s finished\n"
          ]
        },
        {
          "output_type": "stream",
          "name": "stdout",
          "text": [
            "[CV 2/3] END extratreesclassifier__criterion=gini, extratreesclassifier__max_depth=5, extratreesclassifier__max_features=auto, extratreesclassifier__min_samples_leaf=1, extratreesclassifier__min_samples_split=10, extratreesclassifier__n_estimators=10, pca__n_components=300;, score=0.606 total time=   0.7s\n"
          ]
        },
        {
          "output_type": "stream",
          "name": "stderr",
          "text": [
            "[Parallel(n_jobs=4)]: Using backend LokyBackend with 4 concurrent workers.\n",
            "[Parallel(n_jobs=4)]: Done  10 out of  10 | elapsed:    0.0s finished\n",
            "[Parallel(n_jobs=4)]: Using backend ThreadingBackend with 4 concurrent workers.\n",
            "[Parallel(n_jobs=4)]: Done  10 out of  10 | elapsed:    0.0s finished\n"
          ]
        },
        {
          "output_type": "stream",
          "name": "stdout",
          "text": [
            "[CV 3/3] END extratreesclassifier__criterion=gini, extratreesclassifier__max_depth=5, extratreesclassifier__max_features=auto, extratreesclassifier__min_samples_leaf=1, extratreesclassifier__min_samples_split=10, extratreesclassifier__n_estimators=10, pca__n_components=300;, score=0.540 total time=   0.7s\n"
          ]
        },
        {
          "output_type": "stream",
          "name": "stderr",
          "text": [
            "[Parallel(n_jobs=4)]: Using backend LokyBackend with 4 concurrent workers.\n",
            "[Parallel(n_jobs=4)]: Done  10 out of  10 | elapsed:    0.0s finished\n",
            "[Parallel(n_jobs=4)]: Using backend ThreadingBackend with 4 concurrent workers.\n",
            "[Parallel(n_jobs=4)]: Done  10 out of  10 | elapsed:    0.0s finished\n"
          ]
        },
        {
          "output_type": "stream",
          "name": "stdout",
          "text": [
            "[CV 1/3] END extratreesclassifier__criterion=gini, extratreesclassifier__max_depth=5, extratreesclassifier__max_features=auto, extratreesclassifier__min_samples_leaf=1, extratreesclassifier__min_samples_split=10, extratreesclassifier__n_estimators=10, pca__n_components=400;, score=0.557 total time=   0.7s\n"
          ]
        },
        {
          "output_type": "stream",
          "name": "stderr",
          "text": [
            "[Parallel(n_jobs=4)]: Using backend LokyBackend with 4 concurrent workers.\n",
            "[Parallel(n_jobs=4)]: Done  10 out of  10 | elapsed:    0.0s finished\n",
            "[Parallel(n_jobs=4)]: Using backend ThreadingBackend with 4 concurrent workers.\n",
            "[Parallel(n_jobs=4)]: Done  10 out of  10 | elapsed:    0.0s finished\n"
          ]
        },
        {
          "output_type": "stream",
          "name": "stdout",
          "text": [
            "[CV 2/3] END extratreesclassifier__criterion=gini, extratreesclassifier__max_depth=5, extratreesclassifier__max_features=auto, extratreesclassifier__min_samples_leaf=1, extratreesclassifier__min_samples_split=10, extratreesclassifier__n_estimators=10, pca__n_components=400;, score=0.435 total time=   0.7s\n"
          ]
        },
        {
          "output_type": "stream",
          "name": "stderr",
          "text": [
            "[Parallel(n_jobs=4)]: Using backend LokyBackend with 4 concurrent workers.\n",
            "[Parallel(n_jobs=4)]: Done  10 out of  10 | elapsed:    0.0s finished\n",
            "[Parallel(n_jobs=4)]: Using backend ThreadingBackend with 4 concurrent workers.\n",
            "[Parallel(n_jobs=4)]: Done  10 out of  10 | elapsed:    0.0s finished\n"
          ]
        },
        {
          "output_type": "stream",
          "name": "stdout",
          "text": [
            "[CV 3/3] END extratreesclassifier__criterion=gini, extratreesclassifier__max_depth=5, extratreesclassifier__max_features=auto, extratreesclassifier__min_samples_leaf=1, extratreesclassifier__min_samples_split=10, extratreesclassifier__n_estimators=10, pca__n_components=400;, score=0.557 total time=   0.8s\n"
          ]
        },
        {
          "output_type": "stream",
          "name": "stderr",
          "text": [
            "[Parallel(n_jobs=4)]: Using backend LokyBackend with 4 concurrent workers.\n",
            "[Parallel(n_jobs=4)]: Done  20 out of  20 | elapsed:    0.0s finished\n",
            "[Parallel(n_jobs=4)]: Using backend ThreadingBackend with 4 concurrent workers.\n",
            "[Parallel(n_jobs=4)]: Done  20 out of  20 | elapsed:    0.0s finished\n"
          ]
        },
        {
          "output_type": "stream",
          "name": "stdout",
          "text": [
            "[CV 1/3] END extratreesclassifier__criterion=gini, extratreesclassifier__max_depth=5, extratreesclassifier__max_features=auto, extratreesclassifier__min_samples_leaf=1, extratreesclassifier__min_samples_split=10, extratreesclassifier__n_estimators=20, pca__n_components=100;, score=0.743 total time=   0.3s\n"
          ]
        },
        {
          "output_type": "stream",
          "name": "stderr",
          "text": [
            "[Parallel(n_jobs=4)]: Using backend LokyBackend with 4 concurrent workers.\n",
            "[Parallel(n_jobs=4)]: Done  20 out of  20 | elapsed:    0.0s finished\n",
            "[Parallel(n_jobs=4)]: Using backend ThreadingBackend with 4 concurrent workers.\n",
            "[Parallel(n_jobs=4)]: Done  20 out of  20 | elapsed:    0.0s finished\n"
          ]
        },
        {
          "output_type": "stream",
          "name": "stdout",
          "text": [
            "[CV 2/3] END extratreesclassifier__criterion=gini, extratreesclassifier__max_depth=5, extratreesclassifier__max_features=auto, extratreesclassifier__min_samples_leaf=1, extratreesclassifier__min_samples_split=10, extratreesclassifier__n_estimators=20, pca__n_components=100;, score=0.736 total time=   0.3s\n"
          ]
        },
        {
          "output_type": "stream",
          "name": "stderr",
          "text": [
            "[Parallel(n_jobs=4)]: Using backend LokyBackend with 4 concurrent workers.\n",
            "[Parallel(n_jobs=4)]: Done  20 out of  20 | elapsed:    0.0s finished\n",
            "[Parallel(n_jobs=4)]: Using backend ThreadingBackend with 4 concurrent workers.\n",
            "[Parallel(n_jobs=4)]: Done  20 out of  20 | elapsed:    0.0s finished\n"
          ]
        },
        {
          "output_type": "stream",
          "name": "stdout",
          "text": [
            "[CV 3/3] END extratreesclassifier__criterion=gini, extratreesclassifier__max_depth=5, extratreesclassifier__max_features=auto, extratreesclassifier__min_samples_leaf=1, extratreesclassifier__min_samples_split=10, extratreesclassifier__n_estimators=20, pca__n_components=100;, score=0.702 total time=   0.3s\n"
          ]
        },
        {
          "output_type": "stream",
          "name": "stderr",
          "text": [
            "[Parallel(n_jobs=4)]: Using backend LokyBackend with 4 concurrent workers.\n",
            "[Parallel(n_jobs=4)]: Done  20 out of  20 | elapsed:    0.0s finished\n",
            "[Parallel(n_jobs=4)]: Using backend ThreadingBackend with 4 concurrent workers.\n",
            "[Parallel(n_jobs=4)]: Done  20 out of  20 | elapsed:    0.0s finished\n"
          ]
        },
        {
          "output_type": "stream",
          "name": "stdout",
          "text": [
            "[CV 1/3] END extratreesclassifier__criterion=gini, extratreesclassifier__max_depth=5, extratreesclassifier__max_features=auto, extratreesclassifier__min_samples_leaf=1, extratreesclassifier__min_samples_split=10, extratreesclassifier__n_estimators=20, pca__n_components=150;, score=0.723 total time=   0.4s\n"
          ]
        },
        {
          "output_type": "stream",
          "name": "stderr",
          "text": [
            "[Parallel(n_jobs=4)]: Using backend LokyBackend with 4 concurrent workers.\n",
            "[Parallel(n_jobs=4)]: Done  20 out of  20 | elapsed:    0.0s finished\n",
            "[Parallel(n_jobs=4)]: Using backend ThreadingBackend with 4 concurrent workers.\n",
            "[Parallel(n_jobs=4)]: Done  20 out of  20 | elapsed:    0.0s finished\n"
          ]
        },
        {
          "output_type": "stream",
          "name": "stdout",
          "text": [
            "[CV 2/3] END extratreesclassifier__criterion=gini, extratreesclassifier__max_depth=5, extratreesclassifier__max_features=auto, extratreesclassifier__min_samples_leaf=1, extratreesclassifier__min_samples_split=10, extratreesclassifier__n_estimators=20, pca__n_components=150;, score=0.717 total time=   0.4s\n"
          ]
        },
        {
          "output_type": "stream",
          "name": "stderr",
          "text": [
            "[Parallel(n_jobs=4)]: Using backend LokyBackend with 4 concurrent workers.\n",
            "[Parallel(n_jobs=4)]: Done  20 out of  20 | elapsed:    0.0s finished\n",
            "[Parallel(n_jobs=4)]: Using backend ThreadingBackend with 4 concurrent workers.\n",
            "[Parallel(n_jobs=4)]: Done  20 out of  20 | elapsed:    0.0s finished\n"
          ]
        },
        {
          "output_type": "stream",
          "name": "stdout",
          "text": [
            "[CV 3/3] END extratreesclassifier__criterion=gini, extratreesclassifier__max_depth=5, extratreesclassifier__max_features=auto, extratreesclassifier__min_samples_leaf=1, extratreesclassifier__min_samples_split=10, extratreesclassifier__n_estimators=20, pca__n_components=150;, score=0.700 total time=   0.4s\n"
          ]
        },
        {
          "output_type": "stream",
          "name": "stderr",
          "text": [
            "[Parallel(n_jobs=4)]: Using backend LokyBackend with 4 concurrent workers.\n",
            "[Parallel(n_jobs=4)]: Done  20 out of  20 | elapsed:    0.0s finished\n",
            "[Parallel(n_jobs=4)]: Using backend ThreadingBackend with 4 concurrent workers.\n",
            "[Parallel(n_jobs=4)]: Done  20 out of  20 | elapsed:    0.0s finished\n"
          ]
        },
        {
          "output_type": "stream",
          "name": "stdout",
          "text": [
            "[CV 1/3] END extratreesclassifier__criterion=gini, extratreesclassifier__max_depth=5, extratreesclassifier__max_features=auto, extratreesclassifier__min_samples_leaf=1, extratreesclassifier__min_samples_split=10, extratreesclassifier__n_estimators=20, pca__n_components=200;, score=0.731 total time=   0.5s\n"
          ]
        },
        {
          "output_type": "stream",
          "name": "stderr",
          "text": [
            "[Parallel(n_jobs=4)]: Using backend LokyBackend with 4 concurrent workers.\n",
            "[Parallel(n_jobs=4)]: Done  20 out of  20 | elapsed:    0.0s finished\n",
            "[Parallel(n_jobs=4)]: Using backend ThreadingBackend with 4 concurrent workers.\n",
            "[Parallel(n_jobs=4)]: Done  20 out of  20 | elapsed:    0.0s finished\n"
          ]
        },
        {
          "output_type": "stream",
          "name": "stdout",
          "text": [
            "[CV 2/3] END extratreesclassifier__criterion=gini, extratreesclassifier__max_depth=5, extratreesclassifier__max_features=auto, extratreesclassifier__min_samples_leaf=1, extratreesclassifier__min_samples_split=10, extratreesclassifier__n_estimators=20, pca__n_components=200;, score=0.709 total time=   0.5s\n"
          ]
        },
        {
          "output_type": "stream",
          "name": "stderr",
          "text": [
            "[Parallel(n_jobs=4)]: Using backend LokyBackend with 4 concurrent workers.\n",
            "[Parallel(n_jobs=4)]: Done  20 out of  20 | elapsed:    0.0s finished\n",
            "[Parallel(n_jobs=4)]: Using backend ThreadingBackend with 4 concurrent workers.\n",
            "[Parallel(n_jobs=4)]: Done  20 out of  20 | elapsed:    0.0s finished\n"
          ]
        },
        {
          "output_type": "stream",
          "name": "stdout",
          "text": [
            "[CV 3/3] END extratreesclassifier__criterion=gini, extratreesclassifier__max_depth=5, extratreesclassifier__max_features=auto, extratreesclassifier__min_samples_leaf=1, extratreesclassifier__min_samples_split=10, extratreesclassifier__n_estimators=20, pca__n_components=200;, score=0.724 total time=   0.5s\n"
          ]
        },
        {
          "output_type": "stream",
          "name": "stderr",
          "text": [
            "[Parallel(n_jobs=4)]: Using backend LokyBackend with 4 concurrent workers.\n",
            "[Parallel(n_jobs=4)]: Done  20 out of  20 | elapsed:    0.0s finished\n",
            "[Parallel(n_jobs=4)]: Using backend ThreadingBackend with 4 concurrent workers.\n",
            "[Parallel(n_jobs=4)]: Done  20 out of  20 | elapsed:    0.0s finished\n"
          ]
        },
        {
          "output_type": "stream",
          "name": "stdout",
          "text": [
            "[CV 1/3] END extratreesclassifier__criterion=gini, extratreesclassifier__max_depth=5, extratreesclassifier__max_features=auto, extratreesclassifier__min_samples_leaf=1, extratreesclassifier__min_samples_split=10, extratreesclassifier__n_estimators=20, pca__n_components=300;, score=0.685 total time=   0.7s\n"
          ]
        },
        {
          "output_type": "stream",
          "name": "stderr",
          "text": [
            "[Parallel(n_jobs=4)]: Using backend LokyBackend with 4 concurrent workers.\n",
            "[Parallel(n_jobs=4)]: Done  20 out of  20 | elapsed:    0.0s finished\n",
            "[Parallel(n_jobs=4)]: Using backend ThreadingBackend with 4 concurrent workers.\n",
            "[Parallel(n_jobs=4)]: Done  20 out of  20 | elapsed:    0.0s finished\n"
          ]
        },
        {
          "output_type": "stream",
          "name": "stdout",
          "text": [
            "[CV 2/3] END extratreesclassifier__criterion=gini, extratreesclassifier__max_depth=5, extratreesclassifier__max_features=auto, extratreesclassifier__min_samples_leaf=1, extratreesclassifier__min_samples_split=10, extratreesclassifier__n_estimators=20, pca__n_components=300;, score=0.704 total time=   0.6s\n"
          ]
        },
        {
          "output_type": "stream",
          "name": "stderr",
          "text": [
            "[Parallel(n_jobs=4)]: Using backend LokyBackend with 4 concurrent workers.\n",
            "[Parallel(n_jobs=4)]: Done  20 out of  20 | elapsed:    0.0s finished\n",
            "[Parallel(n_jobs=4)]: Using backend ThreadingBackend with 4 concurrent workers.\n",
            "[Parallel(n_jobs=4)]: Done  20 out of  20 | elapsed:    0.0s finished\n"
          ]
        },
        {
          "output_type": "stream",
          "name": "stdout",
          "text": [
            "[CV 3/3] END extratreesclassifier__criterion=gini, extratreesclassifier__max_depth=5, extratreesclassifier__max_features=auto, extratreesclassifier__min_samples_leaf=1, extratreesclassifier__min_samples_split=10, extratreesclassifier__n_estimators=20, pca__n_components=300;, score=0.707 total time=   0.7s\n"
          ]
        },
        {
          "output_type": "stream",
          "name": "stderr",
          "text": [
            "[Parallel(n_jobs=4)]: Using backend LokyBackend with 4 concurrent workers.\n",
            "[Parallel(n_jobs=4)]: Done  20 out of  20 | elapsed:    0.0s finished\n",
            "[Parallel(n_jobs=4)]: Using backend ThreadingBackend with 4 concurrent workers.\n",
            "[Parallel(n_jobs=4)]: Done  20 out of  20 | elapsed:    0.0s finished\n"
          ]
        },
        {
          "output_type": "stream",
          "name": "stdout",
          "text": [
            "[CV 1/3] END extratreesclassifier__criterion=gini, extratreesclassifier__max_depth=5, extratreesclassifier__max_features=auto, extratreesclassifier__min_samples_leaf=1, extratreesclassifier__min_samples_split=10, extratreesclassifier__n_estimators=20, pca__n_components=400;, score=0.662 total time=   0.6s\n"
          ]
        },
        {
          "output_type": "stream",
          "name": "stderr",
          "text": [
            "[Parallel(n_jobs=4)]: Using backend LokyBackend with 4 concurrent workers.\n",
            "[Parallel(n_jobs=4)]: Done  20 out of  20 | elapsed:    0.0s finished\n",
            "[Parallel(n_jobs=4)]: Using backend ThreadingBackend with 4 concurrent workers.\n",
            "[Parallel(n_jobs=4)]: Done  20 out of  20 | elapsed:    0.0s finished\n"
          ]
        },
        {
          "output_type": "stream",
          "name": "stdout",
          "text": [
            "[CV 2/3] END extratreesclassifier__criterion=gini, extratreesclassifier__max_depth=5, extratreesclassifier__max_features=auto, extratreesclassifier__min_samples_leaf=1, extratreesclassifier__min_samples_split=10, extratreesclassifier__n_estimators=20, pca__n_components=400;, score=0.693 total time=   0.6s\n"
          ]
        },
        {
          "output_type": "stream",
          "name": "stderr",
          "text": [
            "[Parallel(n_jobs=4)]: Using backend LokyBackend with 4 concurrent workers.\n",
            "[Parallel(n_jobs=4)]: Done  20 out of  20 | elapsed:    0.0s finished\n",
            "[Parallel(n_jobs=4)]: Using backend ThreadingBackend with 4 concurrent workers.\n",
            "[Parallel(n_jobs=4)]: Done  20 out of  20 | elapsed:    0.0s finished\n"
          ]
        },
        {
          "output_type": "stream",
          "name": "stdout",
          "text": [
            "[CV 3/3] END extratreesclassifier__criterion=gini, extratreesclassifier__max_depth=5, extratreesclassifier__max_features=auto, extratreesclassifier__min_samples_leaf=1, extratreesclassifier__min_samples_split=10, extratreesclassifier__n_estimators=20, pca__n_components=400;, score=0.668 total time=   0.7s\n"
          ]
        },
        {
          "output_type": "stream",
          "name": "stderr",
          "text": [
            "[Parallel(n_jobs=4)]: Using backend LokyBackend with 4 concurrent workers.\n",
            "[Parallel(n_jobs=4)]: Done  50 out of  50 | elapsed:    0.0s finished\n",
            "[Parallel(n_jobs=4)]: Using backend ThreadingBackend with 4 concurrent workers.\n",
            "[Parallel(n_jobs=4)]: Done  33 tasks      | elapsed:    0.0s\n",
            "[Parallel(n_jobs=4)]: Done  50 out of  50 | elapsed:    0.0s finished\n"
          ]
        },
        {
          "output_type": "stream",
          "name": "stdout",
          "text": [
            "[CV 1/3] END extratreesclassifier__criterion=gini, extratreesclassifier__max_depth=5, extratreesclassifier__max_features=auto, extratreesclassifier__min_samples_leaf=1, extratreesclassifier__min_samples_split=10, extratreesclassifier__n_estimators=50, pca__n_components=100;, score=0.833 total time=   0.4s\n"
          ]
        },
        {
          "output_type": "stream",
          "name": "stderr",
          "text": [
            "[Parallel(n_jobs=4)]: Using backend LokyBackend with 4 concurrent workers.\n",
            "[Parallel(n_jobs=4)]: Done  50 out of  50 | elapsed:    0.0s finished\n",
            "[Parallel(n_jobs=4)]: Using backend ThreadingBackend with 4 concurrent workers.\n",
            "[Parallel(n_jobs=4)]: Done  33 tasks      | elapsed:    0.0s\n",
            "[Parallel(n_jobs=4)]: Done  50 out of  50 | elapsed:    0.0s finished\n"
          ]
        },
        {
          "output_type": "stream",
          "name": "stdout",
          "text": [
            "[CV 2/3] END extratreesclassifier__criterion=gini, extratreesclassifier__max_depth=5, extratreesclassifier__max_features=auto, extratreesclassifier__min_samples_leaf=1, extratreesclassifier__min_samples_split=10, extratreesclassifier__n_estimators=50, pca__n_components=100;, score=0.821 total time=   0.4s\n"
          ]
        },
        {
          "output_type": "stream",
          "name": "stderr",
          "text": [
            "[Parallel(n_jobs=4)]: Using backend LokyBackend with 4 concurrent workers.\n",
            "[Parallel(n_jobs=4)]: Done  50 out of  50 | elapsed:    0.0s finished\n",
            "[Parallel(n_jobs=4)]: Using backend ThreadingBackend with 4 concurrent workers.\n",
            "[Parallel(n_jobs=4)]: Done  33 tasks      | elapsed:    0.0s\n",
            "[Parallel(n_jobs=4)]: Done  50 out of  50 | elapsed:    0.0s finished\n"
          ]
        },
        {
          "output_type": "stream",
          "name": "stdout",
          "text": [
            "[CV 3/3] END extratreesclassifier__criterion=gini, extratreesclassifier__max_depth=5, extratreesclassifier__max_features=auto, extratreesclassifier__min_samples_leaf=1, extratreesclassifier__min_samples_split=10, extratreesclassifier__n_estimators=50, pca__n_components=100;, score=0.817 total time=   0.4s\n"
          ]
        },
        {
          "output_type": "stream",
          "name": "stderr",
          "text": [
            "[Parallel(n_jobs=4)]: Using backend LokyBackend with 4 concurrent workers.\n",
            "[Parallel(n_jobs=4)]: Done  50 out of  50 | elapsed:    0.0s finished\n",
            "[Parallel(n_jobs=4)]: Using backend ThreadingBackend with 4 concurrent workers.\n",
            "[Parallel(n_jobs=4)]: Done  33 tasks      | elapsed:    0.0s\n",
            "[Parallel(n_jobs=4)]: Done  50 out of  50 | elapsed:    0.0s finished\n"
          ]
        },
        {
          "output_type": "stream",
          "name": "stdout",
          "text": [
            "[CV 1/3] END extratreesclassifier__criterion=gini, extratreesclassifier__max_depth=5, extratreesclassifier__max_features=auto, extratreesclassifier__min_samples_leaf=1, extratreesclassifier__min_samples_split=10, extratreesclassifier__n_estimators=50, pca__n_components=150;, score=0.814 total time=   0.4s\n"
          ]
        },
        {
          "output_type": "stream",
          "name": "stderr",
          "text": [
            "[Parallel(n_jobs=4)]: Using backend LokyBackend with 4 concurrent workers.\n",
            "[Parallel(n_jobs=4)]: Done  50 out of  50 | elapsed:    0.0s finished\n",
            "[Parallel(n_jobs=4)]: Using backend ThreadingBackend with 4 concurrent workers.\n",
            "[Parallel(n_jobs=4)]: Done  33 tasks      | elapsed:    0.0s\n",
            "[Parallel(n_jobs=4)]: Done  50 out of  50 | elapsed:    0.0s finished\n"
          ]
        },
        {
          "output_type": "stream",
          "name": "stdout",
          "text": [
            "[CV 2/3] END extratreesclassifier__criterion=gini, extratreesclassifier__max_depth=5, extratreesclassifier__max_features=auto, extratreesclassifier__min_samples_leaf=1, extratreesclassifier__min_samples_split=10, extratreesclassifier__n_estimators=50, pca__n_components=150;, score=0.811 total time=   0.4s\n"
          ]
        },
        {
          "output_type": "stream",
          "name": "stderr",
          "text": [
            "[Parallel(n_jobs=4)]: Using backend LokyBackend with 4 concurrent workers.\n",
            "[Parallel(n_jobs=4)]: Done  50 out of  50 | elapsed:    0.0s finished\n",
            "[Parallel(n_jobs=4)]: Using backend ThreadingBackend with 4 concurrent workers.\n",
            "[Parallel(n_jobs=4)]: Done  33 tasks      | elapsed:    0.0s\n",
            "[Parallel(n_jobs=4)]: Done  50 out of  50 | elapsed:    0.0s finished\n"
          ]
        },
        {
          "output_type": "stream",
          "name": "stdout",
          "text": [
            "[CV 3/3] END extratreesclassifier__criterion=gini, extratreesclassifier__max_depth=5, extratreesclassifier__max_features=auto, extratreesclassifier__min_samples_leaf=1, extratreesclassifier__min_samples_split=10, extratreesclassifier__n_estimators=50, pca__n_components=150;, score=0.819 total time=   0.4s\n"
          ]
        },
        {
          "output_type": "stream",
          "name": "stderr",
          "text": [
            "[Parallel(n_jobs=4)]: Using backend LokyBackend with 4 concurrent workers.\n",
            "[Parallel(n_jobs=4)]: Done  50 out of  50 | elapsed:    0.0s finished\n",
            "[Parallel(n_jobs=4)]: Using backend ThreadingBackend with 4 concurrent workers.\n",
            "[Parallel(n_jobs=4)]: Done  33 tasks      | elapsed:    0.0s\n",
            "[Parallel(n_jobs=4)]: Done  50 out of  50 | elapsed:    0.0s finished\n"
          ]
        },
        {
          "output_type": "stream",
          "name": "stdout",
          "text": [
            "[CV 1/3] END extratreesclassifier__criterion=gini, extratreesclassifier__max_depth=5, extratreesclassifier__max_features=auto, extratreesclassifier__min_samples_leaf=1, extratreesclassifier__min_samples_split=10, extratreesclassifier__n_estimators=50, pca__n_components=200;, score=0.814 total time=   0.5s\n"
          ]
        },
        {
          "output_type": "stream",
          "name": "stderr",
          "text": [
            "[Parallel(n_jobs=4)]: Using backend LokyBackend with 4 concurrent workers.\n",
            "[Parallel(n_jobs=4)]: Done  50 out of  50 | elapsed:    0.0s finished\n",
            "[Parallel(n_jobs=4)]: Using backend ThreadingBackend with 4 concurrent workers.\n",
            "[Parallel(n_jobs=4)]: Done  33 tasks      | elapsed:    0.0s\n",
            "[Parallel(n_jobs=4)]: Done  50 out of  50 | elapsed:    0.0s finished\n"
          ]
        },
        {
          "output_type": "stream",
          "name": "stdout",
          "text": [
            "[CV 2/3] END extratreesclassifier__criterion=gini, extratreesclassifier__max_depth=5, extratreesclassifier__max_features=auto, extratreesclassifier__min_samples_leaf=1, extratreesclassifier__min_samples_split=10, extratreesclassifier__n_estimators=50, pca__n_components=200;, score=0.832 total time=   0.5s\n"
          ]
        },
        {
          "output_type": "stream",
          "name": "stderr",
          "text": [
            "[Parallel(n_jobs=4)]: Using backend LokyBackend with 4 concurrent workers.\n",
            "[Parallel(n_jobs=4)]: Done  50 out of  50 | elapsed:    0.0s finished\n",
            "[Parallel(n_jobs=4)]: Using backend ThreadingBackend with 4 concurrent workers.\n",
            "[Parallel(n_jobs=4)]: Done  33 tasks      | elapsed:    0.0s\n",
            "[Parallel(n_jobs=4)]: Done  50 out of  50 | elapsed:    0.0s finished\n"
          ]
        },
        {
          "output_type": "stream",
          "name": "stdout",
          "text": [
            "[CV 3/3] END extratreesclassifier__criterion=gini, extratreesclassifier__max_depth=5, extratreesclassifier__max_features=auto, extratreesclassifier__min_samples_leaf=1, extratreesclassifier__min_samples_split=10, extratreesclassifier__n_estimators=50, pca__n_components=200;, score=0.809 total time=   0.5s\n"
          ]
        },
        {
          "output_type": "stream",
          "name": "stderr",
          "text": [
            "[Parallel(n_jobs=4)]: Using backend LokyBackend with 4 concurrent workers.\n",
            "[Parallel(n_jobs=4)]: Done  50 out of  50 | elapsed:    0.0s finished\n",
            "[Parallel(n_jobs=4)]: Using backend ThreadingBackend with 4 concurrent workers.\n",
            "[Parallel(n_jobs=4)]: Done  33 tasks      | elapsed:    0.0s\n",
            "[Parallel(n_jobs=4)]: Done  50 out of  50 | elapsed:    0.0s finished\n"
          ]
        },
        {
          "output_type": "stream",
          "name": "stdout",
          "text": [
            "[CV 1/3] END extratreesclassifier__criterion=gini, extratreesclassifier__max_depth=5, extratreesclassifier__max_features=auto, extratreesclassifier__min_samples_leaf=1, extratreesclassifier__min_samples_split=10, extratreesclassifier__n_estimators=50, pca__n_components=300;, score=0.804 total time=   0.7s\n"
          ]
        },
        {
          "output_type": "stream",
          "name": "stderr",
          "text": [
            "[Parallel(n_jobs=4)]: Using backend LokyBackend with 4 concurrent workers.\n",
            "[Parallel(n_jobs=4)]: Done  50 out of  50 | elapsed:    0.0s finished\n",
            "[Parallel(n_jobs=4)]: Using backend ThreadingBackend with 4 concurrent workers.\n",
            "[Parallel(n_jobs=4)]: Done  33 tasks      | elapsed:    0.0s\n",
            "[Parallel(n_jobs=4)]: Done  50 out of  50 | elapsed:    0.0s finished\n"
          ]
        },
        {
          "output_type": "stream",
          "name": "stdout",
          "text": [
            "[CV 2/3] END extratreesclassifier__criterion=gini, extratreesclassifier__max_depth=5, extratreesclassifier__max_features=auto, extratreesclassifier__min_samples_leaf=1, extratreesclassifier__min_samples_split=10, extratreesclassifier__n_estimators=50, pca__n_components=300;, score=0.830 total time=   0.7s\n"
          ]
        },
        {
          "output_type": "stream",
          "name": "stderr",
          "text": [
            "[Parallel(n_jobs=4)]: Using backend LokyBackend with 4 concurrent workers.\n",
            "[Parallel(n_jobs=4)]: Done  50 out of  50 | elapsed:    0.0s finished\n",
            "[Parallel(n_jobs=4)]: Using backend ThreadingBackend with 4 concurrent workers.\n",
            "[Parallel(n_jobs=4)]: Done  33 tasks      | elapsed:    0.0s\n",
            "[Parallel(n_jobs=4)]: Done  50 out of  50 | elapsed:    0.0s finished\n"
          ]
        },
        {
          "output_type": "stream",
          "name": "stdout",
          "text": [
            "[CV 3/3] END extratreesclassifier__criterion=gini, extratreesclassifier__max_depth=5, extratreesclassifier__max_features=auto, extratreesclassifier__min_samples_leaf=1, extratreesclassifier__min_samples_split=10, extratreesclassifier__n_estimators=50, pca__n_components=300;, score=0.833 total time=   0.7s\n"
          ]
        },
        {
          "output_type": "stream",
          "name": "stderr",
          "text": [
            "[Parallel(n_jobs=4)]: Using backend LokyBackend with 4 concurrent workers.\n",
            "[Parallel(n_jobs=4)]: Done  50 out of  50 | elapsed:    0.0s finished\n",
            "[Parallel(n_jobs=4)]: Using backend ThreadingBackend with 4 concurrent workers.\n",
            "[Parallel(n_jobs=4)]: Done  33 tasks      | elapsed:    0.0s\n",
            "[Parallel(n_jobs=4)]: Done  50 out of  50 | elapsed:    0.0s finished\n"
          ]
        },
        {
          "output_type": "stream",
          "name": "stdout",
          "text": [
            "[CV 1/3] END extratreesclassifier__criterion=gini, extratreesclassifier__max_depth=5, extratreesclassifier__max_features=auto, extratreesclassifier__min_samples_leaf=1, extratreesclassifier__min_samples_split=10, extratreesclassifier__n_estimators=50, pca__n_components=400;, score=0.803 total time=   0.7s\n"
          ]
        },
        {
          "output_type": "stream",
          "name": "stderr",
          "text": [
            "[Parallel(n_jobs=4)]: Using backend LokyBackend with 4 concurrent workers.\n",
            "[Parallel(n_jobs=4)]: Done  50 out of  50 | elapsed:    0.0s finished\n",
            "[Parallel(n_jobs=4)]: Using backend ThreadingBackend with 4 concurrent workers.\n",
            "[Parallel(n_jobs=4)]: Done  33 tasks      | elapsed:    0.0s\n",
            "[Parallel(n_jobs=4)]: Done  50 out of  50 | elapsed:    0.0s finished\n"
          ]
        },
        {
          "output_type": "stream",
          "name": "stdout",
          "text": [
            "[CV 2/3] END extratreesclassifier__criterion=gini, extratreesclassifier__max_depth=5, extratreesclassifier__max_features=auto, extratreesclassifier__min_samples_leaf=1, extratreesclassifier__min_samples_split=10, extratreesclassifier__n_estimators=50, pca__n_components=400;, score=0.830 total time=   0.7s\n"
          ]
        },
        {
          "output_type": "stream",
          "name": "stderr",
          "text": [
            "[Parallel(n_jobs=4)]: Using backend LokyBackend with 4 concurrent workers.\n",
            "[Parallel(n_jobs=4)]: Done  50 out of  50 | elapsed:    0.0s finished\n",
            "[Parallel(n_jobs=4)]: Using backend ThreadingBackend with 4 concurrent workers.\n",
            "[Parallel(n_jobs=4)]: Done  33 tasks      | elapsed:    0.0s\n",
            "[Parallel(n_jobs=4)]: Done  50 out of  50 | elapsed:    0.0s finished\n"
          ]
        },
        {
          "output_type": "stream",
          "name": "stdout",
          "text": [
            "[CV 3/3] END extratreesclassifier__criterion=gini, extratreesclassifier__max_depth=5, extratreesclassifier__max_features=auto, extratreesclassifier__min_samples_leaf=1, extratreesclassifier__min_samples_split=10, extratreesclassifier__n_estimators=50, pca__n_components=400;, score=0.822 total time=   0.7s\n"
          ]
        },
        {
          "output_type": "stream",
          "name": "stderr",
          "text": [
            "[Parallel(n_jobs=4)]: Using backend LokyBackend with 4 concurrent workers.\n",
            "[Parallel(n_jobs=4)]: Done  93 tasks      | elapsed:    0.0s\n",
            "[Parallel(n_jobs=4)]: Done 100 out of 100 | elapsed:    0.0s finished\n",
            "[Parallel(n_jobs=4)]: Using backend ThreadingBackend with 4 concurrent workers.\n",
            "[Parallel(n_jobs=4)]: Done  33 tasks      | elapsed:    0.0s\n",
            "[Parallel(n_jobs=4)]: Done 100 out of 100 | elapsed:    0.0s finished\n"
          ]
        },
        {
          "output_type": "stream",
          "name": "stdout",
          "text": [
            "[CV 1/3] END extratreesclassifier__criterion=gini, extratreesclassifier__max_depth=5, extratreesclassifier__max_features=auto, extratreesclassifier__min_samples_leaf=1, extratreesclassifier__min_samples_split=10, extratreesclassifier__n_estimators=100, pca__n_components=100;, score=0.853 total time=   0.4s\n"
          ]
        },
        {
          "output_type": "stream",
          "name": "stderr",
          "text": [
            "[Parallel(n_jobs=4)]: Using backend LokyBackend with 4 concurrent workers.\n",
            "[Parallel(n_jobs=4)]: Done  93 tasks      | elapsed:    0.0s\n",
            "[Parallel(n_jobs=4)]: Done 100 out of 100 | elapsed:    0.0s finished\n",
            "[Parallel(n_jobs=4)]: Using backend ThreadingBackend with 4 concurrent workers.\n",
            "[Parallel(n_jobs=4)]: Done  33 tasks      | elapsed:    0.0s\n",
            "[Parallel(n_jobs=4)]: Done 100 out of 100 | elapsed:    0.0s finished\n"
          ]
        },
        {
          "output_type": "stream",
          "name": "stdout",
          "text": [
            "[CV 2/3] END extratreesclassifier__criterion=gini, extratreesclassifier__max_depth=5, extratreesclassifier__max_features=auto, extratreesclassifier__min_samples_leaf=1, extratreesclassifier__min_samples_split=10, extratreesclassifier__n_estimators=100, pca__n_components=100;, score=0.854 total time=   0.4s\n"
          ]
        },
        {
          "output_type": "stream",
          "name": "stderr",
          "text": [
            "[Parallel(n_jobs=4)]: Using backend LokyBackend with 4 concurrent workers.\n",
            "[Parallel(n_jobs=4)]: Done  93 tasks      | elapsed:    0.0s\n",
            "[Parallel(n_jobs=4)]: Done 100 out of 100 | elapsed:    0.0s finished\n",
            "[Parallel(n_jobs=4)]: Using backend ThreadingBackend with 4 concurrent workers.\n",
            "[Parallel(n_jobs=4)]: Done  33 tasks      | elapsed:    0.0s\n",
            "[Parallel(n_jobs=4)]: Done 100 out of 100 | elapsed:    0.0s finished\n"
          ]
        },
        {
          "output_type": "stream",
          "name": "stdout",
          "text": [
            "[CV 3/3] END extratreesclassifier__criterion=gini, extratreesclassifier__max_depth=5, extratreesclassifier__max_features=auto, extratreesclassifier__min_samples_leaf=1, extratreesclassifier__min_samples_split=10, extratreesclassifier__n_estimators=100, pca__n_components=100;, score=0.840 total time=   0.4s\n"
          ]
        },
        {
          "output_type": "stream",
          "name": "stderr",
          "text": [
            "[Parallel(n_jobs=4)]: Using backend LokyBackend with 4 concurrent workers.\n",
            "[Parallel(n_jobs=4)]: Done  93 tasks      | elapsed:    0.0s\n",
            "[Parallel(n_jobs=4)]: Done 100 out of 100 | elapsed:    0.0s finished\n",
            "[Parallel(n_jobs=4)]: Using backend ThreadingBackend with 4 concurrent workers.\n",
            "[Parallel(n_jobs=4)]: Done  33 tasks      | elapsed:    0.0s\n",
            "[Parallel(n_jobs=4)]: Done 100 out of 100 | elapsed:    0.0s finished\n"
          ]
        },
        {
          "output_type": "stream",
          "name": "stdout",
          "text": [
            "[CV 1/3] END extratreesclassifier__criterion=gini, extratreesclassifier__max_depth=5, extratreesclassifier__max_features=auto, extratreesclassifier__min_samples_leaf=1, extratreesclassifier__min_samples_split=10, extratreesclassifier__n_estimators=100, pca__n_components=150;, score=0.850 total time=   0.5s\n"
          ]
        },
        {
          "output_type": "stream",
          "name": "stderr",
          "text": [
            "[Parallel(n_jobs=4)]: Using backend LokyBackend with 4 concurrent workers.\n",
            "[Parallel(n_jobs=4)]: Done  93 tasks      | elapsed:    0.0s\n",
            "[Parallel(n_jobs=4)]: Done 100 out of 100 | elapsed:    0.0s finished\n",
            "[Parallel(n_jobs=4)]: Using backend ThreadingBackend with 4 concurrent workers.\n",
            "[Parallel(n_jobs=4)]: Done  33 tasks      | elapsed:    0.0s\n",
            "[Parallel(n_jobs=4)]: Done 100 out of 100 | elapsed:    0.0s finished\n"
          ]
        },
        {
          "output_type": "stream",
          "name": "stdout",
          "text": [
            "[CV 2/3] END extratreesclassifier__criterion=gini, extratreesclassifier__max_depth=5, extratreesclassifier__max_features=auto, extratreesclassifier__min_samples_leaf=1, extratreesclassifier__min_samples_split=10, extratreesclassifier__n_estimators=100, pca__n_components=150;, score=0.847 total time=   0.5s\n"
          ]
        },
        {
          "output_type": "stream",
          "name": "stderr",
          "text": [
            "[Parallel(n_jobs=4)]: Using backend LokyBackend with 4 concurrent workers.\n",
            "[Parallel(n_jobs=4)]: Done  93 tasks      | elapsed:    0.0s\n",
            "[Parallel(n_jobs=4)]: Done 100 out of 100 | elapsed:    0.0s finished\n",
            "[Parallel(n_jobs=4)]: Using backend ThreadingBackend with 4 concurrent workers.\n",
            "[Parallel(n_jobs=4)]: Done  33 tasks      | elapsed:    0.0s\n",
            "[Parallel(n_jobs=4)]: Done 100 out of 100 | elapsed:    0.0s finished\n"
          ]
        },
        {
          "output_type": "stream",
          "name": "stdout",
          "text": [
            "[CV 3/3] END extratreesclassifier__criterion=gini, extratreesclassifier__max_depth=5, extratreesclassifier__max_features=auto, extratreesclassifier__min_samples_leaf=1, extratreesclassifier__min_samples_split=10, extratreesclassifier__n_estimators=100, pca__n_components=150;, score=0.858 total time=   0.5s\n"
          ]
        },
        {
          "output_type": "stream",
          "name": "stderr",
          "text": [
            "[Parallel(n_jobs=4)]: Using backend LokyBackend with 4 concurrent workers.\n",
            "[Parallel(n_jobs=4)]: Done  93 tasks      | elapsed:    0.0s\n",
            "[Parallel(n_jobs=4)]: Done 100 out of 100 | elapsed:    0.0s finished\n",
            "[Parallel(n_jobs=4)]: Using backend ThreadingBackend with 4 concurrent workers.\n",
            "[Parallel(n_jobs=4)]: Done  33 tasks      | elapsed:    0.0s\n",
            "[Parallel(n_jobs=4)]: Done 100 out of 100 | elapsed:    0.0s finished\n"
          ]
        },
        {
          "output_type": "stream",
          "name": "stdout",
          "text": [
            "[CV 1/3] END extratreesclassifier__criterion=gini, extratreesclassifier__max_depth=5, extratreesclassifier__max_features=auto, extratreesclassifier__min_samples_leaf=1, extratreesclassifier__min_samples_split=10, extratreesclassifier__n_estimators=100, pca__n_components=200;, score=0.848 total time=   0.6s\n"
          ]
        },
        {
          "output_type": "stream",
          "name": "stderr",
          "text": [
            "[Parallel(n_jobs=4)]: Using backend LokyBackend with 4 concurrent workers.\n",
            "[Parallel(n_jobs=4)]: Done  93 tasks      | elapsed:    0.0s\n",
            "[Parallel(n_jobs=4)]: Done 100 out of 100 | elapsed:    0.0s finished\n",
            "[Parallel(n_jobs=4)]: Using backend ThreadingBackend with 4 concurrent workers.\n",
            "[Parallel(n_jobs=4)]: Done  33 tasks      | elapsed:    0.0s\n",
            "[Parallel(n_jobs=4)]: Done 100 out of 100 | elapsed:    0.0s finished\n"
          ]
        },
        {
          "output_type": "stream",
          "name": "stdout",
          "text": [
            "[CV 2/3] END extratreesclassifier__criterion=gini, extratreesclassifier__max_depth=5, extratreesclassifier__max_features=auto, extratreesclassifier__min_samples_leaf=1, extratreesclassifier__min_samples_split=10, extratreesclassifier__n_estimators=100, pca__n_components=200;, score=0.863 total time=   0.6s\n"
          ]
        },
        {
          "output_type": "stream",
          "name": "stderr",
          "text": [
            "[Parallel(n_jobs=4)]: Using backend LokyBackend with 4 concurrent workers.\n",
            "[Parallel(n_jobs=4)]: Done  93 tasks      | elapsed:    0.0s\n",
            "[Parallel(n_jobs=4)]: Done 100 out of 100 | elapsed:    0.0s finished\n",
            "[Parallel(n_jobs=4)]: Using backend ThreadingBackend with 4 concurrent workers.\n",
            "[Parallel(n_jobs=4)]: Done  33 tasks      | elapsed:    0.0s\n",
            "[Parallel(n_jobs=4)]: Done 100 out of 100 | elapsed:    0.0s finished\n"
          ]
        },
        {
          "output_type": "stream",
          "name": "stdout",
          "text": [
            "[CV 3/3] END extratreesclassifier__criterion=gini, extratreesclassifier__max_depth=5, extratreesclassifier__max_features=auto, extratreesclassifier__min_samples_leaf=1, extratreesclassifier__min_samples_split=10, extratreesclassifier__n_estimators=100, pca__n_components=200;, score=0.862 total time=   0.6s\n"
          ]
        },
        {
          "output_type": "stream",
          "name": "stderr",
          "text": [
            "[Parallel(n_jobs=4)]: Using backend LokyBackend with 4 concurrent workers.\n",
            "[Parallel(n_jobs=4)]: Done  93 tasks      | elapsed:    0.0s\n",
            "[Parallel(n_jobs=4)]: Done 100 out of 100 | elapsed:    0.0s finished\n",
            "[Parallel(n_jobs=4)]: Using backend ThreadingBackend with 4 concurrent workers.\n",
            "[Parallel(n_jobs=4)]: Done  33 tasks      | elapsed:    0.0s\n",
            "[Parallel(n_jobs=4)]: Done 100 out of 100 | elapsed:    0.0s finished\n"
          ]
        },
        {
          "output_type": "stream",
          "name": "stdout",
          "text": [
            "[CV 1/3] END extratreesclassifier__criterion=gini, extratreesclassifier__max_depth=5, extratreesclassifier__max_features=auto, extratreesclassifier__min_samples_leaf=1, extratreesclassifier__min_samples_split=10, extratreesclassifier__n_estimators=100, pca__n_components=300;, score=0.858 total time=   0.8s\n"
          ]
        },
        {
          "output_type": "stream",
          "name": "stderr",
          "text": [
            "[Parallel(n_jobs=4)]: Using backend LokyBackend with 4 concurrent workers.\n",
            "[Parallel(n_jobs=4)]: Done  93 tasks      | elapsed:    0.0s\n",
            "[Parallel(n_jobs=4)]: Done 100 out of 100 | elapsed:    0.0s finished\n",
            "[Parallel(n_jobs=4)]: Using backend ThreadingBackend with 4 concurrent workers.\n",
            "[Parallel(n_jobs=4)]: Done  33 tasks      | elapsed:    0.0s\n",
            "[Parallel(n_jobs=4)]: Done 100 out of 100 | elapsed:    0.0s finished\n"
          ]
        },
        {
          "output_type": "stream",
          "name": "stdout",
          "text": [
            "[CV 2/3] END extratreesclassifier__criterion=gini, extratreesclassifier__max_depth=5, extratreesclassifier__max_features=auto, extratreesclassifier__min_samples_leaf=1, extratreesclassifier__min_samples_split=10, extratreesclassifier__n_estimators=100, pca__n_components=300;, score=0.871 total time=   0.8s\n"
          ]
        },
        {
          "output_type": "stream",
          "name": "stderr",
          "text": [
            "[Parallel(n_jobs=4)]: Using backend LokyBackend with 4 concurrent workers.\n",
            "[Parallel(n_jobs=4)]: Done  93 tasks      | elapsed:    0.0s\n",
            "[Parallel(n_jobs=4)]: Done 100 out of 100 | elapsed:    0.0s finished\n",
            "[Parallel(n_jobs=4)]: Using backend ThreadingBackend with 4 concurrent workers.\n",
            "[Parallel(n_jobs=4)]: Done  33 tasks      | elapsed:    0.0s\n",
            "[Parallel(n_jobs=4)]: Done 100 out of 100 | elapsed:    0.0s finished\n"
          ]
        },
        {
          "output_type": "stream",
          "name": "stdout",
          "text": [
            "[CV 3/3] END extratreesclassifier__criterion=gini, extratreesclassifier__max_depth=5, extratreesclassifier__max_features=auto, extratreesclassifier__min_samples_leaf=1, extratreesclassifier__min_samples_split=10, extratreesclassifier__n_estimators=100, pca__n_components=300;, score=0.861 total time=   0.8s\n"
          ]
        },
        {
          "output_type": "stream",
          "name": "stderr",
          "text": [
            "[Parallel(n_jobs=4)]: Using backend LokyBackend with 4 concurrent workers.\n",
            "[Parallel(n_jobs=4)]: Done  93 tasks      | elapsed:    0.0s\n",
            "[Parallel(n_jobs=4)]: Done 100 out of 100 | elapsed:    0.0s finished\n",
            "[Parallel(n_jobs=4)]: Using backend ThreadingBackend with 4 concurrent workers.\n",
            "[Parallel(n_jobs=4)]: Done  33 tasks      | elapsed:    0.0s\n",
            "[Parallel(n_jobs=4)]: Done 100 out of 100 | elapsed:    0.0s finished\n"
          ]
        },
        {
          "output_type": "stream",
          "name": "stdout",
          "text": [
            "[CV 1/3] END extratreesclassifier__criterion=gini, extratreesclassifier__max_depth=5, extratreesclassifier__max_features=auto, extratreesclassifier__min_samples_leaf=1, extratreesclassifier__min_samples_split=10, extratreesclassifier__n_estimators=100, pca__n_components=400;, score=0.853 total time=   0.8s\n"
          ]
        },
        {
          "output_type": "stream",
          "name": "stderr",
          "text": [
            "[Parallel(n_jobs=4)]: Using backend LokyBackend with 4 concurrent workers.\n",
            "[Parallel(n_jobs=4)]: Done  93 tasks      | elapsed:    0.0s\n",
            "[Parallel(n_jobs=4)]: Done 100 out of 100 | elapsed:    0.0s finished\n",
            "[Parallel(n_jobs=4)]: Using backend ThreadingBackend with 4 concurrent workers.\n",
            "[Parallel(n_jobs=4)]: Done  33 tasks      | elapsed:    0.0s\n",
            "[Parallel(n_jobs=4)]: Done 100 out of 100 | elapsed:    0.0s finished\n"
          ]
        },
        {
          "output_type": "stream",
          "name": "stdout",
          "text": [
            "[CV 2/3] END extratreesclassifier__criterion=gini, extratreesclassifier__max_depth=5, extratreesclassifier__max_features=auto, extratreesclassifier__min_samples_leaf=1, extratreesclassifier__min_samples_split=10, extratreesclassifier__n_estimators=100, pca__n_components=400;, score=0.859 total time=   0.8s\n"
          ]
        },
        {
          "output_type": "stream",
          "name": "stderr",
          "text": [
            "[Parallel(n_jobs=4)]: Using backend LokyBackend with 4 concurrent workers.\n",
            "[Parallel(n_jobs=4)]: Done  93 tasks      | elapsed:    0.0s\n",
            "[Parallel(n_jobs=4)]: Done 100 out of 100 | elapsed:    0.0s finished\n",
            "[Parallel(n_jobs=4)]: Using backend ThreadingBackend with 4 concurrent workers.\n",
            "[Parallel(n_jobs=4)]: Done  33 tasks      | elapsed:    0.0s\n",
            "[Parallel(n_jobs=4)]: Done 100 out of 100 | elapsed:    0.0s finished\n"
          ]
        },
        {
          "output_type": "stream",
          "name": "stdout",
          "text": [
            "[CV 3/3] END extratreesclassifier__criterion=gini, extratreesclassifier__max_depth=5, extratreesclassifier__max_features=auto, extratreesclassifier__min_samples_leaf=1, extratreesclassifier__min_samples_split=10, extratreesclassifier__n_estimators=100, pca__n_components=400;, score=0.853 total time=   0.8s\n"
          ]
        },
        {
          "output_type": "stream",
          "name": "stderr",
          "text": [
            "[Parallel(n_jobs=4)]: Using backend LokyBackend with 4 concurrent workers.\n",
            "[Parallel(n_jobs=4)]: Done 136 tasks      | elapsed:    0.0s\n",
            "[Parallel(n_jobs=4)]: Done 200 out of 200 | elapsed:    0.0s finished\n",
            "[Parallel(n_jobs=4)]: Using backend ThreadingBackend with 4 concurrent workers.\n",
            "[Parallel(n_jobs=4)]: Done  33 tasks      | elapsed:    0.0s\n",
            "[Parallel(n_jobs=4)]: Done 154 tasks      | elapsed:    0.0s\n",
            "[Parallel(n_jobs=4)]: Done 200 out of 200 | elapsed:    0.0s finished\n"
          ]
        },
        {
          "output_type": "stream",
          "name": "stdout",
          "text": [
            "[CV 1/3] END extratreesclassifier__criterion=gini, extratreesclassifier__max_depth=5, extratreesclassifier__max_features=auto, extratreesclassifier__min_samples_leaf=1, extratreesclassifier__min_samples_split=10, extratreesclassifier__n_estimators=200, pca__n_components=100;, score=0.870 total time=   0.5s\n"
          ]
        },
        {
          "output_type": "stream",
          "name": "stderr",
          "text": [
            "[Parallel(n_jobs=4)]: Using backend LokyBackend with 4 concurrent workers.\n",
            "[Parallel(n_jobs=4)]: Done 136 tasks      | elapsed:    0.0s\n",
            "[Parallel(n_jobs=4)]: Done 200 out of 200 | elapsed:    0.0s finished\n",
            "[Parallel(n_jobs=4)]: Using backend ThreadingBackend with 4 concurrent workers.\n",
            "[Parallel(n_jobs=4)]: Done  33 tasks      | elapsed:    0.0s\n",
            "[Parallel(n_jobs=4)]: Done 154 tasks      | elapsed:    0.0s\n",
            "[Parallel(n_jobs=4)]: Done 200 out of 200 | elapsed:    0.0s finished\n"
          ]
        },
        {
          "output_type": "stream",
          "name": "stdout",
          "text": [
            "[CV 2/3] END extratreesclassifier__criterion=gini, extratreesclassifier__max_depth=5, extratreesclassifier__max_features=auto, extratreesclassifier__min_samples_leaf=1, extratreesclassifier__min_samples_split=10, extratreesclassifier__n_estimators=200, pca__n_components=100;, score=0.870 total time=   0.5s\n"
          ]
        },
        {
          "output_type": "stream",
          "name": "stderr",
          "text": [
            "[Parallel(n_jobs=4)]: Using backend LokyBackend with 4 concurrent workers.\n",
            "[Parallel(n_jobs=4)]: Done 136 tasks      | elapsed:    0.0s\n",
            "[Parallel(n_jobs=4)]: Done 200 out of 200 | elapsed:    0.0s finished\n",
            "[Parallel(n_jobs=4)]: Using backend ThreadingBackend with 4 concurrent workers.\n",
            "[Parallel(n_jobs=4)]: Done  33 tasks      | elapsed:    0.0s\n",
            "[Parallel(n_jobs=4)]: Done 154 tasks      | elapsed:    0.0s\n",
            "[Parallel(n_jobs=4)]: Done 200 out of 200 | elapsed:    0.0s finished\n"
          ]
        },
        {
          "output_type": "stream",
          "name": "stdout",
          "text": [
            "[CV 3/3] END extratreesclassifier__criterion=gini, extratreesclassifier__max_depth=5, extratreesclassifier__max_features=auto, extratreesclassifier__min_samples_leaf=1, extratreesclassifier__min_samples_split=10, extratreesclassifier__n_estimators=200, pca__n_components=100;, score=0.862 total time=   0.5s\n"
          ]
        },
        {
          "output_type": "stream",
          "name": "stderr",
          "text": [
            "[Parallel(n_jobs=4)]: Using backend LokyBackend with 4 concurrent workers.\n",
            "[Parallel(n_jobs=4)]: Done 136 tasks      | elapsed:    0.0s\n",
            "[Parallel(n_jobs=4)]: Done 200 out of 200 | elapsed:    0.0s finished\n",
            "[Parallel(n_jobs=4)]: Using backend ThreadingBackend with 4 concurrent workers.\n",
            "[Parallel(n_jobs=4)]: Done  33 tasks      | elapsed:    0.0s\n",
            "[Parallel(n_jobs=4)]: Done 154 tasks      | elapsed:    0.0s\n",
            "[Parallel(n_jobs=4)]: Done 200 out of 200 | elapsed:    0.0s finished\n"
          ]
        },
        {
          "output_type": "stream",
          "name": "stdout",
          "text": [
            "[CV 1/3] END extratreesclassifier__criterion=gini, extratreesclassifier__max_depth=5, extratreesclassifier__max_features=auto, extratreesclassifier__min_samples_leaf=1, extratreesclassifier__min_samples_split=10, extratreesclassifier__n_estimators=200, pca__n_components=150;, score=0.850 total time=   0.5s\n"
          ]
        },
        {
          "output_type": "stream",
          "name": "stderr",
          "text": [
            "[Parallel(n_jobs=4)]: Using backend LokyBackend with 4 concurrent workers.\n",
            "[Parallel(n_jobs=4)]: Done 136 tasks      | elapsed:    0.0s\n",
            "[Parallel(n_jobs=4)]: Done 200 out of 200 | elapsed:    0.0s finished\n",
            "[Parallel(n_jobs=4)]: Using backend ThreadingBackend with 4 concurrent workers.\n",
            "[Parallel(n_jobs=4)]: Done  33 tasks      | elapsed:    0.0s\n",
            "[Parallel(n_jobs=4)]: Done 154 tasks      | elapsed:    0.0s\n",
            "[Parallel(n_jobs=4)]: Done 200 out of 200 | elapsed:    0.0s finished\n"
          ]
        },
        {
          "output_type": "stream",
          "name": "stdout",
          "text": [
            "[CV 2/3] END extratreesclassifier__criterion=gini, extratreesclassifier__max_depth=5, extratreesclassifier__max_features=auto, extratreesclassifier__min_samples_leaf=1, extratreesclassifier__min_samples_split=10, extratreesclassifier__n_estimators=200, pca__n_components=150;, score=0.883 total time=   0.5s\n"
          ]
        },
        {
          "output_type": "stream",
          "name": "stderr",
          "text": [
            "[Parallel(n_jobs=4)]: Using backend LokyBackend with 4 concurrent workers.\n",
            "[Parallel(n_jobs=4)]: Done 136 tasks      | elapsed:    0.0s\n",
            "[Parallel(n_jobs=4)]: Done 200 out of 200 | elapsed:    0.0s finished\n",
            "[Parallel(n_jobs=4)]: Using backend ThreadingBackend with 4 concurrent workers.\n",
            "[Parallel(n_jobs=4)]: Done  33 tasks      | elapsed:    0.0s\n",
            "[Parallel(n_jobs=4)]: Done 154 tasks      | elapsed:    0.0s\n",
            "[Parallel(n_jobs=4)]: Done 200 out of 200 | elapsed:    0.0s finished\n"
          ]
        },
        {
          "output_type": "stream",
          "name": "stdout",
          "text": [
            "[CV 3/3] END extratreesclassifier__criterion=gini, extratreesclassifier__max_depth=5, extratreesclassifier__max_features=auto, extratreesclassifier__min_samples_leaf=1, extratreesclassifier__min_samples_split=10, extratreesclassifier__n_estimators=200, pca__n_components=150;, score=0.870 total time=   0.5s\n"
          ]
        },
        {
          "output_type": "stream",
          "name": "stderr",
          "text": [
            "[Parallel(n_jobs=4)]: Using backend LokyBackend with 4 concurrent workers.\n",
            "[Parallel(n_jobs=4)]: Done 136 tasks      | elapsed:    0.0s\n",
            "[Parallel(n_jobs=4)]: Done 200 out of 200 | elapsed:    0.1s finished\n",
            "[Parallel(n_jobs=4)]: Using backend ThreadingBackend with 4 concurrent workers.\n",
            "[Parallel(n_jobs=4)]: Done  33 tasks      | elapsed:    0.0s\n",
            "[Parallel(n_jobs=4)]: Done 154 tasks      | elapsed:    0.0s\n",
            "[Parallel(n_jobs=4)]: Done 200 out of 200 | elapsed:    0.0s finished\n"
          ]
        },
        {
          "output_type": "stream",
          "name": "stdout",
          "text": [
            "[CV 1/3] END extratreesclassifier__criterion=gini, extratreesclassifier__max_depth=5, extratreesclassifier__max_features=auto, extratreesclassifier__min_samples_leaf=1, extratreesclassifier__min_samples_split=10, extratreesclassifier__n_estimators=200, pca__n_components=200;, score=0.873 total time=   0.7s\n"
          ]
        },
        {
          "output_type": "stream",
          "name": "stderr",
          "text": [
            "[Parallel(n_jobs=4)]: Using backend LokyBackend with 4 concurrent workers.\n",
            "[Parallel(n_jobs=4)]: Done 136 tasks      | elapsed:    0.0s\n",
            "[Parallel(n_jobs=4)]: Done 200 out of 200 | elapsed:    0.1s finished\n",
            "[Parallel(n_jobs=4)]: Using backend ThreadingBackend with 4 concurrent workers.\n",
            "[Parallel(n_jobs=4)]: Done  33 tasks      | elapsed:    0.0s\n",
            "[Parallel(n_jobs=4)]: Done 154 tasks      | elapsed:    0.0s\n",
            "[Parallel(n_jobs=4)]: Done 200 out of 200 | elapsed:    0.0s finished\n"
          ]
        },
        {
          "output_type": "stream",
          "name": "stdout",
          "text": [
            "[CV 2/3] END extratreesclassifier__criterion=gini, extratreesclassifier__max_depth=5, extratreesclassifier__max_features=auto, extratreesclassifier__min_samples_leaf=1, extratreesclassifier__min_samples_split=10, extratreesclassifier__n_estimators=200, pca__n_components=200;, score=0.890 total time=   0.7s\n"
          ]
        },
        {
          "output_type": "stream",
          "name": "stderr",
          "text": [
            "[Parallel(n_jobs=4)]: Using backend LokyBackend with 4 concurrent workers.\n",
            "[Parallel(n_jobs=4)]: Done 136 tasks      | elapsed:    0.0s\n",
            "[Parallel(n_jobs=4)]: Done 200 out of 200 | elapsed:    0.1s finished\n",
            "[Parallel(n_jobs=4)]: Using backend ThreadingBackend with 4 concurrent workers.\n",
            "[Parallel(n_jobs=4)]: Done  33 tasks      | elapsed:    0.0s\n",
            "[Parallel(n_jobs=4)]: Done 154 tasks      | elapsed:    0.0s\n",
            "[Parallel(n_jobs=4)]: Done 200 out of 200 | elapsed:    0.0s finished\n"
          ]
        },
        {
          "output_type": "stream",
          "name": "stdout",
          "text": [
            "[CV 3/3] END extratreesclassifier__criterion=gini, extratreesclassifier__max_depth=5, extratreesclassifier__max_features=auto, extratreesclassifier__min_samples_leaf=1, extratreesclassifier__min_samples_split=10, extratreesclassifier__n_estimators=200, pca__n_components=200;, score=0.875 total time=   0.7s\n"
          ]
        },
        {
          "output_type": "stream",
          "name": "stderr",
          "text": [
            "[Parallel(n_jobs=4)]: Using backend LokyBackend with 4 concurrent workers.\n",
            "[Parallel(n_jobs=4)]: Done 136 tasks      | elapsed:    0.1s\n",
            "[Parallel(n_jobs=4)]: Done 200 out of 200 | elapsed:    0.1s finished\n",
            "[Parallel(n_jobs=4)]: Using backend ThreadingBackend with 4 concurrent workers.\n",
            "[Parallel(n_jobs=4)]: Done  33 tasks      | elapsed:    0.0s\n",
            "[Parallel(n_jobs=4)]: Done 154 tasks      | elapsed:    0.0s\n",
            "[Parallel(n_jobs=4)]: Done 200 out of 200 | elapsed:    0.0s finished\n"
          ]
        },
        {
          "output_type": "stream",
          "name": "stdout",
          "text": [
            "[CV 1/3] END extratreesclassifier__criterion=gini, extratreesclassifier__max_depth=5, extratreesclassifier__max_features=auto, extratreesclassifier__min_samples_leaf=1, extratreesclassifier__min_samples_split=10, extratreesclassifier__n_estimators=200, pca__n_components=300;, score=0.883 total time=   0.8s\n"
          ]
        },
        {
          "output_type": "stream",
          "name": "stderr",
          "text": [
            "[Parallel(n_jobs=4)]: Using backend LokyBackend with 4 concurrent workers.\n",
            "[Parallel(n_jobs=4)]: Done 136 tasks      | elapsed:    0.1s\n",
            "[Parallel(n_jobs=4)]: Done 200 out of 200 | elapsed:    0.1s finished\n",
            "[Parallel(n_jobs=4)]: Using backend ThreadingBackend with 4 concurrent workers.\n",
            "[Parallel(n_jobs=4)]: Done  33 tasks      | elapsed:    0.0s\n",
            "[Parallel(n_jobs=4)]: Done 154 tasks      | elapsed:    0.0s\n",
            "[Parallel(n_jobs=4)]: Done 200 out of 200 | elapsed:    0.0s finished\n"
          ]
        },
        {
          "output_type": "stream",
          "name": "stdout",
          "text": [
            "[CV 2/3] END extratreesclassifier__criterion=gini, extratreesclassifier__max_depth=5, extratreesclassifier__max_features=auto, extratreesclassifier__min_samples_leaf=1, extratreesclassifier__min_samples_split=10, extratreesclassifier__n_estimators=200, pca__n_components=300;, score=0.885 total time=   0.8s\n"
          ]
        },
        {
          "output_type": "stream",
          "name": "stderr",
          "text": [
            "[Parallel(n_jobs=4)]: Using backend LokyBackend with 4 concurrent workers.\n",
            "[Parallel(n_jobs=4)]: Done 136 tasks      | elapsed:    0.1s\n",
            "[Parallel(n_jobs=4)]: Done 200 out of 200 | elapsed:    0.1s finished\n",
            "[Parallel(n_jobs=4)]: Using backend ThreadingBackend with 4 concurrent workers.\n",
            "[Parallel(n_jobs=4)]: Done  33 tasks      | elapsed:    0.0s\n",
            "[Parallel(n_jobs=4)]: Done 154 tasks      | elapsed:    0.0s\n",
            "[Parallel(n_jobs=4)]: Done 200 out of 200 | elapsed:    0.0s finished\n"
          ]
        },
        {
          "output_type": "stream",
          "name": "stdout",
          "text": [
            "[CV 3/3] END extratreesclassifier__criterion=gini, extratreesclassifier__max_depth=5, extratreesclassifier__max_features=auto, extratreesclassifier__min_samples_leaf=1, extratreesclassifier__min_samples_split=10, extratreesclassifier__n_estimators=200, pca__n_components=300;, score=0.882 total time=   0.8s\n"
          ]
        },
        {
          "output_type": "stream",
          "name": "stderr",
          "text": [
            "[Parallel(n_jobs=4)]: Using backend LokyBackend with 4 concurrent workers.\n",
            "[Parallel(n_jobs=4)]: Done 136 tasks      | elapsed:    0.1s\n",
            "[Parallel(n_jobs=4)]: Done 200 out of 200 | elapsed:    0.1s finished\n",
            "[Parallel(n_jobs=4)]: Using backend ThreadingBackend with 4 concurrent workers.\n",
            "[Parallel(n_jobs=4)]: Done  33 tasks      | elapsed:    0.0s\n",
            "[Parallel(n_jobs=4)]: Done 154 tasks      | elapsed:    0.0s\n",
            "[Parallel(n_jobs=4)]: Done 200 out of 200 | elapsed:    0.0s finished\n"
          ]
        },
        {
          "output_type": "stream",
          "name": "stdout",
          "text": [
            "[CV 1/3] END extratreesclassifier__criterion=gini, extratreesclassifier__max_depth=5, extratreesclassifier__max_features=auto, extratreesclassifier__min_samples_leaf=1, extratreesclassifier__min_samples_split=10, extratreesclassifier__n_estimators=200, pca__n_components=400;, score=0.873 total time=   0.9s\n"
          ]
        },
        {
          "output_type": "stream",
          "name": "stderr",
          "text": [
            "[Parallel(n_jobs=4)]: Using backend LokyBackend with 4 concurrent workers.\n",
            "[Parallel(n_jobs=4)]: Done 136 tasks      | elapsed:    0.1s\n",
            "[Parallel(n_jobs=4)]: Done 200 out of 200 | elapsed:    0.1s finished\n",
            "[Parallel(n_jobs=4)]: Using backend ThreadingBackend with 4 concurrent workers.\n",
            "[Parallel(n_jobs=4)]: Done  33 tasks      | elapsed:    0.0s\n",
            "[Parallel(n_jobs=4)]: Done 154 tasks      | elapsed:    0.0s\n",
            "[Parallel(n_jobs=4)]: Done 200 out of 200 | elapsed:    0.0s finished\n"
          ]
        },
        {
          "output_type": "stream",
          "name": "stdout",
          "text": [
            "[CV 2/3] END extratreesclassifier__criterion=gini, extratreesclassifier__max_depth=5, extratreesclassifier__max_features=auto, extratreesclassifier__min_samples_leaf=1, extratreesclassifier__min_samples_split=10, extratreesclassifier__n_estimators=200, pca__n_components=400;, score=0.896 total time=   0.8s\n"
          ]
        },
        {
          "output_type": "stream",
          "name": "stderr",
          "text": [
            "[Parallel(n_jobs=4)]: Using backend LokyBackend with 4 concurrent workers.\n",
            "[Parallel(n_jobs=4)]: Done 136 tasks      | elapsed:    0.1s\n",
            "[Parallel(n_jobs=4)]: Done 200 out of 200 | elapsed:    0.1s finished\n",
            "[Parallel(n_jobs=4)]: Using backend ThreadingBackend with 4 concurrent workers.\n",
            "[Parallel(n_jobs=4)]: Done  33 tasks      | elapsed:    0.0s\n",
            "[Parallel(n_jobs=4)]: Done 154 tasks      | elapsed:    0.0s\n",
            "[Parallel(n_jobs=4)]: Done 200 out of 200 | elapsed:    0.0s finished\n"
          ]
        },
        {
          "output_type": "stream",
          "name": "stdout",
          "text": [
            "[CV 3/3] END extratreesclassifier__criterion=gini, extratreesclassifier__max_depth=5, extratreesclassifier__max_features=auto, extratreesclassifier__min_samples_leaf=1, extratreesclassifier__min_samples_split=10, extratreesclassifier__n_estimators=200, pca__n_components=400;, score=0.882 total time=   0.9s\n"
          ]
        },
        {
          "output_type": "stream",
          "name": "stderr",
          "text": [
            "[Parallel(n_jobs=4)]: Using backend LokyBackend with 4 concurrent workers.\n",
            "[Parallel(n_jobs=4)]: Done  10 out of  10 | elapsed:    0.0s finished\n",
            "[Parallel(n_jobs=4)]: Using backend ThreadingBackend with 4 concurrent workers.\n",
            "[Parallel(n_jobs=4)]: Done  10 out of  10 | elapsed:    0.0s finished\n"
          ]
        },
        {
          "output_type": "stream",
          "name": "stdout",
          "text": [
            "[CV 1/3] END extratreesclassifier__criterion=gini, extratreesclassifier__max_depth=5, extratreesclassifier__max_features=auto, extratreesclassifier__min_samples_leaf=1, extratreesclassifier__min_samples_split=0.1, extratreesclassifier__n_estimators=10, pca__n_components=100;, score=0.608 total time=   0.3s\n"
          ]
        },
        {
          "output_type": "stream",
          "name": "stderr",
          "text": [
            "[Parallel(n_jobs=4)]: Using backend LokyBackend with 4 concurrent workers.\n",
            "[Parallel(n_jobs=4)]: Done  10 out of  10 | elapsed:    0.0s finished\n",
            "[Parallel(n_jobs=4)]: Using backend ThreadingBackend with 4 concurrent workers.\n",
            "[Parallel(n_jobs=4)]: Done  10 out of  10 | elapsed:    0.0s finished\n"
          ]
        },
        {
          "output_type": "stream",
          "name": "stdout",
          "text": [
            "[CV 2/3] END extratreesclassifier__criterion=gini, extratreesclassifier__max_depth=5, extratreesclassifier__max_features=auto, extratreesclassifier__min_samples_leaf=1, extratreesclassifier__min_samples_split=0.1, extratreesclassifier__n_estimators=10, pca__n_components=100;, score=0.595 total time=   0.3s\n"
          ]
        },
        {
          "output_type": "stream",
          "name": "stderr",
          "text": [
            "[Parallel(n_jobs=4)]: Using backend LokyBackend with 4 concurrent workers.\n",
            "[Parallel(n_jobs=4)]: Done  10 out of  10 | elapsed:    0.0s finished\n",
            "[Parallel(n_jobs=4)]: Using backend ThreadingBackend with 4 concurrent workers.\n",
            "[Parallel(n_jobs=4)]: Done  10 out of  10 | elapsed:    0.0s finished\n"
          ]
        },
        {
          "output_type": "stream",
          "name": "stdout",
          "text": [
            "[CV 3/3] END extratreesclassifier__criterion=gini, extratreesclassifier__max_depth=5, extratreesclassifier__max_features=auto, extratreesclassifier__min_samples_leaf=1, extratreesclassifier__min_samples_split=0.1, extratreesclassifier__n_estimators=10, pca__n_components=100;, score=0.592 total time=   0.3s\n"
          ]
        },
        {
          "output_type": "stream",
          "name": "stderr",
          "text": [
            "[Parallel(n_jobs=4)]: Using backend LokyBackend with 4 concurrent workers.\n",
            "[Parallel(n_jobs=4)]: Done  10 out of  10 | elapsed:    0.0s finished\n",
            "[Parallel(n_jobs=4)]: Using backend ThreadingBackend with 4 concurrent workers.\n",
            "[Parallel(n_jobs=4)]: Done  10 out of  10 | elapsed:    0.0s finished\n"
          ]
        },
        {
          "output_type": "stream",
          "name": "stdout",
          "text": [
            "[CV 1/3] END extratreesclassifier__criterion=gini, extratreesclassifier__max_depth=5, extratreesclassifier__max_features=auto, extratreesclassifier__min_samples_leaf=1, extratreesclassifier__min_samples_split=0.1, extratreesclassifier__n_estimators=10, pca__n_components=150;, score=0.609 total time=   0.4s\n"
          ]
        },
        {
          "output_type": "stream",
          "name": "stderr",
          "text": [
            "[Parallel(n_jobs=4)]: Using backend LokyBackend with 4 concurrent workers.\n",
            "[Parallel(n_jobs=4)]: Done  10 out of  10 | elapsed:    0.0s finished\n",
            "[Parallel(n_jobs=4)]: Using backend ThreadingBackend with 4 concurrent workers.\n",
            "[Parallel(n_jobs=4)]: Done  10 out of  10 | elapsed:    0.0s finished\n"
          ]
        },
        {
          "output_type": "stream",
          "name": "stdout",
          "text": [
            "[CV 2/3] END extratreesclassifier__criterion=gini, extratreesclassifier__max_depth=5, extratreesclassifier__max_features=auto, extratreesclassifier__min_samples_leaf=1, extratreesclassifier__min_samples_split=0.1, extratreesclassifier__n_estimators=10, pca__n_components=150;, score=0.627 total time=   0.4s\n"
          ]
        },
        {
          "output_type": "stream",
          "name": "stderr",
          "text": [
            "[Parallel(n_jobs=4)]: Using backend LokyBackend with 4 concurrent workers.\n",
            "[Parallel(n_jobs=4)]: Done  10 out of  10 | elapsed:    0.0s finished\n",
            "[Parallel(n_jobs=4)]: Using backend ThreadingBackend with 4 concurrent workers.\n",
            "[Parallel(n_jobs=4)]: Done  10 out of  10 | elapsed:    0.0s finished\n"
          ]
        },
        {
          "output_type": "stream",
          "name": "stdout",
          "text": [
            "[CV 3/3] END extratreesclassifier__criterion=gini, extratreesclassifier__max_depth=5, extratreesclassifier__max_features=auto, extratreesclassifier__min_samples_leaf=1, extratreesclassifier__min_samples_split=0.1, extratreesclassifier__n_estimators=10, pca__n_components=150;, score=0.594 total time=   0.4s\n"
          ]
        },
        {
          "output_type": "stream",
          "name": "stderr",
          "text": [
            "[Parallel(n_jobs=4)]: Using backend LokyBackend with 4 concurrent workers.\n",
            "[Parallel(n_jobs=4)]: Done  10 out of  10 | elapsed:    0.0s finished\n",
            "[Parallel(n_jobs=4)]: Using backend ThreadingBackend with 4 concurrent workers.\n",
            "[Parallel(n_jobs=4)]: Done  10 out of  10 | elapsed:    0.0s finished\n"
          ]
        },
        {
          "output_type": "stream",
          "name": "stdout",
          "text": [
            "[CV 1/3] END extratreesclassifier__criterion=gini, extratreesclassifier__max_depth=5, extratreesclassifier__max_features=auto, extratreesclassifier__min_samples_leaf=1, extratreesclassifier__min_samples_split=0.1, extratreesclassifier__n_estimators=10, pca__n_components=200;, score=0.610 total time=   0.5s\n"
          ]
        },
        {
          "output_type": "stream",
          "name": "stderr",
          "text": [
            "[Parallel(n_jobs=4)]: Using backend LokyBackend with 4 concurrent workers.\n",
            "[Parallel(n_jobs=4)]: Done  10 out of  10 | elapsed:    0.0s finished\n",
            "[Parallel(n_jobs=4)]: Using backend ThreadingBackend with 4 concurrent workers.\n",
            "[Parallel(n_jobs=4)]: Done  10 out of  10 | elapsed:    0.0s finished\n"
          ]
        },
        {
          "output_type": "stream",
          "name": "stdout",
          "text": [
            "[CV 2/3] END extratreesclassifier__criterion=gini, extratreesclassifier__max_depth=5, extratreesclassifier__max_features=auto, extratreesclassifier__min_samples_leaf=1, extratreesclassifier__min_samples_split=0.1, extratreesclassifier__n_estimators=10, pca__n_components=200;, score=0.537 total time=   0.5s\n"
          ]
        },
        {
          "output_type": "stream",
          "name": "stderr",
          "text": [
            "[Parallel(n_jobs=4)]: Using backend LokyBackend with 4 concurrent workers.\n",
            "[Parallel(n_jobs=4)]: Done  10 out of  10 | elapsed:    0.0s finished\n",
            "[Parallel(n_jobs=4)]: Using backend ThreadingBackend with 4 concurrent workers.\n",
            "[Parallel(n_jobs=4)]: Done  10 out of  10 | elapsed:    0.0s finished\n"
          ]
        },
        {
          "output_type": "stream",
          "name": "stdout",
          "text": [
            "[CV 3/3] END extratreesclassifier__criterion=gini, extratreesclassifier__max_depth=5, extratreesclassifier__max_features=auto, extratreesclassifier__min_samples_leaf=1, extratreesclassifier__min_samples_split=0.1, extratreesclassifier__n_estimators=10, pca__n_components=200;, score=0.600 total time=   0.5s\n"
          ]
        },
        {
          "output_type": "stream",
          "name": "stderr",
          "text": [
            "[Parallel(n_jobs=4)]: Using backend LokyBackend with 4 concurrent workers.\n",
            "[Parallel(n_jobs=4)]: Done  10 out of  10 | elapsed:    0.0s finished\n",
            "[Parallel(n_jobs=4)]: Using backend ThreadingBackend with 4 concurrent workers.\n",
            "[Parallel(n_jobs=4)]: Done  10 out of  10 | elapsed:    0.0s finished\n"
          ]
        },
        {
          "output_type": "stream",
          "name": "stdout",
          "text": [
            "[CV 1/3] END extratreesclassifier__criterion=gini, extratreesclassifier__max_depth=5, extratreesclassifier__max_features=auto, extratreesclassifier__min_samples_leaf=1, extratreesclassifier__min_samples_split=0.1, extratreesclassifier__n_estimators=10, pca__n_components=300;, score=0.513 total time=   0.6s\n"
          ]
        },
        {
          "output_type": "stream",
          "name": "stderr",
          "text": [
            "[Parallel(n_jobs=4)]: Using backend LokyBackend with 4 concurrent workers.\n",
            "[Parallel(n_jobs=4)]: Done  10 out of  10 | elapsed:    0.0s finished\n",
            "[Parallel(n_jobs=4)]: Using backend ThreadingBackend with 4 concurrent workers.\n",
            "[Parallel(n_jobs=4)]: Done  10 out of  10 | elapsed:    0.0s finished\n"
          ]
        },
        {
          "output_type": "stream",
          "name": "stdout",
          "text": [
            "[CV 2/3] END extratreesclassifier__criterion=gini, extratreesclassifier__max_depth=5, extratreesclassifier__max_features=auto, extratreesclassifier__min_samples_leaf=1, extratreesclassifier__min_samples_split=0.1, extratreesclassifier__n_estimators=10, pca__n_components=300;, score=0.490 total time=   0.6s\n"
          ]
        },
        {
          "output_type": "stream",
          "name": "stderr",
          "text": [
            "[Parallel(n_jobs=4)]: Using backend LokyBackend with 4 concurrent workers.\n",
            "[Parallel(n_jobs=4)]: Done  10 out of  10 | elapsed:    0.0s finished\n",
            "[Parallel(n_jobs=4)]: Using backend ThreadingBackend with 4 concurrent workers.\n",
            "[Parallel(n_jobs=4)]: Done  10 out of  10 | elapsed:    0.0s finished\n"
          ]
        },
        {
          "output_type": "stream",
          "name": "stdout",
          "text": [
            "[CV 3/3] END extratreesclassifier__criterion=gini, extratreesclassifier__max_depth=5, extratreesclassifier__max_features=auto, extratreesclassifier__min_samples_leaf=1, extratreesclassifier__min_samples_split=0.1, extratreesclassifier__n_estimators=10, pca__n_components=300;, score=0.592 total time=   0.6s\n"
          ]
        },
        {
          "output_type": "stream",
          "name": "stderr",
          "text": [
            "[Parallel(n_jobs=4)]: Using backend LokyBackend with 4 concurrent workers.\n",
            "[Parallel(n_jobs=4)]: Done  10 out of  10 | elapsed:    0.0s finished\n",
            "[Parallel(n_jobs=4)]: Using backend ThreadingBackend with 4 concurrent workers.\n",
            "[Parallel(n_jobs=4)]: Done  10 out of  10 | elapsed:    0.0s finished\n"
          ]
        },
        {
          "output_type": "stream",
          "name": "stdout",
          "text": [
            "[CV 1/3] END extratreesclassifier__criterion=gini, extratreesclassifier__max_depth=5, extratreesclassifier__max_features=auto, extratreesclassifier__min_samples_leaf=1, extratreesclassifier__min_samples_split=0.1, extratreesclassifier__n_estimators=10, pca__n_components=400;, score=0.530 total time=   0.6s\n"
          ]
        },
        {
          "output_type": "stream",
          "name": "stderr",
          "text": [
            "[Parallel(n_jobs=4)]: Using backend LokyBackend with 4 concurrent workers.\n",
            "[Parallel(n_jobs=4)]: Done  10 out of  10 | elapsed:    0.0s finished\n",
            "[Parallel(n_jobs=4)]: Using backend ThreadingBackend with 4 concurrent workers.\n",
            "[Parallel(n_jobs=4)]: Done  10 out of  10 | elapsed:    0.0s finished\n"
          ]
        },
        {
          "output_type": "stream",
          "name": "stdout",
          "text": [
            "[CV 2/3] END extratreesclassifier__criterion=gini, extratreesclassifier__max_depth=5, extratreesclassifier__max_features=auto, extratreesclassifier__min_samples_leaf=1, extratreesclassifier__min_samples_split=0.1, extratreesclassifier__n_estimators=10, pca__n_components=400;, score=0.494 total time=   0.6s\n"
          ]
        },
        {
          "output_type": "stream",
          "name": "stderr",
          "text": [
            "[Parallel(n_jobs=4)]: Using backend LokyBackend with 4 concurrent workers.\n",
            "[Parallel(n_jobs=4)]: Done  10 out of  10 | elapsed:    0.0s finished\n",
            "[Parallel(n_jobs=4)]: Using backend ThreadingBackend with 4 concurrent workers.\n",
            "[Parallel(n_jobs=4)]: Done  10 out of  10 | elapsed:    0.0s finished\n"
          ]
        },
        {
          "output_type": "stream",
          "name": "stdout",
          "text": [
            "[CV 3/3] END extratreesclassifier__criterion=gini, extratreesclassifier__max_depth=5, extratreesclassifier__max_features=auto, extratreesclassifier__min_samples_leaf=1, extratreesclassifier__min_samples_split=0.1, extratreesclassifier__n_estimators=10, pca__n_components=400;, score=0.529 total time=   0.6s\n"
          ]
        },
        {
          "output_type": "stream",
          "name": "stderr",
          "text": [
            "[Parallel(n_jobs=4)]: Using backend LokyBackend with 4 concurrent workers.\n",
            "[Parallel(n_jobs=4)]: Done  13 out of  20 | elapsed:    0.0s remaining:    0.0s\n",
            "[Parallel(n_jobs=4)]: Done  20 out of  20 | elapsed:    0.0s finished\n",
            "[Parallel(n_jobs=4)]: Using backend ThreadingBackend with 4 concurrent workers.\n",
            "[Parallel(n_jobs=4)]: Done  20 out of  20 | elapsed:    0.0s finished\n"
          ]
        },
        {
          "output_type": "stream",
          "name": "stdout",
          "text": [
            "[CV 1/3] END extratreesclassifier__criterion=gini, extratreesclassifier__max_depth=5, extratreesclassifier__max_features=auto, extratreesclassifier__min_samples_leaf=1, extratreesclassifier__min_samples_split=0.1, extratreesclassifier__n_estimators=20, pca__n_components=100;, score=0.707 total time=   0.3s\n"
          ]
        },
        {
          "output_type": "stream",
          "name": "stderr",
          "text": [
            "[Parallel(n_jobs=4)]: Using backend LokyBackend with 4 concurrent workers.\n",
            "[Parallel(n_jobs=4)]: Done  20 out of  20 | elapsed:    0.0s finished\n",
            "[Parallel(n_jobs=4)]: Using backend ThreadingBackend with 4 concurrent workers.\n",
            "[Parallel(n_jobs=4)]: Done  20 out of  20 | elapsed:    0.0s finished\n"
          ]
        },
        {
          "output_type": "stream",
          "name": "stdout",
          "text": [
            "[CV 2/3] END extratreesclassifier__criterion=gini, extratreesclassifier__max_depth=5, extratreesclassifier__max_features=auto, extratreesclassifier__min_samples_leaf=1, extratreesclassifier__min_samples_split=0.1, extratreesclassifier__n_estimators=20, pca__n_components=100;, score=0.716 total time=   0.3s\n"
          ]
        },
        {
          "output_type": "stream",
          "name": "stderr",
          "text": [
            "[Parallel(n_jobs=4)]: Using backend LokyBackend with 4 concurrent workers.\n",
            "[Parallel(n_jobs=4)]: Done  20 out of  20 | elapsed:    0.0s finished\n",
            "[Parallel(n_jobs=4)]: Using backend ThreadingBackend with 4 concurrent workers.\n",
            "[Parallel(n_jobs=4)]: Done  20 out of  20 | elapsed:    0.0s finished\n"
          ]
        },
        {
          "output_type": "stream",
          "name": "stdout",
          "text": [
            "[CV 3/3] END extratreesclassifier__criterion=gini, extratreesclassifier__max_depth=5, extratreesclassifier__max_features=auto, extratreesclassifier__min_samples_leaf=1, extratreesclassifier__min_samples_split=0.1, extratreesclassifier__n_estimators=20, pca__n_components=100;, score=0.718 total time=   0.3s\n"
          ]
        },
        {
          "output_type": "stream",
          "name": "stderr",
          "text": [
            "[Parallel(n_jobs=4)]: Using backend LokyBackend with 4 concurrent workers.\n",
            "[Parallel(n_jobs=4)]: Done  20 out of  20 | elapsed:    0.0s finished\n",
            "[Parallel(n_jobs=4)]: Using backend ThreadingBackend with 4 concurrent workers.\n",
            "[Parallel(n_jobs=4)]: Done  20 out of  20 | elapsed:    0.0s finished\n"
          ]
        },
        {
          "output_type": "stream",
          "name": "stdout",
          "text": [
            "[CV 1/3] END extratreesclassifier__criterion=gini, extratreesclassifier__max_depth=5, extratreesclassifier__max_features=auto, extratreesclassifier__min_samples_leaf=1, extratreesclassifier__min_samples_split=0.1, extratreesclassifier__n_estimators=20, pca__n_components=150;, score=0.676 total time=   0.4s\n"
          ]
        },
        {
          "output_type": "stream",
          "name": "stderr",
          "text": [
            "[Parallel(n_jobs=4)]: Using backend LokyBackend with 4 concurrent workers.\n",
            "[Parallel(n_jobs=4)]: Done  20 out of  20 | elapsed:    0.0s finished\n",
            "[Parallel(n_jobs=4)]: Using backend ThreadingBackend with 4 concurrent workers.\n",
            "[Parallel(n_jobs=4)]: Done  20 out of  20 | elapsed:    0.0s finished\n"
          ]
        },
        {
          "output_type": "stream",
          "name": "stdout",
          "text": [
            "[CV 2/3] END extratreesclassifier__criterion=gini, extratreesclassifier__max_depth=5, extratreesclassifier__max_features=auto, extratreesclassifier__min_samples_leaf=1, extratreesclassifier__min_samples_split=0.1, extratreesclassifier__n_estimators=20, pca__n_components=150;, score=0.716 total time=   0.4s\n"
          ]
        },
        {
          "output_type": "stream",
          "name": "stderr",
          "text": [
            "[Parallel(n_jobs=4)]: Using backend LokyBackend with 4 concurrent workers.\n",
            "[Parallel(n_jobs=4)]: Done  20 out of  20 | elapsed:    0.0s finished\n",
            "[Parallel(n_jobs=4)]: Using backend ThreadingBackend with 4 concurrent workers.\n",
            "[Parallel(n_jobs=4)]: Done  20 out of  20 | elapsed:    0.0s finished\n"
          ]
        },
        {
          "output_type": "stream",
          "name": "stdout",
          "text": [
            "[CV 3/3] END extratreesclassifier__criterion=gini, extratreesclassifier__max_depth=5, extratreesclassifier__max_features=auto, extratreesclassifier__min_samples_leaf=1, extratreesclassifier__min_samples_split=0.1, extratreesclassifier__n_estimators=20, pca__n_components=150;, score=0.696 total time=   0.4s\n"
          ]
        },
        {
          "output_type": "stream",
          "name": "stderr",
          "text": [
            "[Parallel(n_jobs=4)]: Using backend LokyBackend with 4 concurrent workers.\n",
            "[Parallel(n_jobs=4)]: Done  20 out of  20 | elapsed:    0.0s finished\n",
            "[Parallel(n_jobs=4)]: Using backend ThreadingBackend with 4 concurrent workers.\n",
            "[Parallel(n_jobs=4)]: Done  20 out of  20 | elapsed:    0.0s finished\n"
          ]
        },
        {
          "output_type": "stream",
          "name": "stdout",
          "text": [
            "[CV 1/3] END extratreesclassifier__criterion=gini, extratreesclassifier__max_depth=5, extratreesclassifier__max_features=auto, extratreesclassifier__min_samples_leaf=1, extratreesclassifier__min_samples_split=0.1, extratreesclassifier__n_estimators=20, pca__n_components=200;, score=0.675 total time=   0.5s\n"
          ]
        },
        {
          "output_type": "stream",
          "name": "stderr",
          "text": [
            "[Parallel(n_jobs=4)]: Using backend LokyBackend with 4 concurrent workers.\n",
            "[Parallel(n_jobs=4)]: Done  20 out of  20 | elapsed:    0.0s finished\n",
            "[Parallel(n_jobs=4)]: Using backend ThreadingBackend with 4 concurrent workers.\n",
            "[Parallel(n_jobs=4)]: Done  20 out of  20 | elapsed:    0.0s finished\n"
          ]
        },
        {
          "output_type": "stream",
          "name": "stdout",
          "text": [
            "[CV 2/3] END extratreesclassifier__criterion=gini, extratreesclassifier__max_depth=5, extratreesclassifier__max_features=auto, extratreesclassifier__min_samples_leaf=1, extratreesclassifier__min_samples_split=0.1, extratreesclassifier__n_estimators=20, pca__n_components=200;, score=0.677 total time=   0.5s\n"
          ]
        },
        {
          "output_type": "stream",
          "name": "stderr",
          "text": [
            "[Parallel(n_jobs=4)]: Using backend LokyBackend with 4 concurrent workers.\n",
            "[Parallel(n_jobs=4)]: Done  20 out of  20 | elapsed:    0.0s finished\n",
            "[Parallel(n_jobs=4)]: Using backend ThreadingBackend with 4 concurrent workers.\n",
            "[Parallel(n_jobs=4)]: Done  20 out of  20 | elapsed:    0.0s finished\n"
          ]
        },
        {
          "output_type": "stream",
          "name": "stdout",
          "text": [
            "[CV 3/3] END extratreesclassifier__criterion=gini, extratreesclassifier__max_depth=5, extratreesclassifier__max_features=auto, extratreesclassifier__min_samples_leaf=1, extratreesclassifier__min_samples_split=0.1, extratreesclassifier__n_estimators=20, pca__n_components=200;, score=0.667 total time=   0.5s\n"
          ]
        },
        {
          "output_type": "stream",
          "name": "stderr",
          "text": [
            "[Parallel(n_jobs=4)]: Using backend LokyBackend with 4 concurrent workers.\n",
            "[Parallel(n_jobs=4)]: Done  20 out of  20 | elapsed:    0.0s finished\n",
            "[Parallel(n_jobs=4)]: Using backend ThreadingBackend with 4 concurrent workers.\n",
            "[Parallel(n_jobs=4)]: Done  20 out of  20 | elapsed:    0.0s finished\n"
          ]
        },
        {
          "output_type": "stream",
          "name": "stdout",
          "text": [
            "[CV 1/3] END extratreesclassifier__criterion=gini, extratreesclassifier__max_depth=5, extratreesclassifier__max_features=auto, extratreesclassifier__min_samples_leaf=1, extratreesclassifier__min_samples_split=0.1, extratreesclassifier__n_estimators=20, pca__n_components=300;, score=0.708 total time=   0.7s\n"
          ]
        },
        {
          "output_type": "stream",
          "name": "stderr",
          "text": [
            "[Parallel(n_jobs=4)]: Using backend LokyBackend with 4 concurrent workers.\n",
            "[Parallel(n_jobs=4)]: Done  20 out of  20 | elapsed:    0.0s finished\n",
            "[Parallel(n_jobs=4)]: Using backend ThreadingBackend with 4 concurrent workers.\n",
            "[Parallel(n_jobs=4)]: Done  20 out of  20 | elapsed:    0.0s finished\n"
          ]
        },
        {
          "output_type": "stream",
          "name": "stdout",
          "text": [
            "[CV 2/3] END extratreesclassifier__criterion=gini, extratreesclassifier__max_depth=5, extratreesclassifier__max_features=auto, extratreesclassifier__min_samples_leaf=1, extratreesclassifier__min_samples_split=0.1, extratreesclassifier__n_estimators=20, pca__n_components=300;, score=0.676 total time=   0.7s\n"
          ]
        },
        {
          "output_type": "stream",
          "name": "stderr",
          "text": [
            "[Parallel(n_jobs=4)]: Using backend LokyBackend with 4 concurrent workers.\n",
            "[Parallel(n_jobs=4)]: Done  20 out of  20 | elapsed:    0.0s finished\n",
            "[Parallel(n_jobs=4)]: Using backend ThreadingBackend with 4 concurrent workers.\n",
            "[Parallel(n_jobs=4)]: Done  20 out of  20 | elapsed:    0.0s finished\n"
          ]
        },
        {
          "output_type": "stream",
          "name": "stdout",
          "text": [
            "[CV 3/3] END extratreesclassifier__criterion=gini, extratreesclassifier__max_depth=5, extratreesclassifier__max_features=auto, extratreesclassifier__min_samples_leaf=1, extratreesclassifier__min_samples_split=0.1, extratreesclassifier__n_estimators=20, pca__n_components=300;, score=0.648 total time=   0.6s\n"
          ]
        },
        {
          "output_type": "stream",
          "name": "stderr",
          "text": [
            "[Parallel(n_jobs=4)]: Using backend LokyBackend with 4 concurrent workers.\n",
            "[Parallel(n_jobs=4)]: Done  20 out of  20 | elapsed:    0.0s finished\n",
            "[Parallel(n_jobs=4)]: Using backend ThreadingBackend with 4 concurrent workers.\n",
            "[Parallel(n_jobs=4)]: Done  20 out of  20 | elapsed:    0.0s finished\n"
          ]
        },
        {
          "output_type": "stream",
          "name": "stdout",
          "text": [
            "[CV 1/3] END extratreesclassifier__criterion=gini, extratreesclassifier__max_depth=5, extratreesclassifier__max_features=auto, extratreesclassifier__min_samples_leaf=1, extratreesclassifier__min_samples_split=0.1, extratreesclassifier__n_estimators=20, pca__n_components=400;, score=0.614 total time=   0.7s\n"
          ]
        },
        {
          "output_type": "stream",
          "name": "stderr",
          "text": [
            "[Parallel(n_jobs=4)]: Using backend LokyBackend with 4 concurrent workers.\n",
            "[Parallel(n_jobs=4)]: Done  20 out of  20 | elapsed:    0.0s finished\n",
            "[Parallel(n_jobs=4)]: Using backend ThreadingBackend with 4 concurrent workers.\n",
            "[Parallel(n_jobs=4)]: Done  20 out of  20 | elapsed:    0.0s finished\n"
          ]
        },
        {
          "output_type": "stream",
          "name": "stdout",
          "text": [
            "[CV 2/3] END extratreesclassifier__criterion=gini, extratreesclassifier__max_depth=5, extratreesclassifier__max_features=auto, extratreesclassifier__min_samples_leaf=1, extratreesclassifier__min_samples_split=0.1, extratreesclassifier__n_estimators=20, pca__n_components=400;, score=0.681 total time=   0.6s\n"
          ]
        },
        {
          "output_type": "stream",
          "name": "stderr",
          "text": [
            "[Parallel(n_jobs=4)]: Using backend LokyBackend with 4 concurrent workers.\n",
            "[Parallel(n_jobs=4)]: Done  20 out of  20 | elapsed:    0.0s finished\n",
            "[Parallel(n_jobs=4)]: Using backend ThreadingBackend with 4 concurrent workers.\n",
            "[Parallel(n_jobs=4)]: Done  20 out of  20 | elapsed:    0.0s finished\n"
          ]
        },
        {
          "output_type": "stream",
          "name": "stdout",
          "text": [
            "[CV 3/3] END extratreesclassifier__criterion=gini, extratreesclassifier__max_depth=5, extratreesclassifier__max_features=auto, extratreesclassifier__min_samples_leaf=1, extratreesclassifier__min_samples_split=0.1, extratreesclassifier__n_estimators=20, pca__n_components=400;, score=0.702 total time=   0.6s\n"
          ]
        },
        {
          "output_type": "stream",
          "name": "stderr",
          "text": [
            "[Parallel(n_jobs=4)]: Using backend LokyBackend with 4 concurrent workers.\n",
            "[Parallel(n_jobs=4)]: Done  50 out of  50 | elapsed:    0.0s finished\n",
            "[Parallel(n_jobs=4)]: Using backend ThreadingBackend with 4 concurrent workers.\n",
            "[Parallel(n_jobs=4)]: Done  33 tasks      | elapsed:    0.0s\n",
            "[Parallel(n_jobs=4)]: Done  50 out of  50 | elapsed:    0.0s finished\n"
          ]
        },
        {
          "output_type": "stream",
          "name": "stdout",
          "text": [
            "[CV 1/3] END extratreesclassifier__criterion=gini, extratreesclassifier__max_depth=5, extratreesclassifier__max_features=auto, extratreesclassifier__min_samples_leaf=1, extratreesclassifier__min_samples_split=0.1, extratreesclassifier__n_estimators=50, pca__n_components=100;, score=0.785 total time=   0.3s\n"
          ]
        },
        {
          "output_type": "stream",
          "name": "stderr",
          "text": [
            "[Parallel(n_jobs=4)]: Using backend LokyBackend with 4 concurrent workers.\n",
            "[Parallel(n_jobs=4)]: Done  50 out of  50 | elapsed:    0.0s finished\n",
            "[Parallel(n_jobs=4)]: Using backend ThreadingBackend with 4 concurrent workers.\n",
            "[Parallel(n_jobs=4)]: Done  33 tasks      | elapsed:    0.0s\n",
            "[Parallel(n_jobs=4)]: Done  50 out of  50 | elapsed:    0.0s finished\n"
          ]
        },
        {
          "output_type": "stream",
          "name": "stdout",
          "text": [
            "[CV 2/3] END extratreesclassifier__criterion=gini, extratreesclassifier__max_depth=5, extratreesclassifier__max_features=auto, extratreesclassifier__min_samples_leaf=1, extratreesclassifier__min_samples_split=0.1, extratreesclassifier__n_estimators=50, pca__n_components=100;, score=0.797 total time=   0.3s\n"
          ]
        },
        {
          "output_type": "stream",
          "name": "stderr",
          "text": [
            "[Parallel(n_jobs=4)]: Using backend LokyBackend with 4 concurrent workers.\n",
            "[Parallel(n_jobs=4)]: Done  50 out of  50 | elapsed:    0.0s finished\n",
            "[Parallel(n_jobs=4)]: Using backend ThreadingBackend with 4 concurrent workers.\n",
            "[Parallel(n_jobs=4)]: Done  33 tasks      | elapsed:    0.0s\n",
            "[Parallel(n_jobs=4)]: Done  50 out of  50 | elapsed:    0.0s finished\n"
          ]
        },
        {
          "output_type": "stream",
          "name": "stdout",
          "text": [
            "[CV 3/3] END extratreesclassifier__criterion=gini, extratreesclassifier__max_depth=5, extratreesclassifier__max_features=auto, extratreesclassifier__min_samples_leaf=1, extratreesclassifier__min_samples_split=0.1, extratreesclassifier__n_estimators=50, pca__n_components=100;, score=0.779 total time=   0.3s\n"
          ]
        },
        {
          "output_type": "stream",
          "name": "stderr",
          "text": [
            "[Parallel(n_jobs=4)]: Using backend LokyBackend with 4 concurrent workers.\n",
            "[Parallel(n_jobs=4)]: Done  50 out of  50 | elapsed:    0.0s finished\n",
            "[Parallel(n_jobs=4)]: Using backend ThreadingBackend with 4 concurrent workers.\n",
            "[Parallel(n_jobs=4)]: Done  33 tasks      | elapsed:    0.0s\n",
            "[Parallel(n_jobs=4)]: Done  50 out of  50 | elapsed:    0.0s finished\n"
          ]
        },
        {
          "output_type": "stream",
          "name": "stdout",
          "text": [
            "[CV 1/3] END extratreesclassifier__criterion=gini, extratreesclassifier__max_depth=5, extratreesclassifier__max_features=auto, extratreesclassifier__min_samples_leaf=1, extratreesclassifier__min_samples_split=0.1, extratreesclassifier__n_estimators=50, pca__n_components=150;, score=0.783 total time=   0.4s\n"
          ]
        },
        {
          "output_type": "stream",
          "name": "stderr",
          "text": [
            "[Parallel(n_jobs=4)]: Using backend LokyBackend with 4 concurrent workers.\n",
            "[Parallel(n_jobs=4)]: Done  50 out of  50 | elapsed:    0.0s finished\n",
            "[Parallel(n_jobs=4)]: Using backend ThreadingBackend with 4 concurrent workers.\n",
            "[Parallel(n_jobs=4)]: Done  33 tasks      | elapsed:    0.0s\n",
            "[Parallel(n_jobs=4)]: Done  50 out of  50 | elapsed:    0.0s finished\n"
          ]
        }
      ],
      "source": [
        "def get_best_params(pipe, X, y):\n",
        "    start_time = time()\n",
        "    pipe.fit(X, y)\n",
        "    print(\"done in %0.3fs\" % (time() - start_time))\n",
        "    print(\"Best parameter (CV score=%0.3f):\" % pipe.best_score_)\n",
        "    print(pipe.best_params_)\n",
        "    return pipe\n",
        "\n",
        "pipe = get_best_params(pipe, x_educate, y_educate)"
      ]
    },
    {
      "cell_type": "markdown",
      "source": [
        "Переходим к самому обучению модели и проверки результатов:"
      ],
      "metadata": {
        "id": "7Y4ojjleuM4v"
      }
    },
    {
      "cell_type": "code",
      "execution_count": 172,
      "metadata": {
        "colab": {
          "base_uri": "https://localhost:8080/"
        },
        "id": "heZxuaKfWlf5",
        "outputId": "4e95976a-2cd4-43ff-e401-f9e5d112cf36"
      },
      "outputs": [
        {
          "output_type": "stream",
          "name": "stderr",
          "text": [
            "[Parallel(n_jobs=4)]: Using backend ThreadingBackend with 4 concurrent workers.\n",
            "[Parallel(n_jobs=4)]: Done  42 tasks      | elapsed:    0.0s\n",
            "[Parallel(n_jobs=4)]: Done 192 tasks      | elapsed:    0.2s\n",
            "[Parallel(n_jobs=4)]: Done 200 out of 200 | elapsed:    0.2s finished\n",
            "[Parallel(n_jobs=4)]: Using backend ThreadingBackend with 4 concurrent workers.\n",
            "[Parallel(n_jobs=4)]: Done  42 tasks      | elapsed:    0.0s\n",
            "[Parallel(n_jobs=4)]: Done 192 tasks      | elapsed:    0.0s\n",
            "[Parallel(n_jobs=4)]: Done 200 out of 200 | elapsed:    0.0s finished\n"
          ]
        },
        {
          "output_type": "execute_result",
          "data": {
            "text/plain": [
              "Pipeline(steps=[('pca', PCA(n_components=100)),\n",
              "                ('extratreesclassifier',\n",
              "                 ExtraTreesClassifier(class_weight='balanced', max_depth=20,\n",
              "                                      max_features='log2', min_samples_split=10,\n",
              "                                      n_estimators=200, n_jobs=4, verbose=1))])"
            ]
          },
          "metadata": {},
          "execution_count": 172
        }
      ],
      "source": [
        "trees_params = {\n",
        "    'criterion': 'gini',\n",
        "    'max_depth': 20,\n",
        "    'max_features': 'log2',\n",
        "    'min_samples_leaf': 1,\n",
        "    'min_samples_split': 10,\n",
        "    'n_estimators': 200\n",
        "    }\n",
        "first_model = make_pipeline(PCA(100), ExtraTreesClassifier(class_weight='balanced',\n",
        "                                                           n_jobs=4, verbose=1,\n",
        "                                                           **trees_params))\n",
        "second_model = make_pipeline(PCA(100), ExtraTreesClassifier(class_weight='balanced',\n",
        "                                                            n_jobs=4, verbose=1,\n",
        "                                                            **trees_params))\n",
        "\n",
        "\n",
        "first_model.fit(x_educate, y_educate)\n",
        "second_model.fit(x_nf_educate, y_nf_educate)"
      ]
    },
    {
      "cell_type": "code",
      "execution_count": 173,
      "metadata": {
        "colab": {
          "base_uri": "https://localhost:8080/"
        },
        "id": "16O603NHYbhg",
        "outputId": "4ac99ca2-c91e-4e83-ec0b-e94e8c0fa7d2"
      },
      "outputs": [
        {
          "output_type": "stream",
          "name": "stderr",
          "text": [
            "[Parallel(n_jobs=4)]: Using backend ThreadingBackend with 4 concurrent workers.\n",
            "[Parallel(n_jobs=4)]: Done  42 tasks      | elapsed:    0.0s\n",
            "[Parallel(n_jobs=4)]: Done 192 tasks      | elapsed:    0.0s\n",
            "[Parallel(n_jobs=4)]: Done 200 out of 200 | elapsed:    0.0s finished\n",
            "[Parallel(n_jobs=4)]: Using backend ThreadingBackend with 4 concurrent workers.\n",
            "[Parallel(n_jobs=4)]: Done  42 tasks      | elapsed:    0.0s\n",
            "[Parallel(n_jobs=4)]: Done 192 tasks      | elapsed:    0.0s\n",
            "[Parallel(n_jobs=4)]: Done 200 out of 200 | elapsed:    0.0s finished\n"
          ]
        }
      ],
      "source": [
        "preds_1 = first_model.predict(x_check)\n",
        "preds_2 = second_model.predict(x_nf_check)"
      ]
    },
    {
      "cell_type": "code",
      "execution_count": 174,
      "metadata": {
        "colab": {
          "base_uri": "https://localhost:8080/"
        },
        "id": "spQSNlHlYbhh",
        "outputId": "788f8ecf-3e5e-4af6-cbb4-c72ebfc9f98e"
      },
      "outputs": [
        {
          "output_type": "stream",
          "name": "stdout",
          "text": [
            "FIRST_MODEL:  0.9715504978662873\n",
            "SECOND MODEL:  0.9543859649122807\n"
          ]
        }
      ],
      "source": [
        "print('FIRST_MODEL: ', accuracy_score(y_check, preds_1))\n",
        "print('SECOND MODEL: ', accuracy_score(y_nf_check, preds_2))"
      ]
    },
    {
      "cell_type": "markdown",
      "source": [
        "Private score: 0.89569\n",
        "\n",
        "\n",
        "\n",
        "---\n",
        "\n"
      ],
      "metadata": {
        "id": "Px_g-wHCQhGA"
      }
    },
    {
      "cell_type": "markdown",
      "metadata": {
        "id": "WoXiAyJSDq3T"
      },
      "source": [
        "И проверим StackingClassifier:"
      ]
    },
    {
      "cell_type": "markdown",
      "source": [
        "С StandardScaler:"
      ],
      "metadata": {
        "id": "MuLX7ODFQz3r"
      }
    },
    {
      "cell_type": "code",
      "execution_count": 175,
      "metadata": {
        "colab": {
          "base_uri": "https://localhost:8080/"
        },
        "id": "lDW59kx8Dq_w",
        "outputId": "e98ba6e1-f110-4692-8d07-cf1c4254ffdb"
      },
      "outputs": [
        {
          "output_type": "execute_result",
          "data": {
            "text/plain": [
              "Pipeline(steps=[('standardscaler', StandardScaler()),\n",
              "                ('pca', PCA(n_components=120)), ('svc', SVC(C=50))])"
            ]
          },
          "metadata": {},
          "execution_count": 175
        }
      ],
      "source": [
        "def get_stacked_estimator():\n",
        "    estimators = [('forest', RandomForestClassifier(n_estimators=200, max_depth=20, min_samples_split=10, n_jobs=4, verbose=0)),\n",
        "                ('svm', SVC(class_weight='balanced', C=100, gamma='scale'))]\n",
        "    final_clf = SVC(C=50)\n",
        "    stacked = StackingClassifier(estimators=estimators, final_estimator=final_clf)\n",
        "    return final_clf\n",
        "\n",
        "first_model = make_pipeline(preprocessing.StandardScaler(), PCA(120),\n",
        "                            get_stacked_estimator())\n",
        "second_model = make_pipeline(preprocessing.StandardScaler(), PCA(120),\n",
        "                             get_stacked_estimator())"
      ]
    },
    {
      "cell_type": "code",
      "source": [
        "first_model.fit(x_educate, y_educate)\n",
        "second_model.fit(x_nf_educate, y_nf_educate)"
      ],
      "metadata": {
        "colab": {
          "base_uri": "https://localhost:8080/"
        },
        "id": "2tWPrZf6uygh",
        "outputId": "dd641107-aeae-4e89-e414-acbc5d19fb33"
      },
      "execution_count": 176,
      "outputs": [
        {
          "output_type": "execute_result",
          "data": {
            "text/plain": [
              "Pipeline(steps=[('standardscaler', StandardScaler()),\n",
              "                ('pca', PCA(n_components=120)), ('svc', SVC(C=50))])"
            ]
          },
          "metadata": {},
          "execution_count": 176
        }
      ]
    },
    {
      "cell_type": "code",
      "source": [
        "preds_1 = first_model.predict(x_check)\n",
        "preds_2 = second_model.predict(x_nf_check)"
      ],
      "metadata": {
        "id": "2ainyfVOvCQe"
      },
      "execution_count": 177,
      "outputs": []
    },
    {
      "cell_type": "code",
      "source": [
        "print('FIRST_MODEL: ', accuracy_score(y_check, preds_1))\n",
        "print('SECOND MODEL: ', accuracy_score(y_nf_check, preds_2))"
      ],
      "metadata": {
        "colab": {
          "base_uri": "https://localhost:8080/"
        },
        "id": "OKd9pmbgvEGg",
        "outputId": "0be8cefb-9350-4f80-9822-cd0200348f3e"
      },
      "execution_count": 178,
      "outputs": [
        {
          "output_type": "stream",
          "name": "stdout",
          "text": [
            "FIRST_MODEL:  0.9861308677098151\n",
            "SECOND MODEL:  0.968421052631579\n"
          ]
        }
      ]
    },
    {
      "cell_type": "markdown",
      "source": [
        "Private score: 0.96937\n",
        "\n",
        "---"
      ],
      "metadata": {
        "id": "-4vSfMuaRbF8"
      }
    },
    {
      "cell_type": "markdown",
      "source": [
        "C MinMaxScaler:"
      ],
      "metadata": {
        "id": "Nsk2MMeARIpU"
      }
    },
    {
      "cell_type": "code",
      "source": [
        "first_model = make_pipeline(preprocessing.MinMaxScaler (), PCA(120),\n",
        "                            get_stacked_estimator())\n",
        "second_model = make_pipeline(preprocessing.MinMaxScaler (), PCA(120),\n",
        "                             get_stacked_estimator())"
      ],
      "metadata": {
        "id": "8RKlkRveQ42Z"
      },
      "execution_count": 179,
      "outputs": []
    },
    {
      "cell_type": "code",
      "source": [
        "first_model.fit(x_educate, y_educate)\n",
        "second_model.fit(x_nf_educate, y_nf_educate)"
      ],
      "metadata": {
        "colab": {
          "base_uri": "https://localhost:8080/"
        },
        "outputId": "56e00c93-fce5-4fd5-8e57-4dcfa932cc4c",
        "id": "y7EjxeLYRGt0"
      },
      "execution_count": 180,
      "outputs": [
        {
          "output_type": "execute_result",
          "data": {
            "text/plain": [
              "Pipeline(steps=[('minmaxscaler', MinMaxScaler()),\n",
              "                ('pca', PCA(n_components=120)), ('svc', SVC(C=50))])"
            ]
          },
          "metadata": {},
          "execution_count": 180
        }
      ]
    },
    {
      "cell_type": "code",
      "source": [
        "preds_1 = first_model.predict(x_check)\n",
        "preds_2 = second_model.predict(x_nf_check)"
      ],
      "metadata": {
        "id": "vVo4G7ynRGt1"
      },
      "execution_count": 181,
      "outputs": []
    },
    {
      "cell_type": "code",
      "source": [
        "print('FIRST_MODEL: ', accuracy_score(y_check, preds_1))\n",
        "print('SECOND MODEL: ', accuracy_score(y_nf_check, preds_2))"
      ],
      "metadata": {
        "colab": {
          "base_uri": "https://localhost:8080/"
        },
        "outputId": "710ddb80-dce4-4137-e065-d066f8160358",
        "id": "J7xdvxlKRGt1"
      },
      "execution_count": 182,
      "outputs": [
        {
          "output_type": "stream",
          "name": "stdout",
          "text": [
            "FIRST_MODEL:  0.9882645803698435\n",
            "SECOND MODEL:  0.9649122807017544\n"
          ]
        }
      ]
    },
    {
      "cell_type": "markdown",
      "source": [
        "Private score: 0.96459\n",
        "\n",
        "---"
      ],
      "metadata": {
        "id": "8_sRXhtmRcNK"
      }
    },
    {
      "cell_type": "markdown",
      "metadata": {
        "id": "CALXX0PB0vTZ"
      },
      "source": [
        "# Итог"
      ]
    },
    {
      "cell_type": "markdown",
      "source": [
        "В качестве оцениваемых результатов были выбраны предсказания от StackingClassifier с StandardScaler и MinMaxScaler."
      ],
      "metadata": {
        "id": "QXuo9FjZRmGe"
      }
    },
    {
      "cell_type": "code",
      "source": [
        "first_model.fit(train_faces, train_faces_labels)\n",
        "second_model.fit(train_no_faces, train_no_faces_labels)"
      ],
      "metadata": {
        "colab": {
          "base_uri": "https://localhost:8080/"
        },
        "id": "0SY8fsBiREKR",
        "outputId": "5fe9d530-4498-4eff-ccd8-ec0c163f5a1f"
      },
      "execution_count": 183,
      "outputs": [
        {
          "output_type": "execute_result",
          "data": {
            "text/plain": [
              "Pipeline(steps=[('minmaxscaler', MinMaxScaler()),\n",
              "                ('pca', PCA(n_components=120)), ('svc', SVC(C=50))])"
            ]
          },
          "metadata": {},
          "execution_count": 183
        }
      ]
    },
    {
      "cell_type": "code",
      "execution_count": 184,
      "metadata": {
        "id": "KO2WlOGbsqxp"
      },
      "outputs": [],
      "source": [
        "test_preds_1 = first_model.predict(test_faces)\n",
        "test_preds_2 = second_model.predict(test_no_faces)"
      ]
    },
    {
      "cell_type": "code",
      "source": [
        "preds = np.concatenate([test_preds_1, test_preds_2])\n",
        "labels = np.concatenate([test_faces_labels, test_no_faces_labels])\n",
        "pairs = sorted(zip(labels, preds), key=lambda x: int(x[0].split('.')[0].split('image')[1]))\n",
        "pred_df = pd.DataFrame(pairs, columns = ['img_name', 'pred_class'])\n",
        "pred_df.to_csv(\"submission.csv\", index=False)\n",
        "pred_df.head()"
      ],
      "metadata": {
        "colab": {
          "base_uri": "https://localhost:8080/",
          "height": 206
        },
        "id": "BP9ndbjGuwzA",
        "outputId": "a8749fc7-15c0-4e0d-94c9-fccb3cc89ec3"
      },
      "execution_count": 185,
      "outputs": [
        {
          "output_type": "execute_result",
          "data": {
            "text/plain": [
              "     img_name  pred_class\n",
              "0  image0.png           6\n",
              "1  image1.png           3\n",
              "2  image2.png           4\n",
              "3  image3.png           1\n",
              "4  image4.png           0"
            ],
            "text/html": [
              "<div>\n",
              "<style scoped>\n",
              "    .dataframe tbody tr th:only-of-type {\n",
              "        vertical-align: middle;\n",
              "    }\n",
              "\n",
              "    .dataframe tbody tr th {\n",
              "        vertical-align: top;\n",
              "    }\n",
              "\n",
              "    .dataframe thead th {\n",
              "        text-align: right;\n",
              "    }\n",
              "</style>\n",
              "<table border=\"1\" class=\"dataframe\">\n",
              "  <thead>\n",
              "    <tr style=\"text-align: right;\">\n",
              "      <th></th>\n",
              "      <th>img_name</th>\n",
              "      <th>pred_class</th>\n",
              "    </tr>\n",
              "  </thead>\n",
              "  <tbody>\n",
              "    <tr>\n",
              "      <th>0</th>\n",
              "      <td>image0.png</td>\n",
              "      <td>6</td>\n",
              "    </tr>\n",
              "    <tr>\n",
              "      <th>1</th>\n",
              "      <td>image1.png</td>\n",
              "      <td>3</td>\n",
              "    </tr>\n",
              "    <tr>\n",
              "      <th>2</th>\n",
              "      <td>image2.png</td>\n",
              "      <td>4</td>\n",
              "    </tr>\n",
              "    <tr>\n",
              "      <th>3</th>\n",
              "      <td>image3.png</td>\n",
              "      <td>1</td>\n",
              "    </tr>\n",
              "    <tr>\n",
              "      <th>4</th>\n",
              "      <td>image4.png</td>\n",
              "      <td>0</td>\n",
              "    </tr>\n",
              "  </tbody>\n",
              "</table>\n",
              "</div>"
            ]
          },
          "metadata": {},
          "execution_count": 185
        }
      ]
    },
    {
      "cell_type": "markdown",
      "source": [
        "**Public score:**\n",
        "\n",
        "\n",
        "\n",
        "*   StandardScaler -- Score: 0.9665\n",
        "*   MinMaxScaler -- Score: 0.96842\n",
        "\n"
      ],
      "metadata": {
        "id": "E-m5yfxnR2gB"
      }
    },
    {
      "cell_type": "markdown",
      "source": [
        "Результаты предсказаний остальных модели получили public score хуже."
      ],
      "metadata": {
        "id": "MqweVq8ISHGE"
      }
    }
  ],
  "metadata": {
    "colab": {
      "provenance": []
    },
    "kernelspec": {
      "display_name": "Python 3",
      "name": "python3"
    },
    "language_info": {
      "name": "python"
    }
  },
  "nbformat": 4,
  "nbformat_minor": 0
}